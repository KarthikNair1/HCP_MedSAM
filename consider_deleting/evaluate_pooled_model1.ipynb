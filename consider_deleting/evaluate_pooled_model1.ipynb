{
 "cells": [
  {
   "cell_type": "code",
   "execution_count": 1,
   "metadata": {},
   "outputs": [],
   "source": [
    "import numpy as np\n",
    "import matplotlib.pyplot as plt\n",
    "import os\n",
    "from tqdm import tqdm\n",
    "import torch\n",
    "from torch.utils.data import Dataset, DataLoader\n",
    "from glob import glob\n",
    "import pandas as pd\n",
    "import pickle\n",
    "from torch.utils.data import RandomSampler\n",
    "import random\n",
    "import scipy\n",
    "import torch.nn.functional as F\n",
    "from PIL import Image\n",
    "from glob import glob\n",
    "import wandb\n",
    "import re\n",
    "from adjustText import adjust_text\n",
    "import seaborn as sns\n",
    "import scipy\n",
    "import statannot\n",
    "\n",
    "from MedSAM_HCP.utils_hcp import *\n",
    "from MedSAM_HCP.dataset import *"
   ]
  },
  {
   "cell_type": "code",
   "execution_count": null,
   "metadata": {},
   "outputs": [],
   "source": [
    "model_path = '/gpfs/data/luilab/karthik/pediatric_seg_proj/results_copied_from_kn2347/pooled_labels_8-20-23/MedSAM_finetune_hcp_ya_second_round_with_bbox-20230820-215516/medsam_model_best.pth'\n",
    "convert_medsam_checkpt_to_readable_for_sam(model_path, to_save_dir = '/gpfs/data/luilab/karthik/pediatric_seg_proj/results_copied_from_kn2347/pooled_labels_8-20-23/model_best_20230820-215516.pth')"
   ]
  },
  {
   "cell_type": "code",
   "execution_count": 2,
   "metadata": {},
   "outputs": [],
   "source": [
    "df_hcp = pd.read_csv('/gpfs/home/kn2347/MedSAM/hcp_mapping_processed.csv')\n",
    "df_desired = pd.read_csv('/gpfs/home/kn2347/MedSAM/darts_name_class_mapping_processed.csv')\n",
    "NUM_CLASSES = len(df_desired)\n",
    "label_converter = LabelConverter(df_hcp, df_desired)\n",
    "\n",
    "\n",
    "checkpoint = '/gpfs/data/luilab/karthik/pediatric_seg_proj/results_copied_from_kn2347/pooled_labels_8-20-23/model_best_20230820-215516.pth'\n",
    "device = 'cuda:0'\n",
    "sam_model = build_sam_vit_b_multiclass(NUM_CLASSES, checkpoint=checkpoint).to(device)\n",
    "sam_model.eval()\n",
    "\n",
    "path_df_path = '/gpfs/data/luilab/karthik/pediatric_seg_proj/per_class_isolated_df/yolov7/path_df_pooled_labels_only_with_bbox_yolov7.csv'\n",
    "train_test_splits_path = '/gpfs/data/luilab/karthik/pediatric_seg_proj/train_val_test_split.pickle'\n",
    "train_dataset, val_dataset, test_dataset = load_datasets(path_df_path, train_test_splits_path, label_id = None, bbox_shift=0, sample_n_slices = None, label_converter= label_converter, NUM_CLASSES=NUM_CLASSES, as_one_hot=True, pool_labels=True)\n"
   ]
  },
  {
   "cell_type": "code",
   "execution_count": 3,
   "metadata": {},
   "outputs": [
    {
     "name": "stderr",
     "output_type": "stream",
     "text": [
      "  0%|          | 0/6132 [00:33<?, ?it/s]\n"
     ]
    },
    {
     "ename": "OutOfMemoryError",
     "evalue": "CUDA out of memory. Tried to allocate 256.00 MiB (GPU 0; 15.78 GiB total capacity; 13.69 GiB already allocated; 128.00 MiB free; 14.51 GiB reserved in total by PyTorch) If reserved memory is >> allocated memory try setting max_split_size_mb to avoid fragmentation.  See documentation for Memory Management and PYTORCH_CUDA_ALLOC_CONF",
     "output_type": "error",
     "traceback": [
      "\u001b[0;31m---------------------------------------------------------------------------\u001b[0m",
      "\u001b[0;31mOutOfMemoryError\u001b[0m                          Traceback (most recent call last)",
      "Cell \u001b[0;32mIn[3], line 17\u001b[0m\n\u001b[1;32m     15\u001b[0m label_numbers \u001b[39m=\u001b[39m lab_nums[batch_sz\u001b[39m*\u001b[39mstep:batch_sz\u001b[39m*\u001b[39m(step\u001b[39m+\u001b[39m\u001b[39m1\u001b[39m)]\n\u001b[1;32m     16\u001b[0m image_embedding, gt2D, boxes \u001b[39m=\u001b[39m image_embedding\u001b[39m.\u001b[39mcuda(), gt2D\u001b[39m.\u001b[39mcuda(), boxes\u001b[39m.\u001b[39mcuda()\n\u001b[0;32m---> 17\u001b[0m medsam_pred \u001b[39m=\u001b[39m torch\u001b[39m.\u001b[39mas_tensor(medsam_inference(sam_model, image_embedding, boxes, \u001b[39m256\u001b[39;49m, \u001b[39m256\u001b[39;49m, as_one_hot\u001b[39m=\u001b[39;49m\u001b[39mTrue\u001b[39;49;00m, model_trained_on_multi_label\u001b[39m=\u001b[39;49m\u001b[39mFalse\u001b[39;49;00m), dtype\u001b[39m=\u001b[39mtorch\u001b[39m.\u001b[39muint8)\u001b[39m.\u001b[39mcuda()\n\u001b[1;32m     18\u001b[0m pred \u001b[39m=\u001b[39m medsam_pred[:,\u001b[39m0\u001b[39m:\u001b[39m1\u001b[39m,:,:] \u001b[39m# B, 103, H, W -> B, 1, H, W\u001b[39;00m\n\u001b[1;32m     21\u001b[0m subset_gt \u001b[39m=\u001b[39m torch\u001b[39m.\u001b[39mtake_along_dim(gt2D, label_numbers[:, \u001b[39mNone\u001b[39;00m, \u001b[39mNone\u001b[39;00m, \u001b[39mNone\u001b[39;00m], dim\u001b[39m=\u001b[39m\u001b[39m1\u001b[39m)\u001b[39m.\u001b[39mlong()\n",
      "File \u001b[0;32m~/MedSAM/MedSAM_HCP/MedSAM.py:96\u001b[0m, in \u001b[0;36mmedsam_inference\u001b[0;34m(medsam_model, img_embed, box_1024, H, W, as_one_hot, model_trained_on_multi_label)\u001b[0m\n\u001b[1;32m     90\u001b[0m     box_torch \u001b[39m=\u001b[39m box_torch[:, \u001b[39mNone\u001b[39;00m, :] \u001b[39m# (B, 1, 4)\u001b[39;00m\n\u001b[1;32m     91\u001b[0m sparse_embeddings, dense_embeddings \u001b[39m=\u001b[39m medsam_model\u001b[39m.\u001b[39mprompt_encoder(\n\u001b[1;32m     92\u001b[0m     points\u001b[39m=\u001b[39m\u001b[39mNone\u001b[39;00m,\n\u001b[1;32m     93\u001b[0m     boxes\u001b[39m=\u001b[39mbox_torch,\n\u001b[1;32m     94\u001b[0m     masks\u001b[39m=\u001b[39m\u001b[39mNone\u001b[39;00m,\n\u001b[1;32m     95\u001b[0m )\n\u001b[0;32m---> 96\u001b[0m low_res_logits, _ \u001b[39m=\u001b[39m medsam_model\u001b[39m.\u001b[39;49mmask_decoder(\n\u001b[1;32m     97\u001b[0m     image_embeddings\u001b[39m=\u001b[39;49mimg_embed, \u001b[39m# (B, 256, 64, 64)\u001b[39;49;00m\n\u001b[1;32m     98\u001b[0m     image_pe\u001b[39m=\u001b[39;49mmedsam_model\u001b[39m.\u001b[39;49mprompt_encoder\u001b[39m.\u001b[39;49mget_dense_pe(), \u001b[39m# (B, 256, 64, 64)\u001b[39;49;00m\n\u001b[1;32m     99\u001b[0m     sparse_prompt_embeddings\u001b[39m=\u001b[39;49msparse_embeddings, \u001b[39m# (B, 2, 256)\u001b[39;49;00m\n\u001b[1;32m    100\u001b[0m     dense_prompt_embeddings\u001b[39m=\u001b[39;49mdense_embeddings, \u001b[39m# (B, 256, 64, 64)\u001b[39;49;00m\n\u001b[1;32m    101\u001b[0m     multimask_output\u001b[39m=\u001b[39;49m model_trained_on_multi_label,\n\u001b[1;32m    102\u001b[0m     ) \u001b[39m# output of this will be (B, C, H, W)\u001b[39;00m\n\u001b[1;32m    104\u001b[0m \u001b[39mreturn\u001b[39;00m convert_logits_to_preds_onehot(low_res_logits, as_one_hot, H, W)\n",
      "File \u001b[0;32m~/.conda/envs/medsam/lib/python3.10/site-packages/torch/nn/modules/module.py:1501\u001b[0m, in \u001b[0;36mModule._call_impl\u001b[0;34m(self, *args, **kwargs)\u001b[0m\n\u001b[1;32m   1496\u001b[0m \u001b[39m# If we don't have any hooks, we want to skip the rest of the logic in\u001b[39;00m\n\u001b[1;32m   1497\u001b[0m \u001b[39m# this function, and just call forward.\u001b[39;00m\n\u001b[1;32m   1498\u001b[0m \u001b[39mif\u001b[39;00m \u001b[39mnot\u001b[39;00m (\u001b[39mself\u001b[39m\u001b[39m.\u001b[39m_backward_hooks \u001b[39mor\u001b[39;00m \u001b[39mself\u001b[39m\u001b[39m.\u001b[39m_backward_pre_hooks \u001b[39mor\u001b[39;00m \u001b[39mself\u001b[39m\u001b[39m.\u001b[39m_forward_hooks \u001b[39mor\u001b[39;00m \u001b[39mself\u001b[39m\u001b[39m.\u001b[39m_forward_pre_hooks\n\u001b[1;32m   1499\u001b[0m         \u001b[39mor\u001b[39;00m _global_backward_pre_hooks \u001b[39mor\u001b[39;00m _global_backward_hooks\n\u001b[1;32m   1500\u001b[0m         \u001b[39mor\u001b[39;00m _global_forward_hooks \u001b[39mor\u001b[39;00m _global_forward_pre_hooks):\n\u001b[0;32m-> 1501\u001b[0m     \u001b[39mreturn\u001b[39;00m forward_call(\u001b[39m*\u001b[39;49margs, \u001b[39m*\u001b[39;49m\u001b[39m*\u001b[39;49mkwargs)\n\u001b[1;32m   1502\u001b[0m \u001b[39m# Do not call functions when jit is used\u001b[39;00m\n\u001b[1;32m   1503\u001b[0m full_backward_hooks, non_full_backward_hooks \u001b[39m=\u001b[39m [], []\n",
      "File \u001b[0;32m~/MedSAM/segment_anything/modeling/mask_decoder.py:96\u001b[0m, in \u001b[0;36mMaskDecoder.forward\u001b[0;34m(self, image_embeddings, image_pe, sparse_prompt_embeddings, dense_prompt_embeddings, multimask_output)\u001b[0m\n\u001b[1;32m     73\u001b[0m \u001b[39mdef\u001b[39;00m \u001b[39mforward\u001b[39m(\n\u001b[1;32m     74\u001b[0m     \u001b[39mself\u001b[39m,\n\u001b[1;32m     75\u001b[0m     image_embeddings: torch\u001b[39m.\u001b[39mTensor,\n\u001b[0;32m   (...)\u001b[0m\n\u001b[1;32m     79\u001b[0m     multimask_output: \u001b[39mbool\u001b[39m,\n\u001b[1;32m     80\u001b[0m ) \u001b[39m-\u001b[39m\u001b[39m>\u001b[39m Tuple[torch\u001b[39m.\u001b[39mTensor, torch\u001b[39m.\u001b[39mTensor]:\n\u001b[1;32m     81\u001b[0m \u001b[39m    \u001b[39m\u001b[39m\"\"\"\u001b[39;00m\n\u001b[1;32m     82\u001b[0m \u001b[39m    Predict masks given image and prompt embeddings.\u001b[39;00m\n\u001b[1;32m     83\u001b[0m \n\u001b[0;32m   (...)\u001b[0m\n\u001b[1;32m     94\u001b[0m \u001b[39m      torch.Tensor: batched predictions of mask quality\u001b[39;00m\n\u001b[1;32m     95\u001b[0m \u001b[39m    \"\"\"\u001b[39;00m\n\u001b[0;32m---> 96\u001b[0m     masks, iou_pred \u001b[39m=\u001b[39m \u001b[39mself\u001b[39;49m\u001b[39m.\u001b[39;49mpredict_masks(\n\u001b[1;32m     97\u001b[0m         image_embeddings\u001b[39m=\u001b[39;49mimage_embeddings,\n\u001b[1;32m     98\u001b[0m         image_pe\u001b[39m=\u001b[39;49mimage_pe,\n\u001b[1;32m     99\u001b[0m         sparse_prompt_embeddings\u001b[39m=\u001b[39;49msparse_prompt_embeddings,\n\u001b[1;32m    100\u001b[0m         dense_prompt_embeddings\u001b[39m=\u001b[39;49mdense_prompt_embeddings,\n\u001b[1;32m    101\u001b[0m     )\n\u001b[1;32m    103\u001b[0m     \u001b[39m# Select the correct mask or masks for output\u001b[39;00m\n\u001b[1;32m    104\u001b[0m     \u001b[39mif\u001b[39;00m multimask_output:\n",
      "File \u001b[0;32m~/MedSAM/segment_anything/modeling/mask_decoder.py:143\u001b[0m, in \u001b[0;36mMaskDecoder.predict_masks\u001b[0;34m(self, image_embeddings, image_pe, sparse_prompt_embeddings, dense_prompt_embeddings)\u001b[0m\n\u001b[1;32m    141\u001b[0m \u001b[39m# Upscale mask embeddings and predict masks using the mask tokens\u001b[39;00m\n\u001b[1;32m    142\u001b[0m src \u001b[39m=\u001b[39m src\u001b[39m.\u001b[39mtranspose(\u001b[39m1\u001b[39m, \u001b[39m2\u001b[39m)\u001b[39m.\u001b[39mview(b, c, h, w)\n\u001b[0;32m--> 143\u001b[0m upscaled_embedding \u001b[39m=\u001b[39m \u001b[39mself\u001b[39;49m\u001b[39m.\u001b[39;49moutput_upscaling(src)\n\u001b[1;32m    144\u001b[0m hyper_in_list: List[torch\u001b[39m.\u001b[39mTensor] \u001b[39m=\u001b[39m []\n\u001b[1;32m    145\u001b[0m \u001b[39mfor\u001b[39;00m i \u001b[39min\u001b[39;00m \u001b[39mrange\u001b[39m(\u001b[39mself\u001b[39m\u001b[39m.\u001b[39mnum_mask_tokens):\n",
      "File \u001b[0;32m~/.conda/envs/medsam/lib/python3.10/site-packages/torch/nn/modules/module.py:1501\u001b[0m, in \u001b[0;36mModule._call_impl\u001b[0;34m(self, *args, **kwargs)\u001b[0m\n\u001b[1;32m   1496\u001b[0m \u001b[39m# If we don't have any hooks, we want to skip the rest of the logic in\u001b[39;00m\n\u001b[1;32m   1497\u001b[0m \u001b[39m# this function, and just call forward.\u001b[39;00m\n\u001b[1;32m   1498\u001b[0m \u001b[39mif\u001b[39;00m \u001b[39mnot\u001b[39;00m (\u001b[39mself\u001b[39m\u001b[39m.\u001b[39m_backward_hooks \u001b[39mor\u001b[39;00m \u001b[39mself\u001b[39m\u001b[39m.\u001b[39m_backward_pre_hooks \u001b[39mor\u001b[39;00m \u001b[39mself\u001b[39m\u001b[39m.\u001b[39m_forward_hooks \u001b[39mor\u001b[39;00m \u001b[39mself\u001b[39m\u001b[39m.\u001b[39m_forward_pre_hooks\n\u001b[1;32m   1499\u001b[0m         \u001b[39mor\u001b[39;00m _global_backward_pre_hooks \u001b[39mor\u001b[39;00m _global_backward_hooks\n\u001b[1;32m   1500\u001b[0m         \u001b[39mor\u001b[39;00m _global_forward_hooks \u001b[39mor\u001b[39;00m _global_forward_pre_hooks):\n\u001b[0;32m-> 1501\u001b[0m     \u001b[39mreturn\u001b[39;00m forward_call(\u001b[39m*\u001b[39;49margs, \u001b[39m*\u001b[39;49m\u001b[39m*\u001b[39;49mkwargs)\n\u001b[1;32m   1502\u001b[0m \u001b[39m# Do not call functions when jit is used\u001b[39;00m\n\u001b[1;32m   1503\u001b[0m full_backward_hooks, non_full_backward_hooks \u001b[39m=\u001b[39m [], []\n",
      "File \u001b[0;32m~/.conda/envs/medsam/lib/python3.10/site-packages/torch/nn/modules/container.py:217\u001b[0m, in \u001b[0;36mSequential.forward\u001b[0;34m(self, input)\u001b[0m\n\u001b[1;32m    215\u001b[0m \u001b[39mdef\u001b[39;00m \u001b[39mforward\u001b[39m(\u001b[39mself\u001b[39m, \u001b[39minput\u001b[39m):\n\u001b[1;32m    216\u001b[0m     \u001b[39mfor\u001b[39;00m module \u001b[39min\u001b[39;00m \u001b[39mself\u001b[39m:\n\u001b[0;32m--> 217\u001b[0m         \u001b[39minput\u001b[39m \u001b[39m=\u001b[39m module(\u001b[39minput\u001b[39;49m)\n\u001b[1;32m    218\u001b[0m     \u001b[39mreturn\u001b[39;00m \u001b[39minput\u001b[39m\n",
      "File \u001b[0;32m~/.conda/envs/medsam/lib/python3.10/site-packages/torch/nn/modules/module.py:1501\u001b[0m, in \u001b[0;36mModule._call_impl\u001b[0;34m(self, *args, **kwargs)\u001b[0m\n\u001b[1;32m   1496\u001b[0m \u001b[39m# If we don't have any hooks, we want to skip the rest of the logic in\u001b[39;00m\n\u001b[1;32m   1497\u001b[0m \u001b[39m# this function, and just call forward.\u001b[39;00m\n\u001b[1;32m   1498\u001b[0m \u001b[39mif\u001b[39;00m \u001b[39mnot\u001b[39;00m (\u001b[39mself\u001b[39m\u001b[39m.\u001b[39m_backward_hooks \u001b[39mor\u001b[39;00m \u001b[39mself\u001b[39m\u001b[39m.\u001b[39m_backward_pre_hooks \u001b[39mor\u001b[39;00m \u001b[39mself\u001b[39m\u001b[39m.\u001b[39m_forward_hooks \u001b[39mor\u001b[39;00m \u001b[39mself\u001b[39m\u001b[39m.\u001b[39m_forward_pre_hooks\n\u001b[1;32m   1499\u001b[0m         \u001b[39mor\u001b[39;00m _global_backward_pre_hooks \u001b[39mor\u001b[39;00m _global_backward_hooks\n\u001b[1;32m   1500\u001b[0m         \u001b[39mor\u001b[39;00m _global_forward_hooks \u001b[39mor\u001b[39;00m _global_forward_pre_hooks):\n\u001b[0;32m-> 1501\u001b[0m     \u001b[39mreturn\u001b[39;00m forward_call(\u001b[39m*\u001b[39;49margs, \u001b[39m*\u001b[39;49m\u001b[39m*\u001b[39;49mkwargs)\n\u001b[1;32m   1502\u001b[0m \u001b[39m# Do not call functions when jit is used\u001b[39;00m\n\u001b[1;32m   1503\u001b[0m full_backward_hooks, non_full_backward_hooks \u001b[39m=\u001b[39m [], []\n",
      "File \u001b[0;32m~/MedSAM/segment_anything/modeling/common.py:42\u001b[0m, in \u001b[0;36mLayerNorm2d.forward\u001b[0;34m(self, x)\u001b[0m\n\u001b[1;32m     40\u001b[0m s \u001b[39m=\u001b[39m (x \u001b[39m-\u001b[39m u)\u001b[39m.\u001b[39mpow(\u001b[39m2\u001b[39m)\u001b[39m.\u001b[39mmean(\u001b[39m1\u001b[39m, keepdim\u001b[39m=\u001b[39m\u001b[39mTrue\u001b[39;00m)\n\u001b[1;32m     41\u001b[0m x \u001b[39m=\u001b[39m (x \u001b[39m-\u001b[39m u) \u001b[39m/\u001b[39m torch\u001b[39m.\u001b[39msqrt(s \u001b[39m+\u001b[39m \u001b[39mself\u001b[39m\u001b[39m.\u001b[39meps)\n\u001b[0;32m---> 42\u001b[0m x \u001b[39m=\u001b[39m \u001b[39mself\u001b[39;49m\u001b[39m.\u001b[39;49mweight[:, \u001b[39mNone\u001b[39;49;00m, \u001b[39mNone\u001b[39;49;00m] \u001b[39m*\u001b[39;49m x \u001b[39m+\u001b[39m \u001b[39mself\u001b[39m\u001b[39m.\u001b[39mbias[:, \u001b[39mNone\u001b[39;00m, \u001b[39mNone\u001b[39;00m]\n\u001b[1;32m     43\u001b[0m \u001b[39mreturn\u001b[39;00m x\n",
      "\u001b[0;31mOutOfMemoryError\u001b[0m: CUDA out of memory. Tried to allocate 256.00 MiB (GPU 0; 15.78 GiB total capacity; 13.69 GiB already allocated; 128.00 MiB free; 14.51 GiB reserved in total by PyTorch) If reserved memory is >> allocated memory try setting max_split_size_mb to avoid fragmentation.  See documentation for Memory Management and PYTORCH_CUDA_ALLOC_CONF"
     ]
    },
    {
     "data": {
      "image/png": "[encoded data removed]",
      "text/plain": [
       "<Figure size 640x480 with 2 Axes>"
      ]
     },
     "metadata": {},
     "output_type": "display_data"
    }
   ],
   "source": [
    "lab_nums = torch.Tensor(val_dataset.data_frame['label_number'].to_numpy()).long().cuda()\n",
    "batch_sz = 64\n",
    "dataloader = DataLoader(\n",
    "        val_dataset,\n",
    "        batch_size = batch_sz,\n",
    "        shuffle = False,\n",
    "        num_workers = 0,\n",
    "        pin_memory = True)\n",
    "        \n",
    "class_dice_collector = []\n",
    "\n",
    "fig, ax = plt.subplots(1,2)\n",
    "for step, (image_embedding, gt2D, boxes, slice_names) in enumerate(tqdm(dataloader)):\n",
    "\n",
    "        label_numbers = lab_nums[batch_sz*step:batch_sz*(step+1)]\n",
    "        image_embedding, gt2D, boxes = image_embedding.cuda(), gt2D.cuda(), boxes.cuda()\n",
    "        medsam_pred = torch.as_tensor(medsam_inference(sam_model, image_embedding, boxes, 256, 256, as_one_hot=True, model_trained_on_multi_label=False), dtype=torch.uint8).cuda()\n",
    "        pred = medsam_pred[:,0:1,:,:] # B, 103, H, W -> B, 1, H, W\n",
    "        \n",
    "\n",
    "        subset_gt = torch.take_along_dim(gt2D, label_numbers[:, None, None, None], dim=1).long()\n",
    "        dice_scores = dice_scores_multi_class(pred, subset_gt, eps=1e-6) # (B, C)\n",
    "        class_dice_collector.append(dice_scores)\n",
    "\n",
    "\n",
    "#medsam_inference(medsam_model, img_embed, box_1024, H, W, as_one_hot, model_trained_on_multi_label=True)\n"
   ]
  },
  {
   "cell_type": "code",
   "execution_count": 66,
   "metadata": {},
   "outputs": [
    {
     "data": {
      "text/plain": [
       "tensor(595188, device='cuda:0')"
      ]
     },
     "execution_count": 66,
     "metadata": {},
     "output_type": "execute_result"
    }
   ],
   "source": []
  }
 ],
 "metadata": {
  "kernelspec": {
   "display_name": "Python 3",
   "language": "python",
   "name": "python3"
  },
  "language_info": {
   "codemirror_mode": {
    "name": "ipython",
    "version": 3
   },
   "file_extension": ".py",
   "mimetype": "text/x-python",
   "name": "python",
   "nbconvert_exporter": "python",
   "pygments_lexer": "ipython3",
   "version": "3.10.12"
  },
  "orig_nbformat": 4
 },
 "nbformat": 4,
 "nbformat_minor": 2
}
