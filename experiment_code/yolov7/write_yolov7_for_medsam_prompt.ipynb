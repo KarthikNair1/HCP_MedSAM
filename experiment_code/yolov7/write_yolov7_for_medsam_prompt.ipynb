{
 "cells": [
  {
   "cell_type": "code",
   "execution_count": 1,
   "metadata": {},
   "outputs": [],
   "source": [
    "import numpy as np\n",
    "import matplotlib.pyplot as plt\n",
    "import os\n",
    "from tqdm import tqdm\n",
    "import torch\n",
    "from torch.utils.data import Dataset, DataLoader\n",
    "from glob import glob\n",
    "import pandas as pd\n",
    "import pickle\n",
    "from torch.utils.data import RandomSampler\n",
    "import random\n",
    "import scipy\n",
    "import torch.nn.functional as F\n",
    "from PIL import Image\n",
    "from glob import glob\n",
    "\n",
    "from MedSAM_HCP.utils_hcp import *"
   ]
  },
  {
   "cell_type": "code",
   "execution_count": 18,
   "metadata": {},
   "outputs": [],
   "source": [
    "def read_format_table(path, read_gt = False):\n",
    "    IMG_WIDTH = 256\n",
    "    IMG_HEIGHT = 256\n",
    "    if read_gt:\n",
    "        cols = ['class', 'x_center', 'y_center', 'width', 'height']\n",
    "    else:\n",
    "        cols = ['class', 'x_center', 'y_center', 'width', 'height', 'confidence']\n",
    "    df = pd.read_csv(path, delimiter=' ', header=None, names=cols)\n",
    "    df = df.sort_values('class').reset_index(drop=True)\n",
    "    df['x_center'] = (df['x_center'] * IMG_WIDTH)\n",
    "    df['y_center'] = (df['y_center'] * IMG_HEIGHT)\n",
    "    df['width'] = (df['width'] * IMG_WIDTH)\n",
    "    df['height'] = (df['height'] * IMG_HEIGHT)\n",
    "\n",
    "    return df\n",
    "def yolov7_format_to_bbox_format(x_center, y_center, width, height):\n",
    "    x0 = x_center - width / 2.0\n",
    "    y0 = y_center - height / 2.0\n",
    "\n",
    "    x1 = x_center + width / 2.0\n",
    "    y1 = y_center + height / 2.0\n",
    "\n",
    "    return x0, y0, x1, y1\n",
    "\n",
    "def extract_box_np_from_df(df, label):\n",
    "    row = df.loc[df['class'] == label]\n",
    "    if len(row) == 0:\n",
    "        return np.full((4,), np.nan)\n",
    "    if len(row)>1:\n",
    "        print(row)\n",
    "    box = np.array(yolov7_format_to_bbox_format(row['x_center'].item(), \n",
    "                                      row['y_center'].item(),\n",
    "                                      row['width'].item(), \n",
    "                                      row['height'].item()))\n",
    "    return box\n",
    "\n",
    "def run_tag(collect_lists, tag='train', conf_thresh = 0.225, force_stop = None):\n",
    "    \n",
    "    for ix, file in enumerate(tqdm(sorted(glob(f'/gpfs/data/luilab/karthik/pediatric_seg_proj/yolov7_results/train_hcp_bbox/{tag}_run/labels/*.txt')))):\n",
    "        if force_stop is not None and ix >= force_stop:\n",
    "            break\n",
    "        basename = os.path.basename(file)\n",
    "        id_num = int(basename.split('_')[0])\n",
    "        slice_num = int(basename.split('_slice')[-1].split('.txt')[0])\n",
    "        dfo = read_format_table(file, read_gt=False)\n",
    "        dfo = dfo[dfo['confidence'] >= conf_thresh]\n",
    "        dfo = dfo.sort_values('confidence').drop_duplicates('class', keep='last')    \n",
    "        dfo['bbox_0'] = (dfo['x_center'] - dfo['width']/2.0).round().astype(int)\n",
    "        dfo['bbox_1'] = (dfo['y_center'] - dfo['height']/2.0).round().astype(int)\n",
    "        dfo['bbox_2'] = (dfo['x_center'] + dfo['width']/2.0).round().astype(int)\n",
    "        dfo['bbox_3'] = (dfo['y_center'] + dfo['height']/2.0).round().astype(int)\n",
    "\n",
    "\n",
    "        for i, r in dfo.iterrows():\n",
    "            if r['class']==0:\n",
    "                continue\n",
    "            ans = np.array([id_num, slice_num, r['bbox_0'], r['bbox_1'], r['bbox_2'], r['bbox_3']]).astype(int)\n",
    "            collect_lists[int(r[\"class\"])].append(ans)\n",
    "    \n",
    "    return collect_lists\n",
    "    \n",
    "def merge_collect_lists(collect_lists, label):\n",
    "    ori_df = pd.read_csv('/gpfs/data/luilab/karthik/pediatric_seg_proj/path_df.csv')\n",
    "    this_class_df = pd.DataFrame(collect_lists[class_num], columns = ['id', 'slice', 'bbox_0', 'bbox_1', 'bbox_2', 'bbox_3'])\n",
    "    merged = ori_df.merge(this_class_df, how = 'right', on = ['id', 'slice'])\n",
    "    return merged\n",
    "\n",
    "def run_medsam_tag(collect_lists, tag='train', force_stop = None):\n",
    "    for ix, file in enumerate(tqdm(sorted(glob(f'/gpfs/data/luilab/karthik/pediatric_seg_proj/yolov7_results/train_hcp_bbox/{tag}_run/labels/*.txt')))):\n",
    "        if force_stop is not None and ix >= force_stop:\n",
    "            break\n",
    "        basename = os.path.basename(file)\n",
    "        id_num = int(basename.split('_')[0])\n",
    "        slice_num = int(basename.split('_slice')[-1].split('.txt')[0])\n",
    "        arr = np.load(f'/gpfs/data/luilab/karthik/pediatric_seg_proj/saved_round1_segmentations_bbox/{id_num}/{slice_num}.npy')\n",
    "        arr = arr[:, [0,2,1,3]]\n",
    "        masker = np.any(np.isnan(arr), axis=1)\n",
    "        for i in range(arr.shape[0]):\n",
    "            if i==0:\n",
    "                continue\n",
    "            if masker[i] == True: # NAN's here\n",
    "                continue\n",
    "            ans = np.array([id_num, slice_num, arr[i,0], arr[i,1], arr[i,2], arr[i,3]]).astype(int)\n",
    "            collect_lists[i].append(ans)\n",
    "    \n",
    "    return collect_lists"
   ]
  },
  {
   "cell_type": "code",
   "execution_count": 24,
   "metadata": {},
   "outputs": [
    {
     "name": "stderr",
     "output_type": "stream",
     "text": [
      "  4%|▍         | 10000/228096 [00:10<03:51, 943.58it/s]\n"
     ]
    }
   ],
   "source": [
    "collect_lists_medsam = []\n",
    "for i in range(NUM_CLASSES):\n",
    "    collect_lists_medsam.append([])\n",
    "true_lens = sum([len(x) for x in run_medsam_tag(collect_lists_medsam, 'train', force_stop=10000)][1:])\n",
    "print(f'medsam bboxes have total calls ~{true_lens}')"
   ]
  },
  {
   "cell_type": "code",
   "execution_count": 41,
   "metadata": {},
   "outputs": [
    {
     "name": "stdout",
     "output_type": "stream",
     "text": [
      "medsam bboxes have total calls ~139977\n"
     ]
    }
   ],
   "source": [
    "print(f'medsam bboxes have total calls ~{true_lens}')"
   ]
  },
  {
   "cell_type": "code",
   "execution_count": 38,
   "metadata": {},
   "outputs": [
    {
     "name": "stderr",
     "output_type": "stream",
     "text": [
      "  4%|▍         | 10000/228096 [01:08<24:47, 146.58it/s]\n",
      "  4%|▍         | 10000/228096 [01:00<22:07, 164.30it/s]\n",
      "  4%|▍         | 10000/228096 [00:58<21:05, 172.41it/s]\n",
      "  4%|▍         | 10000/228096 [00:56<20:34, 176.70it/s]\n",
      "  4%|▍         | 10000/228096 [00:56<20:42, 175.50it/s]\n"
     ]
    }
   ],
   "source": [
    "collect_lists_yolov7 = []\n",
    "for i in range(NUM_CLASSES):\n",
    "    collect_lists_yolov7.append([])\n",
    "\n",
    "yolov7_lens_15 = run_tag(collect_lists_yolov7, tag='train', conf_thresh = 0.15, force_stop = 10000)\n",
    "\n",
    "collect_lists_yolov7 = []\n",
    "for i in range(NUM_CLASSES):\n",
    "    collect_lists_yolov7.append([])\n",
    "\n",
    "yolov7_lens_20 = run_tag(collect_lists_yolov7, tag='train', conf_thresh = 0.2, force_stop = 10000)\n",
    "\n",
    "collect_lists_yolov7 = []\n",
    "for i in range(NUM_CLASSES):\n",
    "    collect_lists_yolov7.append([])\n",
    "\n",
    "yolov7_lens_225 = run_tag(collect_lists_yolov7, tag='train', conf_thresh = 0.225, force_stop = 10000)\n",
    "\n",
    "collect_lists_yolov7 = []\n",
    "for i in range(NUM_CLASSES):\n",
    "    collect_lists_yolov7.append([])\n",
    "\n",
    "yolov7_lens_25 = run_tag(collect_lists_yolov7, tag='train', conf_thresh = 0.25, force_stop = 10000)\n",
    "\n",
    "collect_lists_yolov7 = []\n",
    "for i in range(NUM_CLASSES):\n",
    "    collect_lists_yolov7.append([])\n",
    "\n",
    "yolov7_lens_30 = run_tag(collect_lists_yolov7, tag='train', conf_thresh = 0.30, force_stop = 10000)"
   ]
  },
  {
   "cell_type": "code",
   "execution_count": 42,
   "metadata": {},
   "outputs": [
    {
     "name": "stderr",
     "output_type": "stream",
     "text": [
      "  4%|▍         | 10000/228096 [01:10<25:38, 141.78it/s]\n"
     ]
    }
   ],
   "source": [
    "collect_lists_yolov7 = []\n",
    "for i in range(NUM_CLASSES):\n",
    "    collect_lists_yolov7.append([])\n",
    "\n",
    "yolov7_lens_175 = run_tag(collect_lists_yolov7, tag='train', conf_thresh = 0.175, force_stop = 10000)"
   ]
  },
  {
   "cell_type": "code",
   "execution_count": 43,
   "metadata": {},
   "outputs": [
    {
     "name": "stdout",
     "output_type": "stream",
     "text": [
      "140427\n",
      "138651\n",
      "137050\n",
      "135502\n",
      "134049\n",
      "131120\n"
     ]
    }
   ],
   "source": [
    "print(sum([len(x) for x in yolov7_lens_15][1:]))\n",
    "print(sum([len(x) for x in yolov7_lens_175][1:]))\n",
    "print(sum([len(x) for x in yolov7_lens_20][1:]))\n",
    "print(sum([len(x) for x in yolov7_lens_225][1:]))\n",
    "print(sum([len(x) for x in yolov7_lens_25][1:]))\n",
    "print(sum([len(x) for x in yolov7_lens_30][1:]))"
   ]
  },
  {
   "cell_type": "code",
   "execution_count": null,
   "metadata": {},
   "outputs": [],
   "source": []
  },
  {
   "cell_type": "code",
   "execution_count": 5,
   "metadata": {},
   "outputs": [
    {
     "name": "stderr",
     "output_type": "stream",
     "text": [
      "  1%|          | 1281/228096 [00:18<55:40, 67.91it/s]  \n"
     ]
    },
    {
     "ename": "KeyboardInterrupt",
     "evalue": "",
     "output_type": "error",
     "traceback": [
      "\u001b[0;31m---------------------------------------------------------------------------\u001b[0m",
      "\u001b[0;31mKeyboardInterrupt\u001b[0m                         Traceback (most recent call last)",
      "Cell \u001b[0;32mIn[5], line 7\u001b[0m\n\u001b[1;32m      4\u001b[0m \u001b[39mfor\u001b[39;00m i \u001b[39min\u001b[39;00m \u001b[39mrange\u001b[39m(NUM_CLASSES):\n\u001b[1;32m      5\u001b[0m     collect_lists\u001b[39m.\u001b[39mappend([])\n\u001b[0;32m----> 7\u001b[0m collect_lists \u001b[39m=\u001b[39m run_tag(collect_lists, \u001b[39m'\u001b[39;49m\u001b[39mtrain\u001b[39;49m\u001b[39m'\u001b[39;49m, conf_thresh, )\n\u001b[1;32m      8\u001b[0m collect_lists \u001b[39m=\u001b[39m run_tag(collect_lists, \u001b[39m'\u001b[39m\u001b[39mval\u001b[39m\u001b[39m'\u001b[39m, conf_thresh, )\n\u001b[1;32m      9\u001b[0m collect_lists \u001b[39m=\u001b[39m run_tag(collect_lists, \u001b[39m'\u001b[39m\u001b[39mtest\u001b[39m\u001b[39m'\u001b[39m, conf_thresh)\n",
      "Cell \u001b[0;32mIn[4], line 43\u001b[0m, in \u001b[0;36mrun_tag\u001b[0;34m(collect_lists, tag, conf_thresh)\u001b[0m\n\u001b[1;32m     41\u001b[0m id_num \u001b[39m=\u001b[39m \u001b[39mint\u001b[39m(basename\u001b[39m.\u001b[39msplit(\u001b[39m'\u001b[39m\u001b[39m_\u001b[39m\u001b[39m'\u001b[39m)[\u001b[39m0\u001b[39m])\n\u001b[1;32m     42\u001b[0m slice_num \u001b[39m=\u001b[39m \u001b[39mint\u001b[39m(basename\u001b[39m.\u001b[39msplit(\u001b[39m'\u001b[39m\u001b[39m_slice\u001b[39m\u001b[39m'\u001b[39m)[\u001b[39m-\u001b[39m\u001b[39m1\u001b[39m]\u001b[39m.\u001b[39msplit(\u001b[39m'\u001b[39m\u001b[39m.txt\u001b[39m\u001b[39m'\u001b[39m)[\u001b[39m0\u001b[39m])\n\u001b[0;32m---> 43\u001b[0m dfo \u001b[39m=\u001b[39m read_format_table(file, read_gt\u001b[39m=\u001b[39;49m\u001b[39mFalse\u001b[39;49;00m)\n\u001b[1;32m     44\u001b[0m dfo \u001b[39m=\u001b[39m dfo[dfo[\u001b[39m'\u001b[39m\u001b[39mconfidence\u001b[39m\u001b[39m'\u001b[39m] \u001b[39m>\u001b[39m\u001b[39m=\u001b[39m conf_thresh]\n\u001b[1;32m     45\u001b[0m dfo \u001b[39m=\u001b[39m dfo\u001b[39m.\u001b[39msort_values(\u001b[39m'\u001b[39m\u001b[39mconfidence\u001b[39m\u001b[39m'\u001b[39m)\u001b[39m.\u001b[39mdrop_duplicates(\u001b[39m'\u001b[39m\u001b[39mclass\u001b[39m\u001b[39m'\u001b[39m, keep\u001b[39m=\u001b[39m\u001b[39m'\u001b[39m\u001b[39mlast\u001b[39m\u001b[39m'\u001b[39m)    \n",
      "Cell \u001b[0;32mIn[4], line 8\u001b[0m, in \u001b[0;36mread_format_table\u001b[0;34m(path, read_gt)\u001b[0m\n\u001b[1;32m      6\u001b[0m \u001b[39melse\u001b[39;00m:\n\u001b[1;32m      7\u001b[0m     cols \u001b[39m=\u001b[39m [\u001b[39m'\u001b[39m\u001b[39mclass\u001b[39m\u001b[39m'\u001b[39m, \u001b[39m'\u001b[39m\u001b[39mx_center\u001b[39m\u001b[39m'\u001b[39m, \u001b[39m'\u001b[39m\u001b[39my_center\u001b[39m\u001b[39m'\u001b[39m, \u001b[39m'\u001b[39m\u001b[39mwidth\u001b[39m\u001b[39m'\u001b[39m, \u001b[39m'\u001b[39m\u001b[39mheight\u001b[39m\u001b[39m'\u001b[39m, \u001b[39m'\u001b[39m\u001b[39mconfidence\u001b[39m\u001b[39m'\u001b[39m]\n\u001b[0;32m----> 8\u001b[0m df \u001b[39m=\u001b[39m pd\u001b[39m.\u001b[39;49mread_csv(path, delimiter\u001b[39m=\u001b[39;49m\u001b[39m'\u001b[39;49m\u001b[39m \u001b[39;49m\u001b[39m'\u001b[39;49m, header\u001b[39m=\u001b[39;49m\u001b[39mNone\u001b[39;49;00m, names\u001b[39m=\u001b[39;49mcols)\n\u001b[1;32m      9\u001b[0m df \u001b[39m=\u001b[39m df\u001b[39m.\u001b[39msort_values(\u001b[39m'\u001b[39m\u001b[39mclass\u001b[39m\u001b[39m'\u001b[39m)\u001b[39m.\u001b[39mreset_index(drop\u001b[39m=\u001b[39m\u001b[39mTrue\u001b[39;00m)\n\u001b[1;32m     10\u001b[0m df[\u001b[39m'\u001b[39m\u001b[39mx_center\u001b[39m\u001b[39m'\u001b[39m] \u001b[39m=\u001b[39m (df[\u001b[39m'\u001b[39m\u001b[39mx_center\u001b[39m\u001b[39m'\u001b[39m] \u001b[39m*\u001b[39m IMG_WIDTH)\n",
      "File \u001b[0;32m~/.conda/envs/medsam/lib/python3.10/site-packages/pandas/util/_decorators.py:211\u001b[0m, in \u001b[0;36mdeprecate_kwarg.<locals>._deprecate_kwarg.<locals>.wrapper\u001b[0;34m(*args, **kwargs)\u001b[0m\n\u001b[1;32m    209\u001b[0m     \u001b[39melse\u001b[39;00m:\n\u001b[1;32m    210\u001b[0m         kwargs[new_arg_name] \u001b[39m=\u001b[39m new_arg_value\n\u001b[0;32m--> 211\u001b[0m \u001b[39mreturn\u001b[39;00m func(\u001b[39m*\u001b[39;49margs, \u001b[39m*\u001b[39;49m\u001b[39m*\u001b[39;49mkwargs)\n",
      "File \u001b[0;32m~/.conda/envs/medsam/lib/python3.10/site-packages/pandas/util/_decorators.py:331\u001b[0m, in \u001b[0;36mdeprecate_nonkeyword_arguments.<locals>.decorate.<locals>.wrapper\u001b[0;34m(*args, **kwargs)\u001b[0m\n\u001b[1;32m    325\u001b[0m \u001b[39mif\u001b[39;00m \u001b[39mlen\u001b[39m(args) \u001b[39m>\u001b[39m num_allow_args:\n\u001b[1;32m    326\u001b[0m     warnings\u001b[39m.\u001b[39mwarn(\n\u001b[1;32m    327\u001b[0m         msg\u001b[39m.\u001b[39mformat(arguments\u001b[39m=\u001b[39m_format_argument_list(allow_args)),\n\u001b[1;32m    328\u001b[0m         \u001b[39mFutureWarning\u001b[39;00m,\n\u001b[1;32m    329\u001b[0m         stacklevel\u001b[39m=\u001b[39mfind_stack_level(),\n\u001b[1;32m    330\u001b[0m     )\n\u001b[0;32m--> 331\u001b[0m \u001b[39mreturn\u001b[39;00m func(\u001b[39m*\u001b[39;49margs, \u001b[39m*\u001b[39;49m\u001b[39m*\u001b[39;49mkwargs)\n",
      "File \u001b[0;32m~/.conda/envs/medsam/lib/python3.10/site-packages/pandas/io/parsers/readers.py:950\u001b[0m, in \u001b[0;36mread_csv\u001b[0;34m(filepath_or_buffer, sep, delimiter, header, names, index_col, usecols, squeeze, prefix, mangle_dupe_cols, dtype, engine, converters, true_values, false_values, skipinitialspace, skiprows, skipfooter, nrows, na_values, keep_default_na, na_filter, verbose, skip_blank_lines, parse_dates, infer_datetime_format, keep_date_col, date_parser, dayfirst, cache_dates, iterator, chunksize, compression, thousands, decimal, lineterminator, quotechar, quoting, doublequote, escapechar, comment, encoding, encoding_errors, dialect, error_bad_lines, warn_bad_lines, on_bad_lines, delim_whitespace, low_memory, memory_map, float_precision, storage_options)\u001b[0m\n\u001b[1;32m    935\u001b[0m kwds_defaults \u001b[39m=\u001b[39m _refine_defaults_read(\n\u001b[1;32m    936\u001b[0m     dialect,\n\u001b[1;32m    937\u001b[0m     delimiter,\n\u001b[0;32m   (...)\u001b[0m\n\u001b[1;32m    946\u001b[0m     defaults\u001b[39m=\u001b[39m{\u001b[39m\"\u001b[39m\u001b[39mdelimiter\u001b[39m\u001b[39m\"\u001b[39m: \u001b[39m\"\u001b[39m\u001b[39m,\u001b[39m\u001b[39m\"\u001b[39m},\n\u001b[1;32m    947\u001b[0m )\n\u001b[1;32m    948\u001b[0m kwds\u001b[39m.\u001b[39mupdate(kwds_defaults)\n\u001b[0;32m--> 950\u001b[0m \u001b[39mreturn\u001b[39;00m _read(filepath_or_buffer, kwds)\n",
      "File \u001b[0;32m~/.conda/envs/medsam/lib/python3.10/site-packages/pandas/io/parsers/readers.py:611\u001b[0m, in \u001b[0;36m_read\u001b[0;34m(filepath_or_buffer, kwds)\u001b[0m\n\u001b[1;32m    608\u001b[0m     \u001b[39mreturn\u001b[39;00m parser\n\u001b[1;32m    610\u001b[0m \u001b[39mwith\u001b[39;00m parser:\n\u001b[0;32m--> 611\u001b[0m     \u001b[39mreturn\u001b[39;00m parser\u001b[39m.\u001b[39;49mread(nrows)\n",
      "File \u001b[0;32m~/.conda/envs/medsam/lib/python3.10/site-packages/pandas/io/parsers/readers.py:1778\u001b[0m, in \u001b[0;36mTextFileReader.read\u001b[0;34m(self, nrows)\u001b[0m\n\u001b[1;32m   1771\u001b[0m nrows \u001b[39m=\u001b[39m validate_integer(\u001b[39m\"\u001b[39m\u001b[39mnrows\u001b[39m\u001b[39m\"\u001b[39m, nrows)\n\u001b[1;32m   1772\u001b[0m \u001b[39mtry\u001b[39;00m:\n\u001b[1;32m   1773\u001b[0m     \u001b[39m# error: \"ParserBase\" has no attribute \"read\"\u001b[39;00m\n\u001b[1;32m   1774\u001b[0m     (\n\u001b[1;32m   1775\u001b[0m         index,\n\u001b[1;32m   1776\u001b[0m         columns,\n\u001b[1;32m   1777\u001b[0m         col_dict,\n\u001b[0;32m-> 1778\u001b[0m     ) \u001b[39m=\u001b[39m \u001b[39mself\u001b[39;49m\u001b[39m.\u001b[39;49m_engine\u001b[39m.\u001b[39;49mread(  \u001b[39m# type: ignore[attr-defined]\u001b[39;49;00m\n\u001b[1;32m   1779\u001b[0m         nrows\n\u001b[1;32m   1780\u001b[0m     )\n\u001b[1;32m   1781\u001b[0m \u001b[39mexcept\u001b[39;00m \u001b[39mException\u001b[39;00m:\n\u001b[1;32m   1782\u001b[0m     \u001b[39mself\u001b[39m\u001b[39m.\u001b[39mclose()\n",
      "File \u001b[0;32m~/.conda/envs/medsam/lib/python3.10/site-packages/pandas/io/parsers/c_parser_wrapper.py:230\u001b[0m, in \u001b[0;36mCParserWrapper.read\u001b[0;34m(self, nrows)\u001b[0m\n\u001b[1;32m    228\u001b[0m \u001b[39mtry\u001b[39;00m:\n\u001b[1;32m    229\u001b[0m     \u001b[39mif\u001b[39;00m \u001b[39mself\u001b[39m\u001b[39m.\u001b[39mlow_memory:\n\u001b[0;32m--> 230\u001b[0m         chunks \u001b[39m=\u001b[39m \u001b[39mself\u001b[39;49m\u001b[39m.\u001b[39;49m_reader\u001b[39m.\u001b[39;49mread_low_memory(nrows)\n\u001b[1;32m    231\u001b[0m         \u001b[39m# destructive to chunks\u001b[39;00m\n\u001b[1;32m    232\u001b[0m         data \u001b[39m=\u001b[39m _concatenate_chunks(chunks)\n",
      "File \u001b[0;32m~/.conda/envs/medsam/lib/python3.10/site-packages/pandas/_libs/parsers.pyx:808\u001b[0m, in \u001b[0;36mpandas._libs.parsers.TextReader.read_low_memory\u001b[0;34m()\u001b[0m\n",
      "File \u001b[0;32m~/.conda/envs/medsam/lib/python3.10/site-packages/pandas/_libs/parsers.pyx:890\u001b[0m, in \u001b[0;36mpandas._libs.parsers.TextReader._read_rows\u001b[0;34m()\u001b[0m\n",
      "File \u001b[0;32m~/.conda/envs/medsam/lib/python3.10/site-packages/pandas/_libs/parsers.pyx:1037\u001b[0m, in \u001b[0;36mpandas._libs.parsers.TextReader._convert_column_data\u001b[0;34m()\u001b[0m\n",
      "File \u001b[0;32m~/.conda/envs/medsam/lib/python3.10/site-packages/pandas/_libs/parsers.pyx:1083\u001b[0m, in \u001b[0;36mpandas._libs.parsers.TextReader._convert_tokens\u001b[0;34m()\u001b[0m\n",
      "File \u001b[0;32m~/.conda/envs/medsam/lib/python3.10/site-packages/pandas/_libs/parsers.pyx:1158\u001b[0m, in \u001b[0;36mpandas._libs.parsers.TextReader._convert_with_dtype\u001b[0;34m()\u001b[0m\n",
      "File \u001b[0;32m~/.conda/envs/medsam/lib/python3.10/site-packages/pandas/core/dtypes/common.py:1433\u001b[0m, in \u001b[0;36mis_extension_array_dtype\u001b[0;34m(arr_or_dtype)\u001b[0m\n\u001b[1;32m   1424\u001b[0m     \u001b[39m# Note: if other EA dtypes are ever held in HybridBlock, exclude those\u001b[39;00m\n\u001b[1;32m   1425\u001b[0m     \u001b[39m#  here too.\u001b[39;00m\n\u001b[1;32m   1426\u001b[0m     \u001b[39m# NB: need to check DatetimeTZDtype and not is_datetime64tz_dtype\u001b[39;00m\n\u001b[1;32m   1427\u001b[0m     \u001b[39m#  to exclude ArrowTimestampUSDtype\u001b[39;00m\n\u001b[1;32m   1428\u001b[0m     \u001b[39mreturn\u001b[39;00m \u001b[39misinstance\u001b[39m(dtype, ExtensionDtype) \u001b[39mand\u001b[39;00m \u001b[39mnot\u001b[39;00m \u001b[39misinstance\u001b[39m(\n\u001b[1;32m   1429\u001b[0m         dtype, (DatetimeTZDtype, PeriodDtype)\n\u001b[1;32m   1430\u001b[0m     )\n\u001b[0;32m-> 1433\u001b[0m \u001b[39mdef\u001b[39;00m \u001b[39mis_extension_array_dtype\u001b[39m(arr_or_dtype) \u001b[39m-\u001b[39m\u001b[39m>\u001b[39m \u001b[39mbool\u001b[39m:\n\u001b[1;32m   1434\u001b[0m \u001b[39m    \u001b[39m\u001b[39m\"\"\"\u001b[39;00m\n\u001b[1;32m   1435\u001b[0m \u001b[39m    Check if an object is a pandas extension array type.\u001b[39;00m\n\u001b[1;32m   1436\u001b[0m \n\u001b[0;32m   (...)\u001b[0m\n\u001b[1;32m   1476\u001b[0m \u001b[39m    False\u001b[39;00m\n\u001b[1;32m   1477\u001b[0m \u001b[39m    \"\"\"\u001b[39;00m\n\u001b[1;32m   1478\u001b[0m     dtype \u001b[39m=\u001b[39m \u001b[39mgetattr\u001b[39m(arr_or_dtype, \u001b[39m\"\u001b[39m\u001b[39mdtype\u001b[39m\u001b[39m\"\u001b[39m, arr_or_dtype)\n",
      "\u001b[0;31mKeyboardInterrupt\u001b[0m: "
     ]
    }
   ],
   "source": [
    "NUM_CLASSES=103\n",
    "conf_thresh = 0.225\n",
    "collect_lists = []\n",
    "for i in range(NUM_CLASSES):\n",
    "    collect_lists.append([])\n",
    "\n",
    "collect_lists = run_tag(collect_lists, 'train', conf_thresh, )\n",
    "collect_lists = run_tag(collect_lists, 'val', conf_thresh, )\n",
    "collect_lists = run_tag(collect_lists, 'test', conf_thresh)"
   ]
  },
  {
   "cell_type": "code",
   "execution_count": null,
   "metadata": {},
   "outputs": [],
   "source": [
    "ori_df = pd.read_csv('/gpfs/data/luilab/karthik/pediatric_seg_proj/path_df.csv')\n",
    "for class_num in range(1, NUM_CLASSES):\n",
    "    this_class_df = pd.DataFrame(collect_lists[class_num], columns = ['id', 'slice', 'bbox_0', 'bbox_1', 'bbox_2', 'bbox_3'])\n",
    "    merged = ori_df.merge(this_class_df, how = 'right', on = ['id', 'slice'])\n",
    "\n",
    "    save_path = os.path.join('/gpfs/data/luilab/karthik/pediatric_seg_proj/per_class_isolated_df/yolov7', f'path_df_label{class_num}_only_with_bbox_yolov7.csv')\n",
    "    merged.to_csv(save_path)\n"
   ]
  }
 ],
 "metadata": {
  "kernelspec": {
   "display_name": "Python 3",
   "language": "python",
   "name": "python3"
  },
  "language_info": {
   "codemirror_mode": {
    "name": "ipython",
    "version": 3
   },
   "file_extension": ".py",
   "mimetype": "text/x-python",
   "name": "python",
   "nbconvert_exporter": "python",
   "pygments_lexer": "ipython3",
   "version": "3.10.12"
  },
  "orig_nbformat": 4
 },
 "nbformat": 4,
 "nbformat_minor": 2
}
