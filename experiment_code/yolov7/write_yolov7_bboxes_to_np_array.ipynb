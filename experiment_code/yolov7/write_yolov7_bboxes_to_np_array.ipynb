{
 "cells": [
  {
   "cell_type": "code",
   "execution_count": 1,
   "metadata": {},
   "outputs": [],
   "source": [
    "import numpy as np\n",
    "import matplotlib.pyplot as plt\n",
    "import os\n",
    "join = os.path.join\n",
    "from tqdm import tqdm\n",
    "        mage import transform\n",
    "import torch\n",
    "import torch.nn as nn\n",
    "from torch.utils.data import Dataset, DataLoader\n",
    "import torch.multiprocessing as mp\n",
    "from segment_anything import sam_model_registry, build_sam_vit_b_multiclass\n",
    "import torch.nn.functional as F\n",
    "import random\n",
    "from datetime import datetime\n",
    "import pandas as pd\n",
    "import nibabel as nib\n",
    "import pickle"
   ]
  },
  {
   "cell_type": "code",
   "execution_count": 47,
   "metadata": {},
   "outputs": [],
   "source": [
    "df = pd.read_csv('/gpfs/data/luilab/karthik/pediatric_seg_proj/per_class_isolated_df/yolov7/path_df_pooled_labels_only_with_bbox_yolov7.csv')\n",
    "df_all = pd.read_csv('/gpfs/data/luilab/karthik/pediatric_seg_proj/path_df_constant_bbox.csv')\n",
    "df = df.drop(['index'], axis='columns')\n"
   ]
  },
  {
   "cell_type": "code",
   "execution_count": 48,
   "metadata": {},
   "outputs": [],
   "source": [
    "\n",
    "df_all_tmp = pd.concat([df_all]*102,keys = list(range(1,103)),names = ['label_number']).reset_index(level=0)\n",
    "df_all_tmp = df_all_tmp.drop(['bbox_0', 'bbox_1', 'bbox_2', 'bbox_3'], axis = 'columns')\n",
    "df_tmp = df.drop(['image_embedding_slice_path', 'segmentation_slice_path', 'image_path'], axis='columns')\n",
    "df_merged = df_all_tmp.merge(df_tmp, how = 'left', on = ['id', 'slice', 'label_number'])"
   ]
  },
  {
   "cell_type": "code",
   "execution_count": 9,
   "metadata": {},
   "outputs": [],
   "source": [
    "dest_path = f'/gpfs/data/luilab/karthik/pediatric_seg_proj/hcp_ya_slices_npy/yolov7_bboxes/{id}/{slice}.npy'"
   ]
  },
  {
   "cell_type": "code",
   "execution_count": 59,
   "metadata": {},
   "outputs": [
    {
     "name": "stderr",
     "output_type": "stream",
     "text": [
      "100%|██████████| 1113/1113 [14:30<00:00,  1.28it/s]\n"
     ]
    }
   ],
   "source": [
    "\n",
    "for i, id in enumerate(tqdm(np.unique(df_merged['id']))):\n",
    "    id_df = df_merged[df_merged['id'] == id]\n",
    "    \n",
    "    for slice in range(256):\n",
    "        slice_df = id_df[id_df.slice == slice]\n",
    "        slice_df = slice_df.sort_values('label_number')\n",
    "        arr = np.array([slice_df.bbox_0, slice_df.bbox_1, slice_df.bbox_2, slice_df.bbox_3]).T\n",
    "        if not os.path.exists(f'/gpfs/data/luilab/karthik/pediatric_seg_proj/hcp_ya_slices_npy/yolov7_bboxes/{id}'):\n",
    "            os.makedirs(f'/gpfs/data/luilab/karthik/pediatric_seg_proj/hcp_ya_slices_npy/yolov7_bboxes/{id}')\n",
    "        dest_path = f'/gpfs/data/luilab/karthik/pediatric_seg_proj/hcp_ya_slices_npy/yolov7_bboxes/{id}/{slice}.npy'\n",
    "        np.save(dest_path, arr)"
   ]
  },
  {
   "cell_type": "code",
   "execution_count": 67,
   "metadata": {},
   "outputs": [],
   "source": [
    "# make a path dataframe with this as the path\n",
    "df_with_box_path = pd.read_csv('/gpfs/data/luilab/karthik/pediatric_seg_proj/path_df.csv')\n",
    "\n",
    "df_with_box_path['box_path'] = df_with_box_path.apply(lambda x: f'/gpfs/data/luilab/karthik/pediatric_seg_proj/hcp_ya_slices_npy/yolov7_bboxes/{x.id}/{x.slice}.npy', axis=1)"
   ]
  },
  {
   "cell_type": "code",
   "execution_count": 68,
   "metadata": {},
   "outputs": [],
   "source": [
    "df_with_box_path.to_csv('/gpfs/data/luilab/karthik/pediatric_seg_proj/path_df_with_yolov7_box_path.csv')"
   ]
  }
 ],
 "metadata": {
  "kernelspec": {
   "display_name": "Python 3",
   "language": "python",
   "name": "python3"
  },
  "language_info": {
   "codemirror_mode": {
    "name": "ipython",
    "version": 3
   },
   "file_extension": ".py",
   "mimetype": "text/x-python",
   "name": "python",
   "nbconvert_exporter": "python",
   "pygments_lexer": "ipython3",
   "version": "3.10.12"
  },
  "orig_nbformat": 4
 },
 "nbformat": 4,
 "nbformat_minor": 2
}
