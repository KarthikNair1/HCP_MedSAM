{
 "cells": [
  {
   "cell_type": "code",
   "execution_count": 1,
   "metadata": {},
   "outputs": [],
   "source": [
    "import pandas as pd\n",
    "import os\n",
    "import pickle"
   ]
  },
  {
   "cell_type": "code",
   "execution_count": null,
   "metadata": {},
   "outputs": [],
   "source": [
    "df = pd.read_csv('/gpfs/data/luilab/karthik/pediatric_seg_proj/per_class_isolated_df/yolov7/path_df_pooled_labels_only_with_bbox_yolov7.csv')"
   ]
  },
  {
   "cell_type": "code",
   "execution_count": null,
   "metadata": {},
   "outputs": [],
   "source": [
    "train_test_splits_path = '/gpfs/data/luilab/karthik/pediatric_seg_proj/train_val_test_split.pickle'\n",
    "dicto = pickle.load(open(train_test_splits_path, 'rb'))\n",
    "train_ids = dicto['train']\n",
    "val_ids = dicto['val']\n",
    "test_ids = dicto['test']"
   ]
  },
  {
   "cell_type": "code",
   "execution_count": 38,
   "metadata": {},
   "outputs": [],
   "source": [
    "fracs = [.005, .01, .05, .1, .25, .50, .75]\n",
    "total_num_ids = len(train_ids)\n",
    "for frac in fracs:\n",
    "    path = os.path.join('/gpfs/data/luilab/karthik/pediatric_seg_proj/subset_train_id_dfs_pooled', str(int(frac*1000)))\n",
    "    this_train_ids_num = int(total_num_ids * frac)\n",
    "    this_train_ids = train_ids[:this_train_ids_num]\n",
    "    this_df = df[df.id.isin(this_train_ids + val_ids + test_ids)].reset_index(drop=True)\n",
    "    this_df.to_csv(path + '.csv')\n"
   ]
  },
  {
   "cell_type": "code",
   "execution_count": 31,
   "metadata": {},
   "outputs": [
    {
     "name": "stdout",
     "output_type": "stream",
     "text": [
      "              label_number\n",
      "label_number              \n",
      "1                 0.030259\n",
      "2                 0.007820\n",
      "3                 0.001987\n",
      "4                 0.011467\n",
      "5                 0.016538\n",
      "...                    ...\n",
      "98                0.015345\n",
      "99                0.015071\n",
      "100               0.011728\n",
      "101               0.004264\n",
      "102               0.012263\n",
      "\n",
      "[102 rows x 1 columns]\n",
      "              label_number\n",
      "label_number              \n",
      "1                 0.030516\n",
      "2                 0.008003\n",
      "3                 0.001814\n",
      "4                 0.011524\n",
      "5                 0.016219\n",
      "...                    ...\n",
      "98                0.015507\n",
      "99                0.015223\n",
      "100               0.011879\n",
      "101               0.004161\n",
      "102               0.012235\n",
      "\n",
      "[102 rows x 1 columns]\n"
     ]
    }
   ],
   "source": [
    "xx = df.groupby('label_number').agg({'label_number':'count'})\n",
    "print(xx / xx.sum())\n",
    "yy = this_df.groupby('label_number').agg({'label_number':'count'})\n",
    "print(yy / yy.sum())"
   ]
  }
 ],
 "metadata": {
  "kernelspec": {
   "display_name": "Python 3",
   "language": "python",
   "name": "python3"
  },
  "language_info": {
   "codemirror_mode": {
    "name": "ipython",
    "version": 3
   },
   "file_extension": ".py",
   "mimetype": "text/x-python",
   "name": "python",
   "nbconvert_exporter": "python",
   "pygments_lexer": "ipython3",
   "version": "3.10.12"
  },
  "orig_nbformat": 4
 },
 "nbformat": 4,
 "nbformat_minor": 2
}
