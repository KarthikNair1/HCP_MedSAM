{
 "cells": [
  {
   "cell_type": "code",
   "execution_count": 1,
   "metadata": {},
   "outputs": [],
   "source": [
    "import numpy as np\n",
    "import matplotlib.pyplot as plt\n",
    "import os\n",
    "from tqdm import tqdm\n",
    "from glob import glob\n",
    "import pandas as pd\n",
    "import pickle\n",
    "import random\n",
    "from PIL import Image\n",
    "from glob import glob\n",
    "import re\n",
    "#from adjustText import adjust_text\n",
    "import seaborn as sns\n",
    "import statannot\n",
    "import argparse\n",
    "#import torch\n",
    "import wandb\n",
    "import sys"
   ]
  },
  {
   "cell_type": "code",
   "execution_count": 2,
   "metadata": {},
   "outputs": [],
   "source": [
    "def combine_into_one_pkl(pattern):\n",
    "    listo = glob(pattern)\n",
    "\n",
    "    dice_sens = []\n",
    "    dice_spec = []\n",
    "    overall_dice = []\n",
    "    labels = []\n",
    "\n",
    "    for x in listo:\n",
    "        this_pkl = pd.read_pickle(x)\n",
    "        label_num = int(x.split('/')[-2].split('label')[1])\n",
    "\n",
    "        labels.append(label_num)\n",
    "        dice_sens.append(this_pkl['dice_sensitivity'].item())\n",
    "        dice_spec.append(this_pkl['dice_specificity'].item())\n",
    "        overall_dice.append(this_pkl['overall_dice'].item())\n",
    "\n",
    "    total_df = pd.DataFrame({'dice_sensitivity': dice_sens,\n",
    "                            'dice_specificity': dice_spec,\n",
    "                            'overall_dice': overall_dice,\n",
    "                            'label_numbers': labels})\n",
    "    total_df = total_df.sort_values(by = 'label_numbers')\n",
    "    return total_df\n",
    "        \n"
   ]
  },
  {
   "cell_type": "code",
   "execution_count": 3,
   "metadata": {},
   "outputs": [],
   "source": [
    "#combine_into_one_pkl('/gpfs/data/luilab/karthik/pediatric_seg_proj/results_copied_from_kn2347/unet_eval_results_val_7-13-24/label*/eval_singletask_unet_val_label*.pkl')\n",
    "df_high = combine_into_one_pkl('/gpfs/data/luilab/karthik/pediatric_seg_proj/results_copied_from_kn2347/unet_eval_results_lr1e-4_val_7-30-24/label*/eval_singletask_unet_val_label*.pkl')\n",
    "df_low = combine_into_one_pkl('/gpfs/data/luilab/karthik/pediatric_seg_proj/results_copied_from_kn2347/unet_eval_results_lr1e-5_val_7-30-24/label*/eval_singletask_unet_val_label*.pkl')\n",
    "\n",
    "df_high.to_pickle('/gpfs/data/luilab/karthik/pediatric_seg_proj/results_copied_from_kn2347/unet_eval_results_lr1e-4_val_7-30-24/combined_val.pkl')\n",
    "df_low.to_pickle('/gpfs/data/luilab/karthik/pediatric_seg_proj/results_copied_from_kn2347/unet_eval_results_lr1e-5_val_7-30-24/combined_val.pkl')\n"
   ]
  },
  {
   "cell_type": "code",
   "execution_count": 13,
   "metadata": {},
   "outputs": [],
   "source": [
    "df_combined_medsam = combine_into_one_pkl('/gpfs/data/luilab/karthik/pediatric_seg_proj/results_copied_from_kn2347/singletask_medsam_eval_8-12-24/label*/eval_singletask_unprompted_val_label*.pkl')\n",
    "df_combined_medsam = df_combined_medsam.reset_index(drop=True)\n",
    "df_combined_medsam.to_pickle('/gpfs/data/luilab/karthik/pediatric_seg_proj/results_copied_from_kn2347/singletask_medsam_eval_8-12-24/combined_val.pkl')\n"
   ]
  }
 ],
 "metadata": {
  "kernelspec": {
   "display_name": "Python 3",
   "language": "python",
   "name": "python3"
  },
  "language_info": {
   "codemirror_mode": {
    "name": "ipython",
    "version": 3
   },
   "file_extension": ".py",
   "mimetype": "text/x-python",
   "name": "python",
   "nbconvert_exporter": "python",
   "pygments_lexer": "ipython3",
   "version": "3.10.12"
  }
 },
 "nbformat": 4,
 "nbformat_minor": 2
}
