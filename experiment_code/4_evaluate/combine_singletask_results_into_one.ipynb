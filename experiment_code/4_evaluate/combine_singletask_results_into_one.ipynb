{
 "cells": [
  {
   "cell_type": "code",
   "execution_count": 5,
   "metadata": {},
   "outputs": [],
   "source": [
    "import numpy as np\n",
    "import matplotlib.pyplot as plt\n",
    "import os\n",
    "from tqdm import tqdm\n",
    "from glob import glob\n",
    "import pandas as pd\n",
    "import pickle\n",
    "import random\n",
    "from PIL import Image\n",
    "from glob import glob\n",
    "import re\n",
    "#from adjustText import adjust_text\n",
    "import seaborn as sns\n",
    "import statannot\n",
    "import argparse\n",
    "#import torch\n",
    "import wandb\n",
    "import sys"
   ]
  },
  {
   "cell_type": "code",
   "execution_count": 2,
   "metadata": {},
   "outputs": [],
   "source": [
    "def combine_into_one_df(pattern, get_label_num = None):\n",
    "    listo = glob(pattern)\n",
    "\n",
    "    dice_sens = []\n",
    "    dice_spec = []\n",
    "    overall_dice = []\n",
    "    labels = []\n",
    "\n",
    "    for x in listo:\n",
    "        this_pkl = pd.read_pickle(x)\n",
    "        if get_label_num is None:\n",
    "            label_num = int(x.split('/')[-2].split('label')[1])\n",
    "        else:\n",
    "            label_num = get_label_num(x)\n",
    "\n",
    "        labels.append(label_num)\n",
    "        dice_sens.append(this_pkl['dice_sensitivity'].item())\n",
    "        dice_spec.append(this_pkl['dice_specificity'].item())\n",
    "        overall_dice.append(this_pkl['overall_dice'].item())\n",
    "\n",
    "    total_df = pd.DataFrame({'dice_sensitivity': dice_sens,\n",
    "                            'dice_specificity': dice_spec,\n",
    "                            'overall_dice': overall_dice,\n",
    "                            'label_numbers': labels})\n",
    "    total_df = total_df.sort_values(by = 'label_numbers')\n",
    "    return total_df\n",
    "        \n"
   ]
  },
  {
   "cell_type": "code",
   "execution_count": 3,
   "metadata": {},
   "outputs": [],
   "source": [
    "#combine_into_one_pkl('/gpfs/data/luilab/karthik/pediatric_seg_proj/results_copied_from_kn2347/unet_eval_results_val_7-13-24/label*/eval_singletask_unet_val_label*.pkl')\n",
    "df_high = combine_into_one_df('/gpfs/data/luilab/karthik/pediatric_seg_proj/results_copied_from_kn2347/unet_eval_results_lr1e-4_val_7-30-24/label*/eval_singletask_unet_val_label*.pkl')\n",
    "df_low = combine_into_one_df('/gpfs/data/luilab/karthik/pediatric_seg_proj/results_copied_from_kn2347/unet_eval_results_lr1e-5_val_7-30-24/label*/eval_singletask_unet_val_label*.pkl')\n",
    "\n",
    "df_high.to_pickle('/gpfs/data/luilab/karthik/pediatric_seg_proj/results_copied_from_kn2347/unet_eval_results_lr1e-4_val_7-30-24/combined_val.pkl')\n",
    "df_low.to_pickle('/gpfs/data/luilab/karthik/pediatric_seg_proj/results_copied_from_kn2347/unet_eval_results_lr1e-5_val_7-30-24/combined_val.pkl')\n"
   ]
  },
  {
   "cell_type": "code",
   "execution_count": null,
   "metadata": {},
   "outputs": [],
   "source": [
    "df_combined_medsam = combine_into_one_df('/gpfs/data/luilab/karthik/pediatric_seg_proj/results_copied_from_kn2347/medsam_retrain_9-12-24/val/*/0.001/eval_singletask_unprompted_val_label*.pkl', get_label_num = lambda x: int(x.split('/')[-3]))\n",
    "df_combined_medsam = df_combined_medsam.reset_index(drop=True)\n",
    "df_combined_medsam\n",
    "#df_combined_medsam.to_pickle('/gpfs/data/luilab/karthik/pediatric_seg_proj/results_copied_from_kn2347/medsam_retrain_9-12-24/val/combined_val.pkl')\n"
   ]
  },
  {
   "cell_type": "code",
   "execution_count": 8,
   "metadata": {},
   "outputs": [],
   "source": [
    "df_combined_unet = combine_into_one_df('/gpfs/data/luilab/karthik/pediatric_seg_proj/results_copied_from_kn2347/unet_retrain_all_labels_9-9-24/val/*/0.0005/eval_singletask_unet_val_label*.pkl', get_label_num = lambda x: int(x.split('/')[-3]))\n",
    "#df_combined_unet\n",
    "#df_combined_unet.to_pickle('/gpfs/data/luilab/karthik/pediatric_seg_proj/results_copied_from_kn2347/unet_retrain_all_labels_9-9-24/val/combined_val.pkl')\n",
    "\n",
    "df_combined_unet_ce = combine_into_one_df('/gpfs/data/luilab/karthik/pediatric_seg_proj/results_copied_from_kn2347/unet_retrain_all_labels_CE_10-31-24/val/*/0.0005/eval_singletask_unet_val_label*.pkl', get_label_num = lambda x: int(x.split('/')[-3]))\n",
    "df_combined_unet_ce = df_combined_unet_ce.reset_index(drop=True)\n",
    "df_combined_unet_ce.to_pickle('/gpfs/data/luilab/karthik/pediatric_seg_proj/results_copied_from_kn2347/unet_retrain_all_labels_CE_10-31-24/val/combined_val.pkl')"
   ]
  },
  {
   "cell_type": "code",
   "execution_count": 8,
   "metadata": {},
   "outputs": [],
   "source": [
    "# combine medsam yolo results\n",
    "df_medsam_yolo = combine_into_one_df('/gpfs/data/luilab/karthik/pediatric_seg_proj/results_copied_from_kn2347/singletask_medsam_with_yolo_main_10-14-24/val/*/0.001/*.pkl', get_label_num = lambda x: int(x.split('/')[-3]))\n",
    "df_medsam_yolo = df_medsam_yolo.reset_index(drop=True)\n",
    "df_medsam_yolo.to_pickle('/gpfs/data/luilab/karthik/pediatric_seg_proj/results_copied_from_kn2347/singletask_medsam_with_yolo_main_10-14-24/val/combined_val_INCOMPLETE.pkl')"
   ]
  },
  {
   "cell_type": "code",
   "execution_count": 8,
   "metadata": {},
   "outputs": [],
   "source": [
    "df_combined_sam = combine_into_one_df('/gpfs/data/luilab/karthik/pediatric_seg_proj/results_copied_from_kn2347/singletask_SAM_training_all_labels_10-18-24/val/*/0.001/eval_singletask_unprompted_val_label*.pkl', get_label_num = lambda x: int(x.split('/')[-3]))\n",
    "df_combined_sam = df_combined_sam.reset_index(drop=True)\n",
    "df_combined_sam.to_pickle('/gpfs/data/luilab/karthik/pediatric_seg_proj/results_copied_from_kn2347/singletask_SAM_training_all_labels_10-18-24/val/combined_val.pkl')"
   ]
  },
  {
   "cell_type": "code",
   "execution_count": 3,
   "metadata": {},
   "outputs": [],
   "source": [
    "df_combined_medsam_yolo_untrained = combine_into_one_df('/gpfs/data/luilab/karthik/pediatric_seg_proj/results_copied_from_kn2347/singletask_untrained_medsam_yolo_10-22-24/val/*/0.001/eval_singletask_yolov7_prompted_val_label*.pkl', get_label_num = lambda x: int(x.split('/')[-3]))\n",
    "df_combined_medsam_yolo_untrained = df_combined_medsam_yolo_untrained.reset_index(drop=True)\n",
    "df_combined_medsam_yolo_untrained.to_pickle('/gpfs/data/luilab/karthik/pediatric_seg_proj/results_copied_from_kn2347/singletask_untrained_medsam_yolo_10-22-24/val/combined_val.pkl')"
   ]
  },
  {
   "cell_type": "code",
   "execution_count": 3,
   "metadata": {},
   "outputs": [],
   "source": [
    "df_medsam_dice = combine_into_one_df('/gpfs/data/luilab/karthik/pediatric_seg_proj/results_copied_from_kn2347/medsam_retrain_dice_11-1-24/val/*/0.0005/eval_singletask_unprompted_val_label*.pkl', get_label_num = lambda x: int(x.split('/')[-3]))\n",
    "df_medsam_dice = df_medsam_dice.reset_index(drop=True)\n",
    "df_medsam_dice.to_pickle('/gpfs/data/luilab/karthik/pediatric_seg_proj/results_copied_from_kn2347/medsam_retrain_dice_11-1-24/val/combined_val.pkl')"
   ]
  }
 ],
 "metadata": {
  "kernelspec": {
   "display_name": "Python 3",
   "language": "python",
   "name": "python3"
  },
  "language_info": {
   "codemirror_mode": {
    "name": "ipython",
    "version": 3
   },
   "file_extension": ".py",
   "mimetype": "text/x-python",
   "name": "python",
   "nbconvert_exporter": "python",
   "pygments_lexer": "ipython3",
   "version": "3.10.12"
  }
 },
 "nbformat": 4,
 "nbformat_minor": 2
}
