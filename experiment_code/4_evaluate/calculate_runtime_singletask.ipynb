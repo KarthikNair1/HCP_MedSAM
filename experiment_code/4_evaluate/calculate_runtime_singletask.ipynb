{
 "cells": [
  {
   "cell_type": "code",
   "execution_count": 1,
   "metadata": {},
   "outputs": [],
   "source": [
    "import numpy as np\n",
    "import matplotlib.pyplot as plt\n",
    "import os\n",
    "from tqdm import tqdm\n",
    "from glob import glob\n",
    "import pandas as pd\n",
    "import pickle\n",
    "import random\n",
    "from PIL import Image\n",
    "from glob import glob\n",
    "import re\n",
    "#from adjustText import adjust_text\n",
    "import seaborn as sns\n",
    "import statannot\n",
    "import argparse\n",
    "#import torch\n",
    "import wandb\n",
    "import sys\n",
    "sys.path.append('./modified_medsam_repo')"
   ]
  },
  {
   "cell_type": "code",
   "execution_count": 14,
   "metadata": {},
   "outputs": [],
   "source": [
    "def read_tag_from_wandb(tag, project_name, min_epoch_cutoff = 4):\n",
    "    # read yolov7 runs\n",
    "    api = wandb.Api()\n",
    "    \n",
    "    # Project is specified by <entity/project-name>\n",
    "    runs = api.runs(path =f\"nair-karthik00/{project_name}\", filters = {'tags': tag})\n",
    "    #runs.append(api.run('nair-karthik00/MedSAM_finetune_hcp_ya_second_round_with_bbox/a935xpc7'))\n",
    "\n",
    "    summary_list, config_list, name_list = [], [], []\n",
    "    id_seen = {}\n",
    "    for run in runs:\n",
    "        name = run.name\n",
    "        #if not re.match(pattern, name):\n",
    "        #    continue\n",
    "        if run.id in id_seen.keys(): # sometimes wandb passes in the same run twice, so safeguard against this\n",
    "            continue\n",
    "        else:\n",
    "            id_seen[run.id] = True\n",
    "        \n",
    "        \n",
    "        # .summary contains the output keys/values for metrics like accuracy.\n",
    "        #  We call ._json_dict to omit large files\n",
    "        dicto = run.summary._json_dict\n",
    "        #print(dicto)\n",
    "        if 'val_dice_scores/class_Unknown' not in dicto.keys() or dicto['epoch'] < min_epoch_cutoff: # this run is not finished yet\n",
    "            print('skip ' + name.split('_')[0].split('label')[1])\n",
    "            continue\n",
    "        summary_list.append(dicto)\n",
    "\n",
    "        # .config contains the hyperparameters.\n",
    "        #  We remove special values that start with _.\n",
    "        config_list.append(\n",
    "            {k: v for k,v in run.config.items()\n",
    "            if not k.startswith('_')})\n",
    "\n",
    "        # .name is the human-readable name of the run.\n",
    "        name_list.append(run.name)\n",
    "\n",
    "\n",
    "    runs_df = pd.DataFrame({\n",
    "        \"summary\": summary_list,\n",
    "        \"config\": config_list,\n",
    "        \"name\": name_list\n",
    "        })\n",
    "    runs_df['label'] = [int(x.split('_')[0].split('label')[1]) for x in runs_df['name']]\n",
    "    runs_df['val_dice_score'] = [x['val_dice_scores/class_Unknown']['max'] for x in runs_df['summary']]\n",
    "    runs_df['num_samples_per_epoch'] = [x['num_training_samples'] / (x['epoch']+1) for x in runs_df['summary']]\n",
    "    runs_df['num_samples_per_epoch'] = runs_df['num_samples_per_epoch'].astype(int)\n",
    "    runs_df['runtime'] = [x['_runtime'] for x in runs_df['summary']]\n",
    "    runs_df = runs_df.sort_values('label').reset_index(drop=True)\n",
    "    ret_df = runs_df[['label', 'val_dice_score', 'num_samples_per_epoch', 'runtime']]\n",
    "\n",
    "    #assert ret_df.shape[0] == 102\n",
    "    assert ret_df['label'].value_counts().max() == 1\n",
    "    \n",
    "    return ret_df"
   ]
  },
  {
   "cell_type": "code",
   "execution_count": 28,
   "metadata": {},
   "outputs": [
    {
     "name": "stdout",
     "output_type": "stream",
     "text": [
      "skip 90\n",
      "skip 89\n",
      "skip 87\n",
      "skip 86\n",
      "skip 66\n",
      "skip 63\n"
     ]
    }
   ],
   "source": [
    "dfo = read_tag_from_wandb('singletask_30epochs', 'MedSAM_finetune_hcp_ya_second_round_with_bbox', min_epoch_cutoff = 4)\n",
    "dfo\n",
    "\n",
    "dfo2 = read_tag_from_wandb('singletask_60epochs', 'MedSAM_finetune_hcp_ya_second_round_with_bbox', min_epoch_cutoff = 4)\n",
    "#dfo2"
   ]
  },
  {
   "cell_type": "code",
   "execution_count": 29,
   "metadata": {},
   "outputs": [
    {
     "name": "stdout",
     "output_type": "stream",
     "text": [
      "1: mean time is 9204.95237827301 seconds\n",
      "1: total time is 938905.142583847 seconds\n",
      "2: mean time is 8384.323357011333 seconds\n",
      "2: total time is 855200.982415156 seconds\n"
     ]
    }
   ],
   "source": [
    "print('1: mean time is', dfo['runtime'].mean(), 'seconds')\n",
    "print('1: total time is', dfo['runtime'].mean() * 102, 'seconds')\n",
    "\n",
    "print('2: mean time is', dfo2['runtime'].mean(), 'seconds')\n",
    "print('2: total time is', dfo2['runtime'].mean() * 102, 'seconds')"
   ]
  },
  {
   "cell_type": "code",
   "execution_count": 38,
   "metadata": {},
   "outputs": [
    {
     "data": {
      "text/plain": [
       "0     96532\n",
       "1     24944\n",
       "2      6346\n",
       "3     36553\n",
       "4     52707\n",
       "      ...  \n",
       "93    48913\n",
       "94    48092\n",
       "95    37394\n",
       "96    13605\n",
       "97    39100\n",
       "Name: num_samples_per_epoch, Length: 98, dtype: int64"
      ]
     },
     "execution_count": 38,
     "metadata": {},
     "output_type": "execute_result"
    }
   ],
   "source": [
    "dfo['num_samples_per_epoch']"
   ]
  },
  {
   "cell_type": "code",
   "execution_count": 39,
   "metadata": {},
   "outputs": [
    {
     "data": {
      "text/plain": [
       "2827072"
      ]
     },
     "execution_count": 39,
     "metadata": {},
     "output_type": "execute_result"
    }
   ],
   "source": [
    "dfo2['num_samples_per_epoch'].sum() * 2 # have to multiply by 2 because the calculation used epochs=30...60 not 0...30"
   ]
  },
  {
   "cell_type": "code",
   "execution_count": 34,
   "metadata": {},
   "outputs": [
    {
     "data": {
      "text/plain": [
       "92555520"
      ]
     },
     "execution_count": 34,
     "metadata": {},
     "output_type": "execute_result"
    }
   ],
   "source": [
    "3085184 * 30"
   ]
  }
 ],
 "metadata": {
  "kernelspec": {
   "display_name": "Python 3",
   "language": "python",
   "name": "python3"
  },
  "language_info": {
   "codemirror_mode": {
    "name": "ipython",
    "version": 3
   },
   "file_extension": ".py",
   "mimetype": "text/x-python",
   "name": "python",
   "nbconvert_exporter": "python",
   "pygments_lexer": "ipython3",
   "version": "3.10.12"
  },
  "orig_nbformat": 4
 },
 "nbformat": 4,
 "nbformat_minor": 2
}
