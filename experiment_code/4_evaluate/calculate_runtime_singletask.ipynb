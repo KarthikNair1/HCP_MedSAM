{
 "cells": [
  {
   "cell_type": "code",
   "execution_count": 2,
   "metadata": {},
   "outputs": [],
   "source": [
    "import numpy as np\n",
    "import matplotlib.pyplot as plt\n",
    "import os\n",
    "from tqdm import tqdm\n",
    "from glob import glob\n",
    "import pandas as pd\n",
    "import pickle\n",
    "import random\n",
    "from PIL import Image\n",
    "from glob import glob\n",
    "import re\n",
    "#from adjustText import adjust_text\n",
    "import seaborn as sns\n",
    "import statannot\n",
    "import argparse\n",
    "#import torch\n",
    "import wandb\n",
    "import sys\n",
    "sys.path.append('./modified_medsam_repo')"
   ]
  },
  {
   "cell_type": "code",
   "execution_count": 11,
   "metadata": {},
   "outputs": [],
   "source": [
    "def read_tag_from_wandb(tag, project_name, min_epoch_cutoff = 4):\n",
    "    # read yolov7 runs\n",
    "    api = wandb.Api()\n",
    "    \n",
    "    # Project is specified by <entity/project-name>\n",
    "    runs = api.runs(path =f\"nair-karthik00/{project_name}\", filters = {'tags': tag})\n",
    "    #runs.append(api.run('nair-karthik00/MedSAM_finetune_hcp_ya_second_round_with_bbox/a935xpc7'))\n",
    "\n",
    "    summary_list, config_list, name_list = [], [], []\n",
    "    id_seen = {}\n",
    "    for run in runs:\n",
    "        name = run.name\n",
    "        #if not re.match(pattern, name):\n",
    "        #    continue\n",
    "        if run.id in id_seen.keys(): # sometimes wandb passes in the same run twice, so safeguard against this\n",
    "            continue\n",
    "        else:\n",
    "            id_seen[run.id] = True\n",
    "        \n",
    "        \n",
    "        # .summary contains the output keys/values for metrics like accuracy.\n",
    "        #  We call ._json_dict to omit large files\n",
    "        dicto = run.summary._json_dict\n",
    "        #print(dicto)\n",
    "        if ('val_dice_score' not in dicto.keys() and 'val_dice_scores/class_Unknown' not in dicto.keys()) or dicto['epoch'] < min_epoch_cutoff: # this run is not finished yet\n",
    "            print('skip ' + name.split('_')[0].split('label')[1])\n",
    "            continue\n",
    "        summary_list.append(dicto)\n",
    "\n",
    "        # .config contains the hyperparameters.\n",
    "        #  We remove special values that start with _.\n",
    "        config_list.append(\n",
    "            {k: v for k,v in run.config.items()\n",
    "            if not k.startswith('_')})\n",
    "\n",
    "        # .name is the human-readable name of the run.\n",
    "        name_list.append(run.name)\n",
    "\n",
    "\n",
    "    runs_df = pd.DataFrame({\n",
    "        \"summary\": summary_list,\n",
    "        \"config\": config_list,\n",
    "        \"name\": name_list\n",
    "        })\n",
    "\n",
    "    desire_cols = ['label', 'val_dice_score']\n",
    "    runs_df['label'] = [int(x.split('_')[0].split('label')[1]) for x in runs_df['name']]\n",
    "    if 'val_dice_score' in runs_df['summary'][0]:\n",
    "        runs_df['val_dice_score'] = [x['val_dice_score'] for x in runs_df['summary']]\n",
    "    elif 'val_dice_scores/class_Unknown' in runs_df['summary'][0]:\n",
    "        runs_df['val_dice_score'] = [x['val_dice_scores/class_Unknown']['max'] for x in runs_df['summary']]\n",
    "    if 'num_training_samples' in runs_df['summary'][0]:\n",
    "        runs_df['num_samples_per_epoch'] = [x['num_training_samples'] / (x['epoch']+1) for x in runs_df['summary']]\n",
    "        runs_df['num_samples_per_epoch'] = runs_df['num_samples_per_epoch'].astype(int)\n",
    "        desire_cols.append('num_samples_per_epoch')\n",
    "    \n",
    "    runs_df['runtime'] = [x['_runtime'] for x in runs_df['summary']]\n",
    "    desire_cols.append('runtime')\n",
    "\n",
    "    runs_df = runs_df.sort_values('label').reset_index(drop=True)\n",
    "    ret_df = runs_df[desire_cols]\n",
    "\n",
    "    #assert ret_df.shape[0] == 102\n",
    "    assert ret_df['label'].value_counts().max() == 1\n",
    "    \n",
    "    return ret_df"
   ]
  },
  {
   "cell_type": "code",
   "execution_count": null,
   "metadata": {},
   "outputs": [],
   "source": [
    "dfo = read_tag_from_wandb('unet_final_main_run', 'singletask_unet', min_epoch_cutoff = 9)\n",
    "dfo['model_type'] = 'UNet'\n",
    "\n",
    "dfo2 = read_tag_from_wandb('medsam_final_diceloss', 'singletask_medsam_no_yolo', min_epoch_cutoff = 9)\n",
    "dfo2 = dfo2[['label', 'val_dice_score', 'runtime']]\n",
    "dfo2['model_type'] = 'MedSAM'\n",
    "\n",
    "dfo3 = read_tag_from_wandb('final_run', 'singletask_medsam_with_yolo', min_epoch_cutoff = 9)\n",
    "dfo3 = dfo3[['label', 'val_dice_score', 'runtime']]\n",
    "dfo3['model_type'] = 'MedSAM + YOLO'\n",
    "\n",
    "combined_df = pd.concat([dfo, dfo2, dfo3], axis=0, ignore_index=True)\n",
    "combined_df = combined_df.sort_values(['model_type', 'label']).reset_index(drop=True)\n",
    "\n",
    "combined_df.to_csv('/gpfs/data/luilab/karthik/pediatric_seg_proj/results_copied_from_kn2347/main_training_runtimes_12-17-24/training_runtimes.csv', index=False)"
   ]
  },
  {
   "cell_type": "code",
   "execution_count": 16,
   "metadata": {},
   "outputs": [
    {
     "data": {
      "text/html": [
       "<div>\n",
       "<style scoped>\n",
       "    .dataframe tbody tr th:only-of-type {\n",
       "        vertical-align: middle;\n",
       "    }\n",
       "\n",
       "    .dataframe tbody tr th {\n",
       "        vertical-align: top;\n",
       "    }\n",
       "\n",
       "    .dataframe thead th {\n",
       "        text-align: right;\n",
       "    }\n",
       "</style>\n",
       "<table border=\"1\" class=\"dataframe\">\n",
       "  <thead>\n",
       "    <tr style=\"text-align: right;\">\n",
       "      <th></th>\n",
       "      <th>label</th>\n",
       "      <th>val_dice_score</th>\n",
       "      <th>runtime</th>\n",
       "      <th>model_type</th>\n",
       "    </tr>\n",
       "  </thead>\n",
       "  <tbody>\n",
       "    <tr>\n",
       "      <th>100</th>\n",
       "      <td>101</td>\n",
       "      <td>0.647358</td>\n",
       "      <td>4984.041026</td>\n",
       "      <td>MedSAM</td>\n",
       "    </tr>\n",
       "    <tr>\n",
       "      <th>101</th>\n",
       "      <td>102</td>\n",
       "      <td>0.742135</td>\n",
       "      <td>8266.564876</td>\n",
       "      <td>MedSAM</td>\n",
       "    </tr>\n",
       "    <tr>\n",
       "      <th>102</th>\n",
       "      <td>1</td>\n",
       "      <td>0.886768</td>\n",
       "      <td>14817.800648</td>\n",
       "      <td>MedSAM + YOLO</td>\n",
       "    </tr>\n",
       "    <tr>\n",
       "      <th>103</th>\n",
       "      <td>2</td>\n",
       "      <td>0.869648</td>\n",
       "      <td>3916.427971</td>\n",
       "      <td>MedSAM + YOLO</td>\n",
       "    </tr>\n",
       "    <tr>\n",
       "      <th>104</th>\n",
       "      <td>4</td>\n",
       "      <td>0.731803</td>\n",
       "      <td>5466.600914</td>\n",
       "      <td>MedSAM + YOLO</td>\n",
       "    </tr>\n",
       "    <tr>\n",
       "      <th>105</th>\n",
       "      <td>5</td>\n",
       "      <td>0.879079</td>\n",
       "      <td>8673.086674</td>\n",
       "      <td>MedSAM + YOLO</td>\n",
       "    </tr>\n",
       "    <tr>\n",
       "      <th>106</th>\n",
       "      <td>6</td>\n",
       "      <td>0.872683</td>\n",
       "      <td>2409.245196</td>\n",
       "      <td>MedSAM + YOLO</td>\n",
       "    </tr>\n",
       "    <tr>\n",
       "      <th>107</th>\n",
       "      <td>7</td>\n",
       "      <td>0.877647</td>\n",
       "      <td>3206.574337</td>\n",
       "      <td>MedSAM + YOLO</td>\n",
       "    </tr>\n",
       "    <tr>\n",
       "      <th>108</th>\n",
       "      <td>8</td>\n",
       "      <td>0.854013</td>\n",
       "      <td>3644.233057</td>\n",
       "      <td>MedSAM + YOLO</td>\n",
       "    </tr>\n",
       "    <tr>\n",
       "      <th>109</th>\n",
       "      <td>9</td>\n",
       "      <td>0.710452</td>\n",
       "      <td>1171.433670</td>\n",
       "      <td>MedSAM + YOLO</td>\n",
       "    </tr>\n",
       "    <tr>\n",
       "      <th>110</th>\n",
       "      <td>10</td>\n",
       "      <td>0.465377</td>\n",
       "      <td>694.388070</td>\n",
       "      <td>MedSAM + YOLO</td>\n",
       "    </tr>\n",
       "    <tr>\n",
       "      <th>111</th>\n",
       "      <td>11</td>\n",
       "      <td>0.835071</td>\n",
       "      <td>3120.717980</td>\n",
       "      <td>MedSAM + YOLO</td>\n",
       "    </tr>\n",
       "    <tr>\n",
       "      <th>112</th>\n",
       "      <td>12</td>\n",
       "      <td>0.895985</td>\n",
       "      <td>8329.374481</td>\n",
       "      <td>MedSAM + YOLO</td>\n",
       "    </tr>\n",
       "    <tr>\n",
       "      <th>113</th>\n",
       "      <td>13</td>\n",
       "      <td>0.878200</td>\n",
       "      <td>2317.889339</td>\n",
       "      <td>MedSAM + YOLO</td>\n",
       "    </tr>\n",
       "    <tr>\n",
       "      <th>114</th>\n",
       "      <td>14</td>\n",
       "      <td>0.861463</td>\n",
       "      <td>1812.324336</td>\n",
       "      <td>MedSAM + YOLO</td>\n",
       "    </tr>\n",
       "    <tr>\n",
       "      <th>115</th>\n",
       "      <td>15</td>\n",
       "      <td>0.749507</td>\n",
       "      <td>2049.770596</td>\n",
       "      <td>MedSAM + YOLO</td>\n",
       "    </tr>\n",
       "    <tr>\n",
       "      <th>116</th>\n",
       "      <td>16</td>\n",
       "      <td>0.790589</td>\n",
       "      <td>1160.304092</td>\n",
       "      <td>MedSAM + YOLO</td>\n",
       "    </tr>\n",
       "    <tr>\n",
       "      <th>117</th>\n",
       "      <td>17</td>\n",
       "      <td>0.789398</td>\n",
       "      <td>1924.549432</td>\n",
       "      <td>MedSAM + YOLO</td>\n",
       "    </tr>\n",
       "    <tr>\n",
       "      <th>118</th>\n",
       "      <td>19</td>\n",
       "      <td>0.618158</td>\n",
       "      <td>2515.822962</td>\n",
       "      <td>MedSAM + YOLO</td>\n",
       "    </tr>\n",
       "    <tr>\n",
       "      <th>119</th>\n",
       "      <td>20</td>\n",
       "      <td>0.886812</td>\n",
       "      <td>12439.854766</td>\n",
       "      <td>MedSAM + YOLO</td>\n",
       "    </tr>\n",
       "  </tbody>\n",
       "</table>\n",
       "</div>"
      ],
      "text/plain": [
       "     label  val_dice_score       runtime     model_type\n",
       "100    101        0.647358   4984.041026         MedSAM\n",
       "101    102        0.742135   8266.564876         MedSAM\n",
       "102      1        0.886768  14817.800648  MedSAM + YOLO\n",
       "103      2        0.869648   3916.427971  MedSAM + YOLO\n",
       "104      4        0.731803   5466.600914  MedSAM + YOLO\n",
       "105      5        0.879079   8673.086674  MedSAM + YOLO\n",
       "106      6        0.872683   2409.245196  MedSAM + YOLO\n",
       "107      7        0.877647   3206.574337  MedSAM + YOLO\n",
       "108      8        0.854013   3644.233057  MedSAM + YOLO\n",
       "109      9        0.710452   1171.433670  MedSAM + YOLO\n",
       "110     10        0.465377    694.388070  MedSAM + YOLO\n",
       "111     11        0.835071   3120.717980  MedSAM + YOLO\n",
       "112     12        0.895985   8329.374481  MedSAM + YOLO\n",
       "113     13        0.878200   2317.889339  MedSAM + YOLO\n",
       "114     14        0.861463   1812.324336  MedSAM + YOLO\n",
       "115     15        0.749507   2049.770596  MedSAM + YOLO\n",
       "116     16        0.790589   1160.304092  MedSAM + YOLO\n",
       "117     17        0.789398   1924.549432  MedSAM + YOLO\n",
       "118     19        0.618158   2515.822962  MedSAM + YOLO\n",
       "119     20        0.886812  12439.854766  MedSAM + YOLO"
      ]
     },
     "execution_count": 16,
     "metadata": {},
     "output_type": "execute_result"
    }
   ],
   "source": [
    "combined_df[100:120]"
   ]
  },
  {
   "cell_type": "code",
   "execution_count": 28,
   "metadata": {},
   "outputs": [
    {
     "data": {
      "text/plain": [
       "<matplotlib.lines._AxLine at 0x15550a255f30>"
      ]
     },
     "execution_count": 28,
     "metadata": {},
     "output_type": "execute_result"
    },
    {
     "data": {
      "image/png": "[encoded data removed]",
      "text/plain": [
       "<Figure size 640x480 with 1 Axes>"
      ]
     },
     "metadata": {},
     "output_type": "display_data"
    }
   ],
   "source": [
    "fig, axs = plt.subplots()\n",
    "axs.scatter(dfo2['runtime'], dfo['runtime'])\n",
    "axs.axline((0, 0), slope=1)"
   ]
  },
  {
   "cell_type": "code",
   "execution_count": 29,
   "metadata": {},
   "outputs": [
    {
     "name": "stdout",
     "output_type": "stream",
     "text": [
      "1: mean time is 8393.81137964071 seconds\n",
      "1: total time is 856168.7607233524 seconds\n",
      "2: mean time is 7434.276131985234 seconds\n",
      "2: total time is 758296.1654624939 seconds\n"
     ]
    }
   ],
   "source": [
    "print('1: mean time is', dfo['runtime'].mean(), 'seconds')\n",
    "print('1: total time is', dfo['runtime'].mean() * 102, 'seconds')\n",
    "\n",
    "print('2: mean time is', dfo2['runtime'].mean(), 'seconds')\n",
    "print('2: total time is', dfo2['runtime'].mean() * 102, 'seconds')"
   ]
  },
  {
   "cell_type": "code",
   "execution_count": 38,
   "metadata": {},
   "outputs": [
    {
     "data": {
      "text/plain": [
       "0     96532\n",
       "1     24944\n",
       "2      6346\n",
       "3     36553\n",
       "4     52707\n",
       "      ...  \n",
       "93    48913\n",
       "94    48092\n",
       "95    37394\n",
       "96    13605\n",
       "97    39100\n",
       "Name: num_samples_per_epoch, Length: 98, dtype: int64"
      ]
     },
     "execution_count": 38,
     "metadata": {},
     "output_type": "execute_result"
    }
   ],
   "source": [
    "dfo['num_samples_per_epoch']"
   ]
  },
  {
   "cell_type": "code",
   "execution_count": 39,
   "metadata": {},
   "outputs": [
    {
     "data": {
      "text/plain": [
       "2827072"
      ]
     },
     "execution_count": 39,
     "metadata": {},
     "output_type": "execute_result"
    }
   ],
   "source": [
    "dfo2['num_samples_per_epoch'].sum() * 2 # have to multiply by 2 because the calculation used epochs=30...60 not 0...30"
   ]
  },
  {
   "cell_type": "code",
   "execution_count": 34,
   "metadata": {},
   "outputs": [
    {
     "data": {
      "text/plain": [
       "92555520"
      ]
     },
     "execution_count": 34,
     "metadata": {},
     "output_type": "execute_result"
    }
   ],
   "source": [
    "3085184 * 30"
   ]
  }
 ],
 "metadata": {
  "kernelspec": {
   "display_name": "medsam",
   "language": "python",
   "name": "python3"
  },
  "language_info": {
   "codemirror_mode": {
    "name": "ipython",
    "version": 3
   },
   "file_extension": ".py",
   "mimetype": "text/x-python",
   "name": "python",
   "nbconvert_exporter": "python",
   "pygments_lexer": "ipython3",
   "version": "3.10.12"
  },
  "orig_nbformat": 4
 },
 "nbformat": 4,
 "nbformat_minor": 2
}
