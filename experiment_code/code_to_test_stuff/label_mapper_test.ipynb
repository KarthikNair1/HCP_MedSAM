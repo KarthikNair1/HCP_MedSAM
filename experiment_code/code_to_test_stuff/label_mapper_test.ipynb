{
 "cells": [
  {
   "cell_type": "code",
   "execution_count": 1,
   "metadata": {},
   "outputs": [],
   "source": [
    "%load_ext autoreload\n",
    "%autoreload 2"
   ]
  },
  {
   "cell_type": "code",
   "execution_count": 2,
   "metadata": {},
   "outputs": [],
   "source": [
    "import numpy as np\n",
    "import matplotlib.pyplot as plt\n",
    "import os\n",
    "join = os.path.join\n",
    "from tqdm import tqdm\n",
    "from skimage import transform\n",
    "import torch\n",
    "import torch.nn as nn\n",
    "from torch.utils.data import Dataset, DataLoader\n",
    "import torch.multiprocessing as mp\n",
    "import monai\n",
    "import sys\n",
    "sys.path.append('./modified_medsam_repo')\n",
    "from segment_anything import sam_model_registry\n",
    "import torch.nn.functional as F\n",
    "import argparse\n",
    "import random\n",
    "from datetime import datetime\n",
    "import shutil\n",
    "import glob\n",
    "import pandas as pd\n",
    "import nibabel as nib\n",
    "import pickle\n",
    "import time\n",
    "\n",
    "from MedSAM_HCP.dataset import MRIDataset, load_datasets\n",
    "from MedSAM_HCP.MedSAM import MedSAM, medsam_inference\n",
    "from MedSAM_HCP.build_sam import build_sam_vit_b_multiclass\n",
    "from MedSAM_HCP.utils_hcp import *"
   ]
  },
  {
   "cell_type": "code",
   "execution_count": 12,
   "metadata": {},
   "outputs": [
    {
     "name": "stdout",
     "output_type": "stream",
     "text": [
      "                      region_name  region_index\n",
      "0      Left-Cerebral-White-Matter             1\n",
      "1          Left-Lateral-Ventricle             2\n",
      "2               Left-Inf-Lat-Vent             3\n",
      "3    Left-Cerebellum-White-Matter             4\n",
      "4          Left-Cerebellum-Cortex             5\n",
      "..                            ...           ...\n",
      "98        ctx-rh-superiortemporal            99\n",
      "99           ctx-rh-supramarginal           100\n",
      "100     ctx-rh-transversetemporal           101\n",
      "101                 ctx-rh-insula           102\n",
      "102                       Unknown             0\n",
      "\n",
      "[103 rows x 2 columns]\n"
     ]
    }
   ],
   "source": [
    "list_tups = pd.read_pickle('/gpfs/home/kn2347/MedSAM/darts_name_class_mapping_raw.p')\n",
    "\n",
    "region_index = [x[0] for x in list_tups]\n",
    "region_name = [x[1] for x in list_tups]\n",
    "df = pd.DataFrame({'region_name':region_name, 'region_index':region_index})\n",
    "\n",
    "df.loc[df['region_name']=='None', 'region_name'] = 'Unknown'\n",
    "\n",
    "if df[df['region_name']=='Unknown']['region_index'].squeeze() != 0:\n",
    "    df['region_index'] += 1\n",
    "    df.loc[df['region_name']=='Unknown', 'region_index'] = 0\n",
    "\n",
    "df_desired = df\n",
    "df_desired.to_csv('/gpfs/home/kn2347/MedSAM/darts_name_class_mapping_processed.csv', index=False)\n",
    "print(df_desired)"
   ]
  },
  {
   "cell_type": "code",
   "execution_count": 27,
   "metadata": {},
   "outputs": [
    {
     "data": {
      "text/plain": [
       "['Left-Cerebral-White-Matter',\n",
       " 'Left-Lateral-Ventricle',\n",
       " 'Left-Inf-Lat-Vent',\n",
       " 'Left-Cerebellum-White-Matter',\n",
       " 'Left-Cerebellum-Cortex',\n",
       " 'Left-Thalamus-Proper',\n",
       " 'Left-Caudate',\n",
       " 'Left-Putamen',\n",
       " 'Left-Pallidum',\n",
       " '3rd-Ventricle',\n",
       " '4th-Ventricle',\n",
       " 'Brain-Stem',\n",
       " 'Left-Hippocampus',\n",
       " 'Left-Amygdala',\n",
       " 'CSF',\n",
       " 'Left-Accumbens-area',\n",
       " 'Left-VentralDC',\n",
       " 'Left-vessel',\n",
       " 'Left-choroid-plexus',\n",
       " 'Right-Cerebral-White-Matter',\n",
       " 'Right-Lateral-Ventricle',\n",
       " 'Right-Inf-Lat-Vent',\n",
       " 'Right-Cerebellum-White-Matter',\n",
       " 'Right-Cerebellum-Cortex',\n",
       " 'Right-Thalamus-Proper',\n",
       " 'Right-Caudate',\n",
       " 'Right-Putamen',\n",
       " 'Right-Pallidum',\n",
       " 'Right-Hippocampus',\n",
       " 'Right-Amygdala',\n",
       " 'Right-Accumbens-area',\n",
       " 'Right-VentralDC',\n",
       " 'Right-vessel',\n",
       " 'Right-choroid-plexus',\n",
       " 'Optic-Chiasm',\n",
       " 'CC_Posterior',\n",
       " 'CC_Mid_Posterior',\n",
       " 'CC_Central',\n",
       " 'CC_Mid_Anterior',\n",
       " 'CC_Anterior',\n",
       " 'ctx-lh-caudalanteriorcingulate',\n",
       " 'ctx-lh-caudalmiddlefrontal',\n",
       " 'ctx-lh-cuneus',\n",
       " 'ctx-lh-entorhinal',\n",
       " 'ctx-lh-fusiform',\n",
       " 'ctx-lh-inferiorparietal',\n",
       " 'ctx-lh-inferiortemporal',\n",
       " 'ctx-lh-isthmuscingulate',\n",
       " 'ctx-lh-lateraloccipital',\n",
       " 'ctx-lh-lateralorbitofrontal',\n",
       " 'ctx-lh-lingual',\n",
       " 'ctx-lh-medialorbitofrontal',\n",
       " 'ctx-lh-middletemporal',\n",
       " 'ctx-lh-parahippocampal',\n",
       " 'ctx-lh-paracentral',\n",
       " 'ctx-lh-parsopercularis',\n",
       " 'ctx-lh-parsorbitalis',\n",
       " 'ctx-lh-parstriangularis',\n",
       " 'ctx-lh-pericalcarine',\n",
       " 'ctx-lh-postcentral',\n",
       " 'ctx-lh-posteriorcingulate',\n",
       " 'ctx-lh-precentral',\n",
       " 'ctx-lh-precuneus',\n",
       " 'ctx-lh-rostralanteriorcingulate',\n",
       " 'ctx-lh-rostralmiddlefrontal',\n",
       " 'ctx-lh-superiorfrontal',\n",
       " 'ctx-lh-superiorparietal',\n",
       " 'ctx-lh-superiortemporal',\n",
       " 'ctx-lh-supramarginal',\n",
       " 'ctx-lh-transversetemporal',\n",
       " 'ctx-lh-insula',\n",
       " 'ctx-rh-caudalanteriorcingulate',\n",
       " 'ctx-rh-caudalmiddlefrontal',\n",
       " 'ctx-rh-cuneus',\n",
       " 'ctx-rh-entorhinal',\n",
       " 'ctx-rh-fusiform',\n",
       " 'ctx-rh-inferiorparietal',\n",
       " 'ctx-rh-inferiortemporal',\n",
       " 'ctx-rh-isthmuscingulate',\n",
       " 'ctx-rh-lateraloccipital',\n",
       " 'ctx-rh-lateralorbitofrontal',\n",
       " 'ctx-rh-lingual',\n",
       " 'ctx-rh-medialorbitofrontal',\n",
       " 'ctx-rh-middletemporal',\n",
       " 'ctx-rh-parahippocampal',\n",
       " 'ctx-rh-paracentral',\n",
       " 'ctx-rh-parsopercularis',\n",
       " 'ctx-rh-parsorbitalis',\n",
       " 'ctx-rh-parstriangularis',\n",
       " 'ctx-rh-pericalcarine',\n",
       " 'ctx-rh-postcentral',\n",
       " 'ctx-rh-posteriorcingulate',\n",
       " 'ctx-rh-precentral',\n",
       " 'ctx-rh-precuneus',\n",
       " 'ctx-rh-rostralanteriorcingulate',\n",
       " 'ctx-rh-rostralmiddlefrontal',\n",
       " 'ctx-rh-superiorfrontal',\n",
       " 'ctx-rh-superiorparietal',\n",
       " 'ctx-rh-superiortemporal',\n",
       " 'ctx-rh-supramarginal',\n",
       " 'ctx-rh-transversetemporal',\n",
       " 'ctx-rh-insula',\n",
       " 'None']"
      ]
     },
     "execution_count": 27,
     "metadata": {},
     "output_type": "execute_result"
    }
   ],
   "source": [
    "df_desired['region_name'].tolist()"
   ]
  },
  {
   "cell_type": "code",
   "execution_count": null,
   "metadata": {},
   "outputs": [],
   "source": []
  },
  {
   "cell_type": "code",
   "execution_count": 21,
   "metadata": {},
   "outputs": [],
   "source": [
    "# now read in hcp mapping\n",
    "df = pd.read_table('/gpfs/home/kn2347/MedSAM/hcp_mapping_raw.txt', delim_whitespace=True)[['Label_Name', 'No']]\n",
    "df.columns = ['region_name', 'region_index']\n",
    "df\n",
    "df.to_csv('/gpfs/home/kn2347/MedSAM/hcp_mapping_processed.csv', index=False)\n",
    "df_hcp = df"
   ]
  },
  {
   "cell_type": "code",
   "execution_count": 24,
   "metadata": {},
   "outputs": [
    {
     "name": "stdout",
     "output_type": "stream",
     "text": [
      "                      region_name  region_index_desired  region_index_hcp\n",
      "0      Left-Cerebral-White-Matter                     1                 2\n",
      "1          Left-Lateral-Ventricle                     2                 4\n",
      "2               Left-Inf-Lat-Vent                     3                 5\n",
      "3    Left-Cerebellum-White-Matter                     4                 7\n",
      "4          Left-Cerebellum-Cortex                     5                 8\n",
      "..                            ...                   ...               ...\n",
      "98        ctx-rh-superiortemporal                    99              2030\n",
      "99           ctx-rh-supramarginal                   100              2031\n",
      "100     ctx-rh-transversetemporal                   101              2034\n",
      "101                 ctx-rh-insula                   102              2035\n",
      "102                       Unknown                     0                 0\n",
      "\n",
      "[103 rows x 3 columns]\n"
     ]
    }
   ],
   "source": [
    "xd = pd.merge(df_desired, df_hcp, on='region_name', how = 'left', suffixes = ['_desired', '_hcp'])\n",
    "print(xd)"
   ]
  },
  {
   "cell_type": "code",
   "execution_count": null,
   "metadata": {},
   "outputs": [],
   "source": []
  },
  {
   "cell_type": "code",
   "execution_count": null,
   "metadata": {},
   "outputs": [],
   "source": []
  },
  {
   "cell_type": "code",
   "execution_count": 5,
   "metadata": {},
   "outputs": [],
   "source": [
    "patho = '/gpfs/data/cbi/hcp/hcp_seg/data_orig/100206/mri/aparc+aseg.mgz'\n",
    "aseg_img = nib.freesurfer.mghformat.MGHImage.from_filename(patho) \n",
    "aseg_img = aseg_img.get_fdata().astype(np.float64)"
   ]
  },
  {
   "cell_type": "code",
   "execution_count": 17,
   "metadata": {},
   "outputs": [],
   "source": [
    "patho = '/gpfs/data/cbi/hcp/hcp_seg/data_orig/100206/mri/T1.mgz'\n",
    "img = nib.freesurfer.mghformat.MGHImage.from_filename(patho)\n",
    "img = img.get_fdata().astype(np.float64)"
   ]
  },
  {
   "cell_type": "code",
   "execution_count": 19,
   "metadata": {},
   "outputs": [
    {
     "data": {
      "text/plain": [
       "0.0"
      ]
     },
     "execution_count": 19,
     "metadata": {},
     "output_type": "execute_result"
    }
   ],
   "source": [
    "img.min()"
   ]
  },
  {
   "cell_type": "code",
   "execution_count": 15,
   "metadata": {},
   "outputs": [
    {
     "data": {
      "text/plain": [
       "array([  0,   0,   1,   0, 102,   0])"
      ]
     },
     "execution_count": 15,
     "metadata": {},
     "output_type": "execute_result"
    }
   ],
   "source": [
    "df_hcp = pd.read_csv('/gpfs/home/kn2347/MedSAM/hcp_mapping_processed.csv')\n",
    "df_desired = pd.read_csv('/gpfs/home/kn2347/MedSAM/darts_name_class_mapping_processed.csv')\n",
    "\n",
    "lc = LabelConverter(df_hcp, df_desired)\n",
    "lc.hcp_to_compressed(np.array([0, 0, 2, 0, 2035, 498]))"
   ]
  },
  {
   "cell_type": "markdown",
   "metadata": {},
   "source": [
    "### Test label mapping"
   ]
  },
  {
   "cell_type": "markdown",
   "metadata": {},
   "source": [
    "Test by converting HCP-labeled array to compressed numbers, and then converting back"
   ]
  },
  {
   "cell_type": "code",
   "execution_count": 3,
   "metadata": {},
   "outputs": [],
   "source": [
    "df_hcp = pd.read_csv('/gpfs/home/kn2347/MedSAM/hcp_mapping_processed.csv')\n",
    "df_desired = pd.read_csv('/gpfs/home/kn2347/MedSAM/darts_name_class_mapping_processed.csv')\n",
    "\n",
    "lc = LabelConverter(df_hcp, df_desired)"
   ]
  },
  {
   "cell_type": "code",
   "execution_count": 10,
   "metadata": {},
   "outputs": [
    {
     "name": "stdout",
     "output_type": "stream",
     "text": [
      "(256, 256)\n"
     ]
    }
   ],
   "source": [
    "arr = np.load('/gpfs/data/luilab/karthik/pediatric_seg_proj/hcp_ya_slices_npy/segmentation_slices/100206/seg_128.npy')\n",
    "print(arr.shape)\n",
    "\n",
    "comp_version = lc.hcp_to_compressed(arr)\n",
    "back_to_hcp = lc.compressed_to_hcp(comp_version)"
   ]
  },
  {
   "cell_type": "code",
   "execution_count": 13,
   "metadata": {},
   "outputs": [
    {
     "data": {
      "text/html": [
       "<div>\n",
       "<style scoped>\n",
       "    .dataframe tbody tr th:only-of-type {\n",
       "        vertical-align: middle;\n",
       "    }\n",
       "\n",
       "    .dataframe tbody tr th {\n",
       "        vertical-align: top;\n",
       "    }\n",
       "\n",
       "    .dataframe thead th {\n",
       "        text-align: right;\n",
       "    }\n",
       "</style>\n",
       "<table border=\"1\" class=\"dataframe\">\n",
       "  <thead>\n",
       "    <tr style=\"text-align: right;\">\n",
       "      <th></th>\n",
       "      <th>region_name</th>\n",
       "      <th>region_index</th>\n",
       "    </tr>\n",
       "  </thead>\n",
       "  <tbody>\n",
       "    <tr>\n",
       "      <th>0</th>\n",
       "      <td>Left-Cerebral-White-Matter</td>\n",
       "      <td>1</td>\n",
       "    </tr>\n",
       "    <tr>\n",
       "      <th>1</th>\n",
       "      <td>Left-Lateral-Ventricle</td>\n",
       "      <td>2</td>\n",
       "    </tr>\n",
       "    <tr>\n",
       "      <th>2</th>\n",
       "      <td>Left-Inf-Lat-Vent</td>\n",
       "      <td>3</td>\n",
       "    </tr>\n",
       "    <tr>\n",
       "      <th>3</th>\n",
       "      <td>Left-Cerebellum-White-Matter</td>\n",
       "      <td>4</td>\n",
       "    </tr>\n",
       "    <tr>\n",
       "      <th>4</th>\n",
       "      <td>Left-Cerebellum-Cortex</td>\n",
       "      <td>5</td>\n",
       "    </tr>\n",
       "    <tr>\n",
       "      <th>...</th>\n",
       "      <td>...</td>\n",
       "      <td>...</td>\n",
       "    </tr>\n",
       "    <tr>\n",
       "      <th>98</th>\n",
       "      <td>ctx-rh-superiortemporal</td>\n",
       "      <td>99</td>\n",
       "    </tr>\n",
       "    <tr>\n",
       "      <th>99</th>\n",
       "      <td>ctx-rh-supramarginal</td>\n",
       "      <td>100</td>\n",
       "    </tr>\n",
       "    <tr>\n",
       "      <th>100</th>\n",
       "      <td>ctx-rh-transversetemporal</td>\n",
       "      <td>101</td>\n",
       "    </tr>\n",
       "    <tr>\n",
       "      <th>101</th>\n",
       "      <td>ctx-rh-insula</td>\n",
       "      <td>102</td>\n",
       "    </tr>\n",
       "    <tr>\n",
       "      <th>102</th>\n",
       "      <td>Unknown</td>\n",
       "      <td>0</td>\n",
       "    </tr>\n",
       "  </tbody>\n",
       "</table>\n",
       "<p>103 rows × 2 columns</p>\n",
       "</div>"
      ],
      "text/plain": [
       "                      region_name  region_index\n",
       "0      Left-Cerebral-White-Matter             1\n",
       "1          Left-Lateral-Ventricle             2\n",
       "2               Left-Inf-Lat-Vent             3\n",
       "3    Left-Cerebellum-White-Matter             4\n",
       "4          Left-Cerebellum-Cortex             5\n",
       "..                            ...           ...\n",
       "98        ctx-rh-superiortemporal            99\n",
       "99           ctx-rh-supramarginal           100\n",
       "100     ctx-rh-transversetemporal           101\n",
       "101                 ctx-rh-insula           102\n",
       "102                       Unknown             0\n",
       "\n",
       "[103 rows x 2 columns]"
      ]
     },
     "execution_count": 13,
     "metadata": {},
     "output_type": "execute_result"
    }
   ],
   "source": [
    "df_desired"
   ]
  },
  {
   "cell_type": "code",
   "execution_count": 14,
   "metadata": {},
   "outputs": [
    {
     "data": {
      "text/html": [
       "<div>\n",
       "<style scoped>\n",
       "    .dataframe tbody tr th:only-of-type {\n",
       "        vertical-align: middle;\n",
       "    }\n",
       "\n",
       "    .dataframe tbody tr th {\n",
       "        vertical-align: top;\n",
       "    }\n",
       "\n",
       "    .dataframe thead th {\n",
       "        text-align: right;\n",
       "    }\n",
       "</style>\n",
       "<table border=\"1\" class=\"dataframe\">\n",
       "  <thead>\n",
       "    <tr style=\"text-align: right;\">\n",
       "      <th></th>\n",
       "      <th>region_name</th>\n",
       "      <th>region_index_desired</th>\n",
       "      <th>region_index_hcp</th>\n",
       "    </tr>\n",
       "  </thead>\n",
       "  <tbody>\n",
       "    <tr>\n",
       "      <th>0</th>\n",
       "      <td>Left-Cerebral-White-Matter</td>\n",
       "      <td>1</td>\n",
       "      <td>2</td>\n",
       "    </tr>\n",
       "    <tr>\n",
       "      <th>1</th>\n",
       "      <td>Left-Lateral-Ventricle</td>\n",
       "      <td>2</td>\n",
       "      <td>4</td>\n",
       "    </tr>\n",
       "    <tr>\n",
       "      <th>2</th>\n",
       "      <td>Left-Inf-Lat-Vent</td>\n",
       "      <td>3</td>\n",
       "      <td>5</td>\n",
       "    </tr>\n",
       "    <tr>\n",
       "      <th>3</th>\n",
       "      <td>Left-Cerebellum-White-Matter</td>\n",
       "      <td>4</td>\n",
       "      <td>7</td>\n",
       "    </tr>\n",
       "    <tr>\n",
       "      <th>4</th>\n",
       "      <td>Left-Cerebellum-Cortex</td>\n",
       "      <td>5</td>\n",
       "      <td>8</td>\n",
       "    </tr>\n",
       "    <tr>\n",
       "      <th>...</th>\n",
       "      <td>...</td>\n",
       "      <td>...</td>\n",
       "      <td>...</td>\n",
       "    </tr>\n",
       "    <tr>\n",
       "      <th>98</th>\n",
       "      <td>ctx-rh-superiortemporal</td>\n",
       "      <td>99</td>\n",
       "      <td>2030</td>\n",
       "    </tr>\n",
       "    <tr>\n",
       "      <th>99</th>\n",
       "      <td>ctx-rh-supramarginal</td>\n",
       "      <td>100</td>\n",
       "      <td>2031</td>\n",
       "    </tr>\n",
       "    <tr>\n",
       "      <th>100</th>\n",
       "      <td>ctx-rh-transversetemporal</td>\n",
       "      <td>101</td>\n",
       "      <td>2034</td>\n",
       "    </tr>\n",
       "    <tr>\n",
       "      <th>101</th>\n",
       "      <td>ctx-rh-insula</td>\n",
       "      <td>102</td>\n",
       "      <td>2035</td>\n",
       "    </tr>\n",
       "    <tr>\n",
       "      <th>102</th>\n",
       "      <td>Unknown</td>\n",
       "      <td>0</td>\n",
       "      <td>0</td>\n",
       "    </tr>\n",
       "  </tbody>\n",
       "</table>\n",
       "<p>103 rows × 3 columns</p>\n",
       "</div>"
      ],
      "text/plain": [
       "                      region_name  region_index_desired  region_index_hcp\n",
       "0      Left-Cerebral-White-Matter                     1                 2\n",
       "1          Left-Lateral-Ventricle                     2                 4\n",
       "2               Left-Inf-Lat-Vent                     3                 5\n",
       "3    Left-Cerebellum-White-Matter                     4                 7\n",
       "4          Left-Cerebellum-Cortex                     5                 8\n",
       "..                            ...                   ...               ...\n",
       "98        ctx-rh-superiortemporal                    99              2030\n",
       "99           ctx-rh-supramarginal                   100              2031\n",
       "100     ctx-rh-transversetemporal                   101              2034\n",
       "101                 ctx-rh-insula                   102              2035\n",
       "102                       Unknown                     0                 0\n",
       "\n",
       "[103 rows x 3 columns]"
      ]
     },
     "execution_count": 14,
     "metadata": {},
     "output_type": "execute_result"
    }
   ],
   "source": [
    "lc.lookup_table"
   ]
  },
  {
   "cell_type": "code",
   "execution_count": null,
   "metadata": {},
   "outputs": [],
   "source": [
    "for i in range(len(df_desired)):\n",
    "    reg_name = df_desired.iloc[i, 0]\n",
    "    reg_id_desired = df_desired.iloc[i, 1]\n",
    "    reg_id_hcp = df_hcp[df_hcp['region_name'] == reg_name].iloc[0, 1]\n",
    "\n",
    "    mask_arr = arr == reg_id_hcp\n",
    "    mask_transf = back_to_hcp == reg_id_hcp\n",
    "\n",
    "    print((mask_arr == mask_transf).all())\n",
    "\n",
    "# note that the unknown region is the only region that differs - this is expected, because unknown also takes on the regions that were in HCP mapping but not in the desired mapping"
   ]
  }
 ],
 "metadata": {
  "kernelspec": {
   "display_name": "Python 3",
   "language": "python",
   "name": "python3"
  },
  "language_info": {
   "codemirror_mode": {
    "name": "ipython",
    "version": 3
   },
   "file_extension": ".py",
   "mimetype": "text/x-python",
   "name": "python",
   "nbconvert_exporter": "python",
   "pygments_lexer": "ipython3",
   "version": "3.10.12"
  },
  "orig_nbformat": 4
 },
 "nbformat": 4,
 "nbformat_minor": 2
}
