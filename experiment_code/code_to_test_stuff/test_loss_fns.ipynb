{
 "cells": [
  {
   "cell_type": "code",
   "execution_count": 1,
   "metadata": {},
   "outputs": [],
   "source": [
    "%load_ext autoreload\n",
    "%autoreload 2"
   ]
  },
  {
   "cell_type": "code",
   "execution_count": 2,
   "metadata": {},
   "outputs": [],
   "source": [
    "import monai\n",
    "import torch.nn as nn\n",
    "import torch\n",
    "\n",
    "from MedSAM_HCP.dataset import MRIDataset, load_datasets\n",
    "from MedSAM_HCP.MedSAM import MedSAM, medsam_inference\n",
    "from MedSAM_HCP.build_sam import build_sam_vit_b_multiclass\n",
    "from MedSAM_HCP.utils_hcp import *\n",
    "from MedSAM_HCP.loss_funcs_hcp import *\n",
    "from MedSAM_HCP.distance_map_functions import *"
   ]
  },
  {
   "cell_type": "code",
   "execution_count": 4,
   "metadata": {},
   "outputs": [],
   "source": [
    "pred = torch.normal(torch.zeros(32,5,256,256), torch.ones(32,5,256,256))\n",
    "gt = torch.randint(low=0, high=2, size=(32,5,256,256))\n",
    "gt[:,0,:,:] = 1\n",
    "class_weights = torch.ones((5))"
   ]
  },
  {
   "cell_type": "code",
   "execution_count": 7,
   "metadata": {},
   "outputs": [
    {
     "name": "stdout",
     "output_type": "stream",
     "text": [
      "tensor(1.1759)\n",
      "tensor(1.1762)\n"
     ]
    }
   ],
   "source": [
    "loss_weighted_ver, _, _, _ = weighted_ce_dice_loss(pred, gt, class_weights, lambda_dice=0.5)\n",
    "loss_unweighted_ver = unweighted_ce_dice_loss(pred, gt, lambda_dice=0.5)\n",
    "\n",
    "print(loss_weighted_ver)\n",
    "print(loss_unweighted_ver)"
   ]
  },
  {
   "cell_type": "markdown",
   "metadata": {},
   "source": [
    "### Test distance map"
   ]
  },
  {
   "cell_type": "code",
   "execution_count": 43,
   "metadata": {},
   "outputs": [
    {
     "name": "stdout",
     "output_type": "stream",
     "text": [
      "(1, 8, 6)\n",
      "[[[0 0 1 1 0 0]\n",
      "  [1 1 1 1 1 1]\n",
      "  [1 1 0 0 1 1]\n",
      "  [1 1 0 0 1 1]\n",
      "  [0 0 1 1 0 0]\n",
      "  [0 0 1 1 0 0]\n",
      "  [0 0 0 0 0 0]\n",
      "  [0 0 0 0 0 0]]]\n",
      "[[[ 1.    1.    0.    0.    1.    1.  ]\n",
      "  [ 0.    0.    0.    0.    0.    0.  ]\n",
      "  [-1.    0.    1.    1.    0.   -1.  ]\n",
      "  [ 0.    0.    1.    1.    0.    0.  ]\n",
      "  [ 1.    1.    0.    0.    1.    1.  ]\n",
      "  [ 2.    1.    0.    0.    1.    2.  ]\n",
      "  [ 2.24  1.41  1.    1.    1.41  2.24]\n",
      "  [ 2.83  2.24  2.    2.    2.24  2.83]]]\n"
     ]
    }
   ],
   "source": [
    "# generate gt of 2 classes\n",
    "#gt = np.random.choice(2, size = (1,2,4,4), p=[0.9, 0.1])\n",
    "\n",
    "gt = np.array([[\n",
    "    [0, 0, 1, 1, 0, 0],\n",
    "    [1, 1, 1, 1, 1, 1],\n",
    "    [1, 1, 0, 0, 1, 1],\n",
    "    [1, 1, 0, 0, 1, 1],\n",
    "    [0, 0, 1, 1, 0, 0],\n",
    "    [0, 0, 1, 1, 0, 0],\n",
    "    [0, 0, 0, 0, 0, 0],\n",
    "    [0, 0, 0, 0, 0, 0]\n",
    "]]\n",
    ")\n",
    "print(gt.shape)\n",
    "\n",
    "\n",
    "# replace second class with inverse of the first class\n",
    "#gt[:, 1, :, :] = 1 - gt[:, 0, :, :]\n",
    "\n",
    "\n",
    "#print(gt[0].shape)\n",
    "\n",
    "print(gt)\n",
    "\n",
    "print(np.round(one_hot2dist(gt,dtype=float), 2))"
   ]
  },
  {
   "cell_type": "code",
   "execution_count": 45,
   "metadata": {},
   "outputs": [
    {
     "name": "stdout",
     "output_type": "stream",
     "text": [
      "(1, 8, 8)\n",
      "[[[0 0 0 0 0 0 0 0]\n",
      "  [0 1 1 1 1 1 1 0]\n",
      "  [0 1 1 1 1 1 1 0]\n",
      "  [0 1 1 1 1 1 1 0]\n",
      "  [0 1 1 1 1 1 1 0]\n",
      "  [0 1 1 1 1 1 1 0]\n",
      "  [0 1 1 1 1 1 1 0]\n",
      "  [0 0 0 0 0 0 0 0]]]\n",
      "[[[ 1.41  1.    1.    1.    1.    1.    1.    1.41]\n",
      "  [ 1.    0.    0.    0.    0.    0.    0.    1.  ]\n",
      "  [ 1.    0.   -1.   -1.   -1.   -1.    0.    1.  ]\n",
      "  [ 1.    0.   -1.   -2.   -2.   -1.    0.    1.  ]\n",
      "  [ 1.    0.   -1.   -2.   -2.   -1.    0.    1.  ]\n",
      "  [ 1.    0.   -1.   -1.   -1.   -1.    0.    1.  ]\n",
      "  [ 1.    0.    0.    0.    0.    0.    0.    1.  ]\n",
      "  [ 1.41  1.    1.    1.    1.    1.    1.    1.41]]]\n"
     ]
    }
   ],
   "source": [
    "# generate gt of 2 classes\n",
    "#gt = np.random.choice(2, size = (1,2,4,4), p=[0.9, 0.1])\n",
    "\n",
    "gt = np.array([[\n",
    "    [0, 0, 0, 0, 0, 0, 0, 0],\n",
    "    [0, 1, 1, 1, 1, 1, 1, 0],\n",
    "    [0, 1, 1, 1, 1, 1, 1, 0],\n",
    "    [0, 1, 1, 1, 1, 1, 1, 0],\n",
    "    [0, 1, 1, 1, 1, 1, 1, 0],\n",
    "    [0, 1, 1, 1, 1, 1, 1, 0],\n",
    "    [0, 1, 1, 1, 1, 1, 1, 0],\n",
    "    [0, 0, 0, 0, 0, 0, 0, 0]\n",
    "]]\n",
    ")\n",
    "print(gt.shape)\n",
    "\n",
    "\n",
    "# replace second class with inverse of the first class\n",
    "#gt[:, 1, :, :] = 1 - gt[:, 0, :, :]\n",
    "\n",
    "\n",
    "#print(gt[0].shape)\n",
    "\n",
    "print(gt)\n",
    "\n",
    "print(np.round(one_hot2dist(gt,dtype=float), 2))"
   ]
  }
 ],
 "metadata": {
  "kernelspec": {
   "display_name": "Python 3",
   "language": "python",
   "name": "python3"
  },
  "language_info": {
   "codemirror_mode": {
    "name": "ipython",
    "version": 3
   },
   "file_extension": ".py",
   "mimetype": "text/x-python",
   "name": "python",
   "nbconvert_exporter": "python",
   "pygments_lexer": "ipython3",
   "version": "3.10.12"
  },
  "orig_nbformat": 4
 },
 "nbformat": 4,
 "nbformat_minor": 2
}
