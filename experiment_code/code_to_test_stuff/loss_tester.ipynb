{
 "cells": [
  {
   "cell_type": "code",
   "execution_count": 3,
   "metadata": {},
   "outputs": [],
   "source": [
    "import monai\n",
    "import torch.nn as nn\n",
    "import torch\n",
    "import sys\n",
    "sys.path.append('./modified_medsam_repo')\n",
    "from MedSAM_HCP.utils_hcp import *\n",
    "from MedSAM_HCP.loss_funcs_hcp import *"
   ]
  },
  {
   "cell_type": "code",
   "execution_count": 15,
   "metadata": {},
   "outputs": [
    {
     "name": "stdout",
     "output_type": "stream",
     "text": [
      "(tensor(1.), tensor([1., 1., 1., 1., 1., 1., 1., 1., 1., 1., 1., 1., 1., 1., 1., 1., 1., 1.,\n",
      "        1., 1., 1., 1., 1., 1., 1., 1., 1., 1., 1., 1., 1., 1., 1., 1., 1., 1.,\n",
      "        1., 1., 1., 1., 1., 1., 1., 1., 1., 1., 1., 1., 1., 1., 1., 1., 1., 1.,\n",
      "        1., 1., 1., 1., 1., 1., 1., 1., 1., 1., 1., 1., 1., 1., 1., 1., 1., 1.,\n",
      "        1., 1., 1., 1., 1., 1., 1., 1., 1., 1., 1., 1., 1., 1., 1., 1., 1., 1.,\n",
      "        1., 1., 1., 1., 1., 1., 1., 1., 1., 1., 1., 1., 1.]))\n",
      "(tensor(0.), tensor([0., 0., 0., 0., 0., 0., 0., 0., 0., 0., 0., 0., 0., 0., 0., 0., 0., 0., 0., 0., 0., 0., 0., 0.,\n",
      "        0., 0., 0., 0., 0., 0., 0., 0., 0., 0., 0., 0., 0., 0., 0., 0., 0., 0., 0., 0., 0., 0., 0., 0.,\n",
      "        0., 0., 0., 0., 0., 0., 0., 0., 0., 0., 0., 0., 0., 0., 0., 0., 0., 0., 0., 0., 0., 0., 0., 0.,\n",
      "        0., 0., 0., 0., 0., 0., 0., 0., 0., 0., 0., 0., 0., 0., 0., 0., 0., 0., 0., 0., 0., 0., 0., 0.,\n",
      "        0., 0., 0., 0., 0., 0., 0.]))\n"
     ]
    }
   ],
   "source": [
    "gt = torch.zeros((2, 103, 256, 256))\n",
    "pred = torch.normal(mean=torch.zeros_like(gt), std = torch.ones_like(gt))\n",
    "pred_zeros = torch.ones_like(gt) * -10000\n",
    "print(weighted_dice_loss(pred, gt, torch.ones((103))))\n",
    "print(weighted_dice_loss(pred_zeros, gt, torch.ones((103))))\n"
   ]
  },
  {
   "cell_type": "code",
   "execution_count": 33,
   "metadata": {},
   "outputs": [],
   "source": [
    "gt = torch.randint(low = 0, high = 2, size = (2, 103, 256, 256)).float()\n",
    "pred = torch.normal(mean=torch.zeros_like(gt), std = torch.ones_like(gt))"
   ]
  },
  {
   "cell_type": "code",
   "execution_count": 34,
   "metadata": {},
   "outputs": [
    {
     "name": "stdout",
     "output_type": "stream",
     "text": [
      "(tensor(0.3698), tensor([0.3701, 0.3709, 0.3708, 0.3695, 0.3694, 0.3711, 0.3704, 0.3707, 0.3705,\n",
      "        0.3687, 0.3704, 0.3696, 0.3690, 0.3701, 0.3703, 0.3707, 0.3690, 0.3680,\n",
      "        0.3712, 0.3697, 0.3673, 0.3716, 0.3686, 0.3703, 0.3703, 0.3708, 0.3696,\n",
      "        0.3702, 0.3688, 0.3680, 0.3707, 0.3691, 0.3704, 0.3697, 0.3669, 0.3709,\n",
      "        0.3684, 0.3695, 0.3708, 0.3694, 0.3701, 0.3701, 0.3704, 0.3700, 0.3717,\n",
      "        0.3701, 0.3707, 0.3693, 0.3699, 0.3695, 0.3684, 0.3683, 0.3706, 0.3706,\n",
      "        0.3709, 0.3706, 0.3704, 0.3691, 0.3701, 0.3694, 0.3688, 0.3699, 0.3693,\n",
      "        0.3705, 0.3698, 0.3667, 0.3685, 0.3674, 0.3700, 0.3715, 0.3698, 0.3699,\n",
      "        0.3714, 0.3691, 0.3694, 0.3703, 0.3693, 0.3702, 0.3720, 0.3668, 0.3700,\n",
      "        0.3706, 0.3696, 0.3688, 0.3688, 0.3702, 0.3685, 0.3683, 0.3702, 0.3694,\n",
      "        0.3685, 0.3717, 0.3697, 0.3706, 0.3696, 0.3715, 0.3699, 0.3704, 0.3701,\n",
      "        0.3697, 0.3700, 0.3698, 0.3687]))\n",
      "tensor(0.3698)\n"
     ]
    }
   ],
   "source": [
    "print(weighted_dice_loss(pred, gt, torch.ones((103))))\n",
    "print(unweighted_dice_loss(pred, gt))"
   ]
  }
 ],
 "metadata": {
  "kernelspec": {
   "display_name": "Python 3",
   "language": "python",
   "name": "python3"
  },
  "language_info": {
   "codemirror_mode": {
    "name": "ipython",
    "version": 3
   },
   "file_extension": ".py",
   "mimetype": "text/x-python",
   "name": "python",
   "nbconvert_exporter": "python",
   "pygments_lexer": "ipython3",
   "version": "3.10.12"
  },
  "orig_nbformat": 4
 },
 "nbformat": 4,
 "nbformat_minor": 2
}
