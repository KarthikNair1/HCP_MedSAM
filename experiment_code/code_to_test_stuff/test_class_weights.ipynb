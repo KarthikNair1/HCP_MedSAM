{
 "cells": [
  {
   "cell_type": "code",
   "execution_count": 1,
   "metadata": {},
   "outputs": [],
   "source": [
    "import numpy as np\n",
    "import matplotlib.pyplot as plt\n",
    "import os\n",
    "join = os.path.join\n",
    "from skimage import io\n",
    "from tqdm import tqdm\n",
    "import torch\n",
    "from torch.utils.data import Dataset, DataLoader\n",
    "import monai\n",
    "from monai.networks import one_hot\n",
    "import sys\n",
    "sys.path.append('./modified_medsam_repo')\n",
    "from segment_anything import SamPredictor, sam_model_registry\n",
    "from segment_anything.utils.transforms import ResizeLongestSide\n",
    "from utils.SurfaceDice import compute_dice_coefficient\n",
    "from skimage import io, transform\n",
    "from glob import glob\n",
    "from sklearn.model_selection import train_test_split\n",
    "import pandas as pd\n",
    "import nibabel as nib\n",
    "import pickle\n",
    "from torch.utils.data import RandomSampler\n",
    "import random\n",
    "import scipy\n",
    "import torch.nn.functional as F\n",
    "import img2pdf\n",
    "from torchmetrics import F1Score\n",
    "import multiprocessing as mp\n",
    "\n",
    "from MedSAM_HCP.dataset import MRIDataset, load_datasets\n",
    "from MedSAM_HCP.utils_hcp import *"
   ]
  },
  {
   "cell_type": "code",
   "execution_count": 2,
   "metadata": {},
   "outputs": [],
   "source": [
    "cws = pickle.load(open('/gpfs/data/luilab/karthik/pediatric_seg_proj/class_weights_256.pkl', 'rb'))\n",
    "darts_cws = pickle.load(open('/gpfs/data/luilab/karthik/pediatric_seg_proj/darts_class_wts_113_seg.pkl', 'rb'))"
   ]
  },
  {
   "cell_type": "code",
   "execution_count": 6,
   "metadata": {},
   "outputs": [
    {
     "name": "stdout",
     "output_type": "stream",
     "text": [
      "0.00027719847731247035\n"
     ]
    }
   ],
   "source": [
    "print(cws[0])"
   ]
  },
  {
   "cell_type": "code",
   "execution_count": 9,
   "metadata": {},
   "outputs": [],
   "source": [
    "df_hcp = pd.read_csv('/gpfs/home/kn2347/MedSAM/hcp_mapping_processed.csv')\n",
    "df_desired = pd.read_csv('/gpfs/home/kn2347/MedSAM/darts_name_class_mapping_processed.csv')\n",
    "NUM_CLASSES = len(df_desired)\n",
    "label_converter = LabelConverter(df_hcp, df_desired)"
   ]
  },
  {
   "cell_type": "code",
   "execution_count": 38,
   "metadata": {},
   "outputs": [
    {
     "name": "stdout",
     "output_type": "stream",
     "text": [
      "[0.00000000e+00 1.96192695e-02 6.90481287e-01 2.17191599e+01\n",
      " 3.07259310e-01 7.59494939e-02 5.02360694e-01 1.09473764e+00\n",
      " 7.73031075e-01 2.95534604e+00 5.87551622e+00 2.65007390e+00\n",
      " 1.98240083e-01 9.39117283e-01 2.64696240e+00 4.00610656e+00\n",
      " 7.27196276e+00 9.90304444e-01 7.10702803e+01 3.25358918e+00\n",
      " 1.93385475e-02 7.42879695e-01 2.00413272e+01 3.02458603e-01\n",
      " 7.37634526e-02 5.65280237e-01 1.07759957e+00 7.55363292e-01\n",
      " 2.84738139e+00 9.32205062e-01 2.52030099e+00 6.56790583e+00\n",
      " 9.76089025e-01 6.18842038e+01 3.00515058e+00 1.81622270e+01\n",
      " 4.39574706e+00 8.64013751e+00 8.32509768e+00 8.28915874e+00\n",
      " 4.66266410e+00 2.08901773e+00 6.09711032e-01 1.26989975e+00\n",
      " 2.39945633e+00 4.01776253e-01 3.25208599e-01 3.71507667e-01\n",
      " 1.64736211e+00 3.60990347e-01 5.28703016e-01 5.95391520e-01\n",
      " 7.72327871e-01 3.78220573e-01 1.93475310e+00 1.15358551e+00\n",
      " 8.00223734e-01 1.91299483e+00 1.11501645e+00 1.56248495e+00\n",
      " 4.14160176e-01 1.25486030e+00 2.99796314e-01 4.09212120e-01\n",
      " 1.44112967e+00 2.48834853e-01 1.79057829e-01 3.17233675e-01\n",
      " 3.36357601e-01 3.71855509e-01 3.18181574e+00 6.14958459e-01\n",
      " 1.81261056e+00 6.44710509e-01 1.22883641e+00 2.64940392e+00\n",
      " 4.07391130e-01 2.63325686e-01 3.79676580e-01 1.75724630e+00\n",
      " 3.61277934e-01 5.39929330e-01 5.85701708e-01 7.54477478e-01\n",
      " 3.33675485e-01 2.05576739e+00 1.00988716e+00 9.45627283e-01\n",
      " 1.52460548e+00 9.21404398e-01 1.39819284e+00 4.30297305e-01\n",
      " 1.23628652e+00 2.96832248e-01 3.86995899e-01 1.88383067e+00\n",
      " 2.37652972e-01 1.81167981e-01 3.09174085e-01 3.44088963e-01\n",
      " 3.91179946e-01 4.05350912e+00 5.94742430e-01]\n"
     ]
    }
   ],
   "source": [
    "class_wts = np.zeros(NUM_CLASSES)\n",
    "for k,v in cws.items():\n",
    "    idx = label_converter.hcp_to_compressed(k).tolist()\n",
    "    if idx == 0:\n",
    "        class_wts[idx] = 0\n",
    "    else:\n",
    "        class_wts[idx] = v\n",
    "\n",
    "print(class_wts)\n",
    "#print(darts_cws)"
   ]
  },
  {
   "cell_type": "code",
   "execution_count": 40,
   "metadata": {},
   "outputs": [
    {
     "name": "stdout",
     "output_type": "stream",
     "text": [
      "[7.51475180e-02 6.83912420e-01 1.00348461e+01 4.43882402e-01\n",
      " 1.60618419e-01 4.37561881e-01 1.22040101e+00 6.88786418e-01\n",
      " 1.45532474e+00 4.37444997e+00 3.98217653e+00 4.64142466e-01\n",
      " 1.07727160e+00 1.65615665e+00 2.43296808e+00 3.55379574e+00\n",
      " 6.53154774e-01 1.08399476e+01 4.27308660e+00 7.44676543e-02\n",
      " 7.28113796e-01 9.45299906e+00 4.44360121e-01 1.57696314e-01\n",
      " 4.69238014e-01 1.17133627e+00 6.56058069e-01 1.35297664e+00\n",
      " 1.10277773e+00 1.67429496e+00 2.94257216e+00 6.48534339e-01\n",
      " 1.10185513e+01 4.11007227e+00 5.65254020e+00 1.00713364e+02\n",
      " 4.87444062e+00 2.70104990e+00 3.17504892e+00 3.85808002e+00\n",
      " 4.64177603e+00 3.17661127e+00 1.54432732e+01 1.07372684e+00\n",
      " 2.06516831e+00 7.55800547e-01 1.56399827e+00 1.66273632e+00\n",
      " 6.37319001e-01 5.35687723e-01 6.26002974e-01 2.23813926e+00\n",
      " 5.58195700e-01 6.11444494e-01 5.74722537e-01 8.30699672e-01\n",
      " 7.01241938e-01 1.93799603e+00 1.42662016e+00 9.20476693e-01\n",
      " 1.15623259e+00 1.02482826e+00 1.42017571e+00 9.34541219e-01\n",
      " 9.14986643e-01 7.61932961e-01 8.98680837e-01 1.68301645e+00\n",
      " 5.25140950e-01 4.40864402e-01 6.05741827e-01 6.29643328e-01\n",
      " 5.26329586e-01 3.63446897e+00 1.27337275e+00 1.83798156e+00\n",
      " 9.40978299e-01 1.11302044e+01 1.30795661e+00 1.88092622e+00\n",
      " 7.71189462e-01 1.41759463e+00 1.65766564e+00 6.44114274e-01\n",
      " 4.56270768e-01 6.26427884e-01 2.43433403e+00 5.63112009e-01\n",
      " 6.29028567e-01 5.72915138e-01 8.44022598e-01 6.35112386e-01\n",
      " 1.97840882e+00 1.26430026e+00 1.09637855e+00 1.00000000e+00\n",
      " 9.71281231e-01 1.25592794e+00 9.66454713e-01 9.67809397e-01\n",
      " 7.21721003e-01 8.68406464e-01 1.99729776e+00 5.13293788e-01\n",
      " 4.39285359e-01 5.92695472e-01 6.37599358e-01 5.81978727e-01\n",
      " 3.04560611e+00 1.44042032e+00 2.35202779e+00 9.14015298e-01\n",
      " 2.40848490e-03]\n"
     ]
    }
   ],
   "source": [
    "print(darts_cws)"
   ]
  },
  {
   "cell_type": "code",
   "execution_count": 41,
   "metadata": {},
   "outputs": [
    {
     "name": "stdout",
     "output_type": "stream",
     "text": [
      "103\n",
      "113\n"
     ]
    }
   ],
   "source": [
    "print(len(class_wts))\n",
    "print(len(darts_cws))"
   ]
  },
  {
   "cell_type": "code",
   "execution_count": 50,
   "metadata": {},
   "outputs": [
    {
     "data": {
      "text/plain": [
       "Text(0, 0.5, 'DARTS weights')"
      ]
     },
     "execution_count": 50,
     "metadata": {},
     "output_type": "execute_result"
    },
    {
     "data": {
      "image/png": "[encoded data removed]",
      "text/plain": [
       "<Figure size 640x480 with 1 Axes>"
      ]
     },
     "metadata": {},
     "output_type": "display_data"
    }
   ],
   "source": [
    "# plot them\n",
    "plot_classwts = class_wts[1:] # ignore unknown\n",
    "plot_dartswts = darts_cws[:102]\n",
    "\n",
    "plt.scatter(plot_classwts, plot_dartswts)\n",
    "plt.xscale('log')\n",
    "plt.yscale('log')\n",
    "plt.xlabel('My weights')\n",
    "plt.ylabel('DARTS weights')"
   ]
  },
  {
   "cell_type": "code",
   "execution_count": null,
   "metadata": {},
   "outputs": [],
   "source": []
  },
  {
   "cell_type": "code",
   "execution_count": null,
   "metadata": {},
   "outputs": [],
   "source": []
  },
  {
   "cell_type": "code",
   "execution_count": 54,
   "metadata": {},
   "outputs": [
    {
     "name": "stdout",
     "output_type": "stream",
     "text": [
      "{0: 0.0024084848957464417, 2: 0.07514751802272644, 4: 0.6839124203451645, 5: 10.034846056234555, 7: 0.4438824015576356, 8: 0.1606184185788448, 10: 0.4375618812708965, 11: 1.2204010112570236, 12: 0.6887864178343365, 13: 1.455324742881854, 14: 4.374449972142159, 15: 3.98217653469089, 16: 0.4641424655832906, 17: 1.0772715956166454, 18: 1.6561566538423598, 24: 2.4329680806888714, 26: 3.553795735312847, 28: 0.6531547737330343, 30: 10.839947577850804, 31: 4.273086595035555, 41: 0.07446765434097408, 43: 0.7281137955745122, 44: 9.452999055543795, 46: 0.44436012127426944, 47: 0.157696314455359, 49: 0.4692380143700335, 50: 1.1713362664131834, 51: 0.6560580694372679, 52: 1.352976635146644, 53: 1.1027777279414404, 54: 1.674294956773967, 58: 2.9425721602901813, 60: 0.6485343387147953, 62: 11.018551268072583, 63: 4.110072269217451, 85: 5.652540197295564, 251: 100.71336405529955, 252: 4.874440615362174, 253: 2.7010498954988567, 254: 3.175048917908118, 255: 3.8580800165337648, 1002: 4.641776031047087, 1003: 3.176611270071467, 1005: 15.443273173024856, 1006: 1.07372684355096, 1007: 2.06516830807496, 1008: 0.7558005468551813, 1009: 1.5639982720752792, 1010: 1.6627363191801263, 1011: 0.6373190008898656, 1012: 0.5356877233303465, 1013: 0.626002973962155, 1014: 2.2381392606997226, 1015: 0.5581957001286807, 1016: 0.6114444942618245, 1017: 0.5747225369427403, 1018: 0.8306996724762462, 1019: 0.7012419381582586, 1020: 1.937996028334542, 1021: 1.4266201635929276, 1022: 0.9204766932681495, 1023: 1.1562325853713593, 1024: 1.0248282576789869, 1025: 1.42017571220628, 1026: 0.9345412187829083, 1027: 0.9149866428730282, 1028: 0.7619329606498565, 1029: 0.8986808371283466, 1030: 1.6830164501681242, 1031: 0.5251409499607477, 1034: 0.44086440156366846, 1035: 0.6057418271355732, 2002: 0.6296433281585885, 2003: 0.5263295855084104, 2005: 3.634468966319188, 2006: 1.2733727454506247, 2007: 1.837981558645804, 2008: 0.9409782994918001, 2009: 11.130204414754726, 2010: 1.3079566098363202, 2011: 1.8809262234929849, 2012: 0.7711894621881721, 2013: 1.4175946285222825, 2014: 1.6576656403676309, 2015: 0.6441142742551448, 2016: 0.45627076750163165, 2017: 0.6264278838264253, 2018: 2.43433402667086, 2019: 0.5631120087173057, 2020: 0.6290285673365063, 2021: 0.5729151378802413, 2022: 0.8440225975247315, 2023: 0.6351123856723995, 2024: 1.9784088200902359, 2025: 1.264300263112775, 2026: 1.0963785482740178, 2027: 1.0, 2028: 0.9712812311875735, 2029: 1.2559279350718457, 2030: 0.966454712814523, 2031: 0.9678093973208228, 2034: 0.7217210033193331, 2035: 0.8684064643281909}\n"
     ]
    }
   ],
   "source": [
    "darts_wts_as_my_format = darts_cws[:102].tolist()\n",
    "darts_wts_as_my_format.insert(0, darts_cws[-1])\n",
    "\n",
    "keys = list(range(len(darts_wts_as_my_format)))\n",
    "hcp_mapped_keys = label_converter.compressed_to_hcp(keys)\n",
    "\n",
    "dicto = dict()\n",
    "for i in range(len(hcp_mapped_keys)):\n",
    "    dicto[hcp_mapped_keys[i]] = darts_wts_as_my_format[i]\n",
    "\n",
    "darts_wts_as_my_format = dicto\n",
    "print(darts_wts_as_my_format)\n"
   ]
  },
  {
   "cell_type": "code",
   "execution_count": 7,
   "metadata": {},
   "outputs": [
    {
     "data": {
      "text/plain": [
       "1830.678957847822"
      ]
     },
     "execution_count": 7,
     "metadata": {},
     "output_type": "execute_result"
    }
   ],
   "source": [
    "\n",
    "sum(list(cws.values()))"
   ]
  },
  {
   "cell_type": "code",
   "execution_count": 8,
   "metadata": {},
   "outputs": [
    {
     "data": {
      "text/plain": [
       "14.082146153846155"
      ]
     },
     "execution_count": 8,
     "metadata": {},
     "output_type": "execute_result"
    }
   ],
   "source": [
    "1830.679 / 130"
   ]
  }
 ],
 "metadata": {
  "kernelspec": {
   "display_name": "Python 3",
   "language": "python",
   "name": "python3"
  },
  "language_info": {
   "codemirror_mode": {
    "name": "ipython",
    "version": 3
   },
   "file_extension": ".py",
   "mimetype": "text/x-python",
   "name": "python",
   "nbconvert_exporter": "python",
   "pygments_lexer": "ipython3",
   "version": "3.10.12"
  },
  "orig_nbformat": 4
 },
 "nbformat": 4,
 "nbformat_minor": 2
}
