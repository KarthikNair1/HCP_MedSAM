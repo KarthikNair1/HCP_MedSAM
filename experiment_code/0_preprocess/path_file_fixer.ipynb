{
 "cells": [
  {
   "cell_type": "code",
   "execution_count": 5,
   "metadata": {},
   "outputs": [],
   "source": [
    "import numpy as np\n",
    "import matplotlib.pyplot as plt\n",
    "import os\n",
    "join = os.path.join\n",
    "from tqdm import tqdm\n",
    "from skimage import transform \n",
    "from torch.utils.data import Dataset, DataLoader\n",
    "import torch.multiprocessing as mp\n",
    "import sys\n",
    "sys.path.append('../../modified_medsam_repo')\n",
    "from segment_anything import sam_model_registry, build_sam_vit_b_multiclass\n",
    "import random\n",
    "from datetime import datetime\n",
    "import pandas as pd\n",
    "import nibabel as nib\n",
    "import pickle   \n",
    "from glob import glob"
   ]
  },
  {
   "cell_type": "code",
   "execution_count": 24,
   "metadata": {},
   "outputs": [],
   "source": [
    "dfo = pd.read_csv('/gpfs/data/luilab/karthik/pediatric_seg_proj/path_df_constant_bbox.csv')\n",
    "\n",
    "'/gpfs/data/cbi/hcp/hcp_ya/hcp_ya_slices_npy/pretrained_image_encoded_slices/100206/6.npy'\n",
    "'/gpfs/data/cbi/hcp/hcp_ya/hcp_ya_slices_npy/segmentation_slices/100206/seg_0.npy'\n",
    "\n",
    "splits = pd.read_pickle('/gpfs/data/luilab/karthik/pediatric_seg_proj/train_val_test_split.pickle')\n",
    "\n",
    "collect_dict = {\n",
    "    'id':[],\n",
    "    'slice':[],\n",
    "    'image_embedding_slice_path':[],\n",
    "    'segmentation_slice_path':[],\n",
    "    'image_path':[],\n",
    "    'bbox_0':[],\n",
    "    'bbox_1':[],\n",
    "    'bbox_2':[],\n",
    "}\n",
    "\n",
    "for id in dfo['id'].unique():\n",
    "    tag = ''\n",
    "    if id in splits['train']: tag = 'train'\n",
    "    elif id in splits['val']: tag = 'val'\n",
    "    elif id in splits['test']: tag = 'test'\n",
    "    else: \n",
    "        print('ERR')\n",
    "        break\n",
    "    \n",
    "    for this_slice in range(256):\n",
    "        collect_dict['id'].append(id)\n",
    "        collect_dict['slice'].append(this_slice)\n",
    "        \n",
    "        collect_dict['image_embedding_slice_path'].append(os.path.join('/gpfs/data/cbi/hcp/hcp_ya/hcp_ya_slices_npy/pretrained_image_encoded_slices', str(id), f'{this_slice}.npy'))\n",
    "        collect_dict['segmentation_slice_path'].append(os.path.join('/gpfs/data/cbi/hcp/hcp_ya/hcp_ya_slices_npy/segmentation_slices', str(id), f'seg_{this_slice}.npy'))\n",
    "        collect_dict['image_path'].append(os.path.join('/gpfs/data/cbi/hcp/hcp_ya/hcp_ya_slices_npy/dir_structure_for_yolov7', tag, 'images', f'{id}_slice{this_slice}.png'))\n",
    "\n",
    "        collect_dict['bbox_0'].append(0)\n",
    "        collect_dict['bbox_1'].append(0)\n",
    "        collect_dict['bbox_2'].append(256)\n",
    "        collect_dict['bbox_3'].append(256)\n",
    "    \n",
    "df_res = pd.DataFrame(collect_dict)\n",
    "\n",
    "df_res.to_csv('/gpfs/data/luilab/karthik/pediatric_seg_proj/path_df_constant_bbox.csv', index=False)"
   ]
  }
 ],
 "metadata": {
  "kernelspec": {
   "display_name": "Python 3",
   "language": "python",
   "name": "python3"
  },
  "language_info": {
   "codemirror_mode": {
    "name": "ipython",
    "version": 3
   },
   "file_extension": ".py",
   "mimetype": "text/x-python",
   "name": "python",
   "nbconvert_exporter": "python",
   "pygments_lexer": "ipython3",
   "version": "3.9.13"
  }
 },
 "nbformat": 4,
 "nbformat_minor": 2
}
