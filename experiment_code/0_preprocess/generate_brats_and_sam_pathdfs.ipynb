{
 "cells": [
  {
   "cell_type": "code",
   "execution_count": 1,
   "metadata": {},
   "outputs": [],
   "source": [
    "import numpy as np\n",
    "import matplotlib.pyplot as plt\n",
    "import os\n",
    "join = os.path.join\n",
    "from tqdm import tqdm\n",
    "from skimage import transform \n",
    "from torch.utils.data import Dataset, DataLoader\n",
    "import torch.multiprocessing as mp\n",
    "import sys\n",
    "sys.path.append('../../modified_medsam_repo')\n",
    "from segment_anything import sam_model_registry, build_sam_vit_b_multiclass\n",
    "import random\n",
    "from datetime import datetime\n",
    "import pandas as pd\n",
    "import nibabel as nib\n",
    "import pickle   \n",
    "from glob import glob"
   ]
  },
  {
   "cell_type": "code",
   "execution_count": 9,
   "metadata": {},
   "outputs": [],
   "source": [
    "# build a SAM dataframe\n",
    "dfo = pd.read_csv('/gpfs/data/luilab/karthik/pediatric_seg_proj/path_df_constant_bbox.csv')\n",
    "dfo_sam = dfo\n",
    "dfo_sam['image_embedding_slice_path'] = [x.replace('pretrained_image_encoded_slices', 'SAM_image_encoded_slices') for x in dfo['image_embedding_slice_path']]\n",
    "#dfo_sam.to_csv('/gpfs/data/luilab/karthik/pediatric_seg_proj/other_path_dfs/path_df_SAM_constant_bbox.csv', index=False)"
   ]
  },
  {
   "cell_type": "code",
   "execution_count": 15,
   "metadata": {},
   "outputs": [],
   "source": [
    "# build MedSAM and UNet dataframes for Brats\n",
    "dir_path = '/gpfs/data/luilab/karthik/MICCAI_BraTS2020_TrainingData'\n",
    "pattern = os.path.join(dir_path, 'encoded_slices', '*', '*.npy')\n",
    "listo = glob(pattern)\n",
    " \n",
    "dicto = {'id': [], 'slice': [], 'image_embedding_slice_path': [], 'segmentation_slice_path': [], 'image_path': [], 'bbox_0':[], 'bbox_1':[], 'bbox_2':[], 'bbox_3':[]}\n",
    "for x in listo:\n",
    "    slice_num = int(x.split('/')[-1].split('.npy')[0])\n",
    "    mri_id = str(x.split('/')[-2])\n",
    "    image_embedding_slice_path = x\n",
    "    image_path = os.path.join(dir_path, 'images', f'images{mri_id}_slice{slice_num}.png')\n",
    "    segmentation_slice_path = os.path.join(dir_path, 'segmentations', mri_id, f'seg_{slice_num}.npy')\n",
    "\n",
    "    dicto['id'].append(mri_id)\n",
    "    dicto['slice'].append(slice_num)\n",
    "    dicto['image_embedding_slice_path'].append(image_embedding_slice_path)\n",
    "    dicto['segmentation_slice_path'].append(segmentation_slice_path)\n",
    "    dicto['image_path'].append(image_path)\n",
    "\n",
    "dicto['bbox_0'] = [0] * len(listo)\n",
    "dicto['bbox_1'] = [0] * len(listo)\n",
    "dicto['bbox_2'] = [256] * len(listo)\n",
    "dicto['bbox_3'] = [256] * len(listo)\n",
    "\n",
    "brats_medsam_df = pd.DataFrame(dicto)\n",
    "brats_medsam_df = brats_medsam_df.sort_values(['id', 'slice']).reset_index(drop=True)\n",
    "assert len(brats_medsam_df) == 50 * 256\n",
    "brats_medsam_df.to_csv('/gpfs/data/luilab/karthik/pediatric_seg_proj/other_path_dfs/path_df_brats_constant_bbox.csv', index=False)"
   ]
  },
  {
   "cell_type": "code",
   "execution_count": 14,
   "metadata": {},
   "outputs": [
    {
     "data": {
      "text/plain": [
       "0        001\n",
       "1        001\n",
       "2        001\n",
       "3        001\n",
       "4        001\n",
       "        ... \n",
       "12795    050\n",
       "12796    050\n",
       "12797    050\n",
       "12798    050\n",
       "12799    050\n",
       "Name: id, Length: 12800, dtype: object"
      ]
     },
     "execution_count": 14,
     "metadata": {},
     "output_type": "execute_result"
    }
   ],
   "source": [
    "brats_medsam_df['id'] = brats_medsam_df['id'].astype(str)\n",
    "brats_medsam_df['id']"
   ]
  },
  {
   "cell_type": "code",
   "execution_count": 35,
   "metadata": {},
   "outputs": [],
   "source": [
    "# now unet dataframe\n",
    "dicto_unet = {'id': dicto['id'], 'slice': dicto['slice'], 'img_slice_path': dicto['image_path'], 'segmentation_slice_path': dicto['segmentation_slice_path']}\n",
    "brats_unet_df = pd.DataFrame(dicto_unet)\n",
    "brats_unet_df = brats_unet_df.sort_values(['id', 'slice']).reset_index(drop=True)\n",
    "#brats_unet_df.to_csv('/gpfs/data/luilab/karthik/pediatric_seg_proj/other_path_dfs/path_df_brats_unet.csv', index=False)"
   ]
  }
 ],
 "metadata": {
  "kernelspec": {
   "display_name": "Python 3",
   "language": "python",
   "name": "python3"
  },
  "language_info": {
   "codemirror_mode": {
    "name": "ipython",
    "version": 3
   },
   "file_extension": ".py",
   "mimetype": "text/x-python",
   "name": "python",
   "nbconvert_exporter": "python",
   "pygments_lexer": "ipython3",
   "version": "3.10.12"
  }
 },
 "nbformat": 4,
 "nbformat_minor": 2
}
