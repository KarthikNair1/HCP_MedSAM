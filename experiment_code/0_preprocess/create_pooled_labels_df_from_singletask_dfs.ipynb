{
 "cells": [
  {
   "cell_type": "code",
   "execution_count": 1,
   "metadata": {},
   "outputs": [],
   "source": [
    "import pandas as pd\n",
    "import tqdm\n",
    "import os\n",
    "import numpy as np\n",
    "import argparse"
   ]
  },
  {
   "cell_type": "code",
   "execution_count": 13,
   "metadata": {},
   "outputs": [
    {
     "name": "stderr",
     "output_type": "stream",
     "text": [
      "100%|██████████| 102/102 [00:38<00:00,  2.63it/s]\n"
     ]
    }
   ],
   "source": [
    "label = 1\n",
    "listo = []\n",
    "for label in tqdm.tqdm(range(1,103)):\n",
    "    df = pd.read_csv(f'/gpfs/data/luilab/karthik/pediatric_seg_proj/per_class_isolated_df_new/{label}/0.1/isolated_path_df_bboxes_from_ground_truth.csv')\n",
    "    df_region_exists = df[~df['bbox_0'].isna()].reset_index(drop=True)\n",
    "    df_region_exists['label_number'] = label\n",
    "    listo.append(df_region_exists)\n",
    "\n",
    "# combine all the dataframes vertically\n",
    "df_combined = pd.concat(listo, axis=0)"
   ]
  },
  {
   "cell_type": "code",
   "execution_count": 14,
   "metadata": {},
   "outputs": [],
   "source": [
    "df_combined = df_combined.sort_values(by=['id', 'slice', 'label_number']).reset_index(drop=True)\n"
   ]
  },
  {
   "cell_type": "code",
   "execution_count": 16,
   "metadata": {},
   "outputs": [],
   "source": [
    "df_combined.to_csv('/gpfs/data/luilab/karthik/pediatric_seg_proj/other_path_dfs/pooled_labels_path_df_bboxes_from_ground_truth.csv', index=False)"
   ]
  }
 ],
 "metadata": {
  "kernelspec": {
   "display_name": "medsam",
   "language": "python",
   "name": "python3"
  },
  "language_info": {
   "codemirror_mode": {
    "name": "ipython",
    "version": 3
   },
   "file_extension": ".py",
   "mimetype": "text/x-python",
   "name": "python",
   "nbconvert_exporter": "python",
   "pygments_lexer": "ipython3",
   "version": "3.10.12"
  }
 },
 "nbformat": 4,
 "nbformat_minor": 2
}
