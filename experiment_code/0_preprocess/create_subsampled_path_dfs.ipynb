{
 "cells": [
  {
   "cell_type": "code",
   "execution_count": null,
   "metadata": {},
   "outputs": [],
   "source": [
    "# Notebook to create subsampled (e.g. 75%, 50%, 25%, 10%, 5%, 1%, 0.1%) of training data to evaluate\n",
    "# training in the low-data setting"
   ]
  },
  {
   "cell_type": "code",
   "execution_count": 1,
   "metadata": {},
   "outputs": [],
   "source": [
    "import numpy as np\n",
    "import matplotlib.pyplot as plt\n",
    "import os\n",
    "join = os.path.join\n",
    "from tqdm import tqdm\n",
    "from skimage import transform \n",
    "from torch.utils.data import Dataset, DataLoader\n",
    "import torch.multiprocessing as mp\n",
    "import sys\n",
    "sys.path.append('./modified_medsam_repo')\n",
    "import random\n",
    "from datetime import datetime\n",
    "import pandas as pd\n",
    "import nibabel as nib\n",
    "import pickle"
   ]
  },
  {
   "cell_type": "code",
   "execution_count": 2,
   "metadata": {},
   "outputs": [],
   "source": [
    "full_df = pd.read_csv('/gpfs/data/luilab/karthik/pediatric_seg_proj/path_df_constant_bbox.csv')\n",
    "splits = pd.read_pickle('/gpfs/data/luilab/karthik/pediatric_seg_proj/train_val_test_split.pickle')"
   ]
  },
  {
   "cell_type": "code",
   "execution_count": 17,
   "metadata": {},
   "outputs": [],
   "source": [
    "percents_interested = [100, 75, 50, 25, 10, 5, 2.5, 1, 0.5, 0.1]\n",
    "\n",
    "src_path = '/gpfs/data/luilab/karthik/pediatric_seg_proj/subset_train_id_dfs_pooled'\n",
    "np.random.seed(2024)\n",
    "\n",
    "last_train_list = splits['train']\n",
    "for xo in percents_interested:\n",
    "    mult = xo / 100.0\n",
    "    num_train_to_sample = round(len(splits['train']) * mult)\n",
    "    \n",
    "    train_idxs = np.random.choice(last_train_list, size = num_train_to_sample, replace=False)\n",
    "    new_dict = {'train': train_idxs, 'val': splits['val'], 'test':splits['test']}\n",
    "    \n",
    "\n",
    "    pd.to_pickle(new_dict, f'{src_path}/{xo}.pkl')\n",
    "    #print(train_idxs)\n",
    "    last_train_list = train_idxs"
   ]
  }
 ],
 "metadata": {
  "kernelspec": {
   "display_name": "Python 3",
   "language": "python",
   "name": "python3"
  },
  "language_info": {
   "codemirror_mode": {
    "name": "ipython",
    "version": 3
   },
   "file_extension": ".py",
   "mimetype": "text/x-python",
   "name": "python",
   "nbconvert_exporter": "python",
   "pygments_lexer": "ipython3",
   "version": "3.10.12"
  }
 },
 "nbformat": 4,
 "nbformat_minor": 2
}
