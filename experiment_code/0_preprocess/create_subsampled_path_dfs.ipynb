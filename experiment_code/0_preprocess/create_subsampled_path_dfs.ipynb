{
 "cells": [
  {
   "cell_type": "code",
   "execution_count": null,
   "metadata": {},
   "outputs": [],
   "source": [
    "# Notebook to create subsampled (e.g. 75%, 50%, 25%, 10%, 5%, 1%, 0.1%) of training data to evaluate\n",
    "# training in the low-data setting"
   ]
  },
  {
   "cell_type": "code",
   "execution_count": 1,
   "metadata": {},
   "outputs": [],
   "source": [
    "import numpy as np\n",
    "import matplotlib.pyplot as plt\n",
    "import os\n",
    "join = os.path.join\n",
    "from tqdm import tqdm\n",
    "from skimage import transform \n",
    "from torch.utils.data import Dataset, DataLoader\n",
    "import torch.multiprocessing as mp\n",
    "import sys\n",
    "sys.path.append('./modified_medsam_repo')\n",
    "import random\n",
    "from datetime import datetime\n",
    "import pandas as pd\n",
    "import nibabel as nib\n",
    "import pickle"
   ]
  },
  {
   "cell_type": "code",
   "execution_count": 2,
   "metadata": {},
   "outputs": [],
   "source": [
    "full_df = pd.read_csv('/gpfs/data/luilab/karthik/pediatric_seg_proj/path_df_constant_bbox.csv')\n",
    "splits = pd.read_pickle('/gpfs/data/luilab/karthik/pediatric_seg_proj/train_val_test_split.pickle')"
   ]
  },
  {
   "cell_type": "code",
   "execution_count": 17,
   "metadata": {},
   "outputs": [],
   "source": [
    "# first pass\n",
    "percents_interested = [100, 75, 50, 25, 10, 5, 2.5, 1, 0.5, 0.1]\n",
    "\n",
    "src_path = '/gpfs/data/luilab/karthik/pediatric_seg_proj/subset_train_id_dfs_pooled'\n",
    "np.random.seed(2024)\n",
    "\n",
    "last_train_list = splits['train']\n",
    "for xo in percents_interested:\n",
    "    mult = xo / 100.0\n",
    "    num_train_to_sample = round(len(splits['train']) * mult)\n",
    "    \n",
    "    train_idxs = np.random.choice(last_train_list, size = num_train_to_sample, replace=False)\n",
    "    new_dict = {'train': train_idxs, 'val': splits['val'], 'test':splits['test']}\n",
    "    \n",
    "\n",
    "    pd.to_pickle(new_dict, f'{src_path}/{xo}.pkl')\n",
    "    #print(train_idxs)\n",
    "    last_train_list = train_idxs"
   ]
  },
  {
   "cell_type": "code",
   "execution_count": 4,
   "metadata": {},
   "outputs": [
    {
     "data": {
      "text/plain": [
       "891"
      ]
     },
     "execution_count": 4,
     "metadata": {},
     "output_type": "execute_result"
    }
   ],
   "source": [
    "len(splits['train'])"
   ]
  },
  {
   "cell_type": "code",
   "execution_count": 14,
   "metadata": {},
   "outputs": [
    {
     "data": {
      "text/plain": [
       "668.25"
      ]
     },
     "execution_count": 14,
     "metadata": {},
     "output_type": "execute_result"
    }
   ],
   "source": [
    "0.75 * 891"
   ]
  },
  {
   "cell_type": "code",
   "execution_count": 15,
   "metadata": {},
   "outputs": [],
   "source": [
    "np.random.seed(2024)\n",
    "num_mri_interested = [1, 2, 3, 4, 5, 7, 10, 15, 20, 50, 100, 250, 500, 891]\n",
    "src_path = '/gpfs/data/luilab/karthik/pediatric_seg_proj/subset_train_id_dfs_pooled/repeat_experiments'\n",
    "repeats = 10\n",
    "for num in num_mri_interested:\n",
    "    targ_path = os.path.join(src_path, str(num))\n",
    "    if not os.path.exists(targ_path):\n",
    "        os.makedirs(targ_path)\n",
    "    \n",
    "    for i in range(repeats):\n",
    "        train_idxs = np.random.choice(splits['train'], size = num, replace=False)\n",
    "        new_dict = {'train': train_idxs, 'val': splits['val'], 'test': splits['test']}\n",
    "        final_path = os.path.join(targ_path, f'repeat{i}.pkl')\n",
    "        pd.to_pickle(new_dict, final_path)\n",
    "\n"
   ]
  },
  {
   "cell_type": "code",
   "execution_count": 31,
   "metadata": {},
   "outputs": [
    {
     "data": {
      "text/plain": [
       "{'dice_sensitivity': tensor([0.7936]),\n",
       " 'dice_specificity': tensor([0.6686]),\n",
       " 'overall_dice': tensor([0.7211]),\n",
       " 'label_numbers': []}"
      ]
     },
     "execution_count": 31,
     "metadata": {},
     "output_type": "execute_result"
    }
   ],
   "source": [
    "pd.read_pickle('/gpfs/data/luilab/karthik/pediatric_seg_proj/results_copied_from_kn2347/medsam_retrain_dice_batchsz_expt_11-8-24/val/1/0.0005/0.1/8/eval_singletask_unprompted_val_label1.pkl')"
   ]
  },
  {
   "cell_type": "code",
   "execution_count": 33,
   "metadata": {},
   "outputs": [
    {
     "data": {
      "text/plain": [
       "{'dice_sensitivity': tensor([0.7839]),\n",
       " 'dice_specificity': tensor([0.8372]),\n",
       " 'overall_dice': tensor([0.8148]),\n",
       " 'label_numbers': []}"
      ]
     },
     "execution_count": 33,
     "metadata": {},
     "output_type": "execute_result"
    }
   ],
   "source": [
    "pd.read_pickle('/gpfs/data/luilab/karthik/pediatric_seg_proj/results_copied_from_kn2347/unet_retrain_dice_batchsz_expt_11-11-24/val/0.0005/1/0.1/256/eval_singletask_unet_val_label1.pkl')"
   ]
  }
 ],
 "metadata": {
  "kernelspec": {
   "display_name": "Python 3",
   "language": "python",
   "name": "python3"
  },
  "language_info": {
   "codemirror_mode": {
    "name": "ipython",
    "version": 3
   },
   "file_extension": ".py",
   "mimetype": "text/x-python",
   "name": "python",
   "nbconvert_exporter": "python",
   "pygments_lexer": "ipython3",
   "version": "3.10.12"
  }
 },
 "nbformat": 4,
 "nbformat_minor": 2
}
