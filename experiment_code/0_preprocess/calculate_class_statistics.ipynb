{
 "cells": [
  {
   "cell_type": "code",
   "execution_count": null,
   "metadata": {},
   "outputs": [
    {
     "name": "stderr",
     "output_type": "stream",
     "text": [
      "/gpfs/home/kn2347/.conda/envs/medsam/lib/python3.10/site-packages/tqdm/auto.py:21: TqdmWarning: IProgress not found. Please update jupyter and ipywidgets. See https://ipywidgets.readthedocs.io/en/stable/user_install.html\n",
      "  from .autonotebook import tqdm as notebook_tqdm\n"
     ]
    }
   ],
   "source": [
    "import numpy as np\n",
    "import matplotlib.pyplot as plt\n",
    "import os\n",
    "from tqdm import tqdm\n",
    "from glob import glob\n",
    "import pandas as pd\n",
    "import pickle\n",
    "import random\n",
    "from PIL import Image\n",
    "from glob import glob\n",
    "import re\n",
    "#from adjustText import adjust_text\n",
    "import seaborn as sns\n",
    "import statannot\n",
    "import argparse\n",
    "#import torch\n",
    "import wandb\n",
    "import sys\n",
    "sys.path.append('../../modified_medsam_repo')\n",
    "from MedSAM_HCP.dataset import MRIDataset_Imgs, load_datasets\n",
    "from MedSAM_HCP.MedSAM import MedSAM\n",
    "from MedSAM_HCP.build_sam import build_sam_vit_b_multiclass\n",
    "from MedSAM_HCP.utils_hcp import *\n",
    "from MedSAM_HCP.loss_funcs_hcp import *\n",
    "from segmentation_models_pytorch.encoders import get_preprocessing_fn\n"
   ]
  },
  {
   "cell_type": "code",
   "execution_count": 12,
   "metadata": {},
   "outputs": [
    {
     "ename": "ModuleNotFoundError",
     "evalue": "No module named 'cv2'",
     "output_type": "error",
     "traceback": [
      "\u001b[0;31m---------------------------------------------------------------------------\u001b[0m",
      "\u001b[0;31mModuleNotFoundError\u001b[0m                       Traceback (most recent call last)",
      "Cell \u001b[0;32mIn[12], line 1\u001b[0m\n\u001b[0;32m----> 1\u001b[0m \u001b[38;5;28;01mimport\u001b[39;00m \u001b[38;5;21;01mcv2\u001b[39;00m \u001b[38;5;28;01mas\u001b[39;00m \u001b[38;5;21;01mcv\u001b[39;00m\n",
      "\u001b[0;31mModuleNotFoundError\u001b[0m: No module named 'cv2'"
     ]
    }
   ],
   "source": [
    "import cv2 as cv"
   ]
  },
  {
   "cell_type": "code",
   "execution_count": null,
   "metadata": {},
   "outputs": [],
   "source": [
    "# metrics of interest:\n",
    "# 1. Total number of slices with the class present\n",
    "# 2. Total number of pixels of the class across whole dataset\n",
    "# 3. Number of pixels averaged over slices which have this class\n",
    "# 4. Number of pixels averaged over all slices\n",
    "# 5. Percent of slices with the class present\n"
   ]
  },
  {
   "cell_type": "code",
   "execution_count": 2,
   "metadata": {},
   "outputs": [],
   "source": [
    "path = '/gpfs/data/luilab/karthik/pediatric_seg_proj/path_df_unet.csv'\n",
    "df_hcp = pd.read_csv('/gpfs/home/kn2347/HCP_MedSAM_project/modified_medsam_repo/hcp_mapping_processed.csv')\n",
    "df_desired = pd.read_csv('/gpfs/home/kn2347/HCP_MedSAM_project/modified_medsam_repo/darts_name_class_mapping_processed.csv')\n",
    "label_converter = LabelConverter(df_hcp, df_desired)\n",
    "num_classes=102\n",
    "\n",
    "preprocess_input = get_preprocessing_fn('resnet18', pretrained='imagenet')\n",
    "\n",
    "\n",
    "train, val, test = load_datasets(\n",
    "            path,\n",
    "            '/gpfs/data/luilab/karthik/pediatric_seg_proj/train_val_test_split.pickle',\n",
    "            label_id = None, bbox_shift=0, \n",
    "                sample_n_slices = None, label_converter=label_converter, NUM_CLASSES=num_classes+1, \n",
    "                as_one_hot=True, pool_labels=False, preprocess_fn = preprocess_input, dataset_type = MRIDataset_Imgs)\n",
    "\n",
    "train_loader = DataLoader(train, batch_size=64, shuffle=False, num_workers=0)"
   ]
  },
  {
   "cell_type": "code",
   "execution_count": null,
   "metadata": {},
   "outputs": [
    {
     "name": "stdout",
     "output_type": "stream",
     "text": [
      "(256, 256)\n"
     ]
    }
   ],
   "source": [
    "xx = train[120][1][0,:,:].numpy()\n"
   ]
  },
  {
   "cell_type": "code",
   "execution_count": 31,
   "metadata": {},
   "outputs": [
    {
     "name": "stderr",
     "output_type": "stream",
     "text": [
      "  0%|          | 2/3564 [00:17<8:51:22,  8.95s/it]\n"
     ]
    }
   ],
   "source": [
    "slice_sums = torch.zeros(102)\n",
    "pixel_sums = torch.zeros(102)\n",
    "total_num_slices = 0\n",
    "for step, (image, gt2D) in enumerate(tqdm(train_loader)):\n",
    "    image = image.to('cuda')\n",
    "    gt2D = gt2D.to('cuda') # B x C x H x W\n",
    "    boolgt2d = gt2D > 0\n",
    "    has_class = boolgt2d.view((boolgt2d.shape[0], boolgt2d.shape[1], -1)).any(dim=2, keepdim=False) # should now be B x C\n",
    "    has_class = has_class.sum(dim=0) # now C\n",
    "    slice_sums += has_class.cpu().detach()\n",
    "\n",
    "\n",
    "    #label_idxs = torch.argmax(gt2D, dim=1) # now B x H x W\n",
    "    pixel_sums += gt2D.sum(dim=(0,2,3)).cpu().detach()\n",
    "\n",
    "    total_num_slices += gt2D.shape[0]\n",
    "\n",
    "\n",
    "    if step>=2:\n",
    "        break"
   ]
  },
  {
   "cell_type": "code",
   "execution_count": 41,
   "metadata": {},
   "outputs": [],
   "source": [
    "df = pd.DataFrame({'label': list(range(1,103)), 'total_slices': slice_sums.tolist(), 'total_pixels': pixel_sums.tolist()})\n",
    "df['avg_pixels_per_slice_when_present'] = df['total_pixels'] / df['total_slices']\n",
    "df['avg_pixels_per_all_slices'] = df['total_pixels'] / total_num_slices\n",
    "df['fraction_slices_present'] = df['total_slices'] / total_num_slices\n",
    "df.to_csv('/gpfs/data/luilab/karthik/pediatric_seg_proj/results_copied_from_kn2347/training_set_class_statistics_10-15-24/class_statistics.csv', header=False)"
   ]
  }
 ],
 "metadata": {
  "kernelspec": {
   "display_name": "medsam",
   "language": "python",
   "name": "python3"
  },
  "language_info": {
   "codemirror_mode": {
    "name": "ipython",
    "version": 3
   },
   "file_extension": ".py",
   "mimetype": "text/x-python",
   "name": "python",
   "nbconvert_exporter": "python",
   "pygments_lexer": "ipython3",
   "version": "3.10.12"
  }
 },
 "nbformat": 4,
 "nbformat_minor": 2
}
