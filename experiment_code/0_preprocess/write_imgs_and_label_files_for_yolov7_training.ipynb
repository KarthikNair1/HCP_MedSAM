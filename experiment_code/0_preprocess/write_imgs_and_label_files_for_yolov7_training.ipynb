{
 "cells": [
  {
   "cell_type": "code",
   "execution_count": 1,
   "metadata": {},
   "outputs": [],
   "source": [
    "import numpy as np\n",
    "import matplotlib.pyplot as plt\n",
    "import os\n",
    "join = os.path.join\n",
    "from skimage import io\n",
    "from tqdm import tqdm\n",
    "import torch\n",
    "from torch.utils.data import Dataset, DataLoader\n",
    "import monai\n",
    "from monai.networks import one_hot\n",
    "import sys\n",
    "sys.path.append('./modified_medsam_repo')\n",
    "from segment_anything import SamPredictor, sam_model_registry\n",
    "from segment_anything.utils.transforms import ResizeLongestSide\n",
    "from utils.SurfaceDice import compute_dice_coefficient\n",
    "from skimage import io, transform\n",
    "from glob import glob\n",
    "from sklearn.model_selection import train_test_split\n",
    "import pandas as pd\n",
    "import nibabel as nib\n",
    "import pickle\n",
    "from torch.utils.data import RandomSampler\n",
    "import random\n",
    "import scipy\n",
    "import torch.nn.functional as F\n",
    "import img2pdf\n",
    "from torchmetrics import F1Score\n",
    "\n",
    "from MedSAM_HCP.dataset import MRIDataset, load_datasets\n",
    "from MedSAM_HCP.MedSAM import MedSAM, medsam_inference\n",
    "from MedSAM_HCP.build_sam import build_sam_vit_b_multiclass\n",
    "from MedSAM_HCP.utils_hcp import *\n",
    "from PIL import Image\n",
    "\n",
    "# set seeds\n",
    "torch.manual_seed(2023)\n",
    "np.random.seed(2023)"
   ]
  },
  {
   "cell_type": "code",
   "execution_count": 2,
   "metadata": {},
   "outputs": [],
   "source": [
    "df_hcp = pd.read_csv('/gpfs/home/kn2347/MedSAM/hcp_mapping_processed.csv')\n",
    "df_desired = pd.read_csv('/gpfs/home/kn2347/MedSAM/darts_name_class_mapping_processed.csv')\n",
    "NUM_CLASSES = len(df_desired)\n",
    "label_converter = LabelConverter(df_hcp, df_desired)\n",
    "\n",
    "path_df_path = '/gpfs/data/luilab/karthik/pediatric_seg_proj/path_df_constant_bbox.csv'\n",
    "train_test_splits_path = '/gpfs/data/luilab/karthik/pediatric_seg_proj/train_val_test_split.pickle'\n",
    "train_dataset, val_dataset, test_dataset = load_datasets(path_df_path, train_test_splits_path, label_id = None, bbox_shift=0, sample_n_slices = None, label_converter=label_converter, NUM_CLASSES=NUM_CLASSES)"
   ]
  },
  {
   "cell_type": "code",
   "execution_count": 12,
   "metadata": {},
   "outputs": [
    {
     "data": {
      "text/plain": [
       "0"
      ]
     },
     "execution_count": 12,
     "metadata": {},
     "output_type": "execute_result"
    }
   ],
   "source": [
    "train_dataset.load_image(128).min()"
   ]
  },
  {
   "cell_type": "code",
   "execution_count": null,
   "metadata": {},
   "outputs": [],
   "source": [
    "def proc_arr(arr):\n",
    "    # arr has shape (classes, *)\n",
    "    ax_starts = np.argmax(arr, axis=1) # shape (classes)\n",
    "    ax_ends = arr.shape[1] - 1 - np.argmax(arr[:,::-1], axis=1) # shape (classes)\n",
    "\n",
    "    maxs = np.max(arr, axis = 1) # shape (classes)\n",
    "    ax_starts = np.where(maxs == 1, ax_starts, np.nan)\n",
    "    ax_ends = np.where(maxs == 1, ax_ends, np.nan)\n",
    "\n",
    "    return ax_starts, ax_ends\n",
    "\n",
    "\n",
    "def get_bounding_box(seg_tens):\n",
    "    # seg_tens has shape (256,256,256)\n",
    "    # return shape (4, classes) - rmin, rmax, cmin, cmax\n",
    "    \n",
    "    cols = np.any(seg_tens, axis=1) # (classes, W)\n",
    "    rows = np.any(seg_tens, axis=2) # (classes, H) of True/False, now find min row and max row with True\n",
    "    \n",
    "    rmin, rmax = proc_arr(rows)\n",
    "    cmin, cmax = proc_arr(cols)\n",
    "    \n",
    "    return np.array((rmin, rmax, cmin, cmax))\n",
    "\n",
    "def conv_format(seg_tens):\n",
    "\n",
    "    # return shape (num_classes, 4) - x, y, width, height\n",
    "    if type(seg_tens) == torch.Tensor:\n",
    "        seg_tens = seg_tens.cpu().detach().numpy()\n",
    "    res = get_bounding_box(seg_tens) # 4 x num_classes - rmin, rmax, cmin, cmax\n",
    "    x = res[2, :]\n",
    "    y = res[0, :]\n",
    "    width = res[3, :] - res[2, :]\n",
    "    height = res[1, :] - res[0, :]\n",
    "\n",
    "    return np.array((x, y, width, height)).T"
   ]
  },
  {
   "cell_type": "code",
   "execution_count": 40,
   "metadata": {},
   "outputs": [
    {
     "name": "stdout",
     "output_type": "stream",
     "text": [
      "[[nan nan nan nan]\n",
      " [ 1.  1.  2.  1.]]\n"
     ]
    }
   ],
   "source": [
    "arr = np.zeros((2, 4, 4))\n",
    "#arr[0, 0:2, 0:2] = 1\n",
    "arr[1, 1:3, 1:4] = 1\n",
    "\n",
    "print(conv_format(torch.Tensor(arr)))"
   ]
  },
  {
   "cell_type": "code",
   "execution_count": null,
   "metadata": {},
   "outputs": [],
   "source": [
    "train_path = '/gpfs/data/luilab/karthik/pediatric_seg_proj/hcp_ya_slices_npy/dir_structure_for_yolov7/train/labels/'\n",
    "\n",
    "for i in tqdm(range(len(train_dataset))):\n",
    "    _, seg_tens, _, img_slice_name = train_dataset[i] # seg_tens is 256x256x256\n",
    "    bbox = conv_format(seg_tens) # (256, 4) -> rmin, rmax, ymin, ymax\n",
    "    #print(img_slice_name) # e.g. 100206_slice0.npy\n",
    "    img_slc = img_slice_name.split('.npy')[0]\n",
    "    this_path  = os.path.join(train_path, img_slc + '.txt')\n",
    "    with open(this_path, 'w') as f:\n",
    "    \n",
    "        for class_num in range(bbox.shape[0]):\n",
    "           if not np.isnan(bbox[class_num, 0]):\n",
    "                \n",
    "                this_r = bbox[class_num, :].astype(int)\n",
    "\n",
    "                output_line = f'{class_num} {this_r[0]} {this_r[1]} {this_r[2]} {this_r[3]}'\n",
    "                f.write(output_line + '\\n')\n",
    "        f.close()\n",
    "    \n",
    "    img_itself = np.repeat(train_dataset.load_image(i)[:,:,None], 3, axis=-1) #(256,256,3)\n",
    "    img_pil = Image.fromarray(img_itself)\n",
    "    img_pil.save(img_write_path)\n",
    "    \n"
   ]
  },
  {
   "cell_type": "code",
   "execution_count": null,
   "metadata": {},
   "outputs": [],
   "source": [
    "val_path = '/gpfs/data/luilab/karthik/pediatric_seg_proj/hcp_ya_slices_npy/dir_structure_for_yolov7/val/labels/'\n",
    "\n",
    "for i in tqdm(range(len(val_dataset))):\n",
    "    _, seg_tens, _, img_slice_name = val_dataset[i] # seg_tens is 256x256x256\n",
    "    bbox = conv_format(seg_tens) # (256, 4) -> rmin, rmax, ymin, ymax\n",
    "    #print(img_slice_name) # e.g. 100206_slice0.npy\n",
    "    img_slc = img_slice_name.split('.npy')[0]\n",
    "    this_path  = os.path.join(val_path, img_slc + '.txt')\n",
    "    with open(this_path, 'w') as f:\n",
    "    \n",
    "        for class_num in range(bbox.shape[0]):\n",
    "           if not np.isnan(bbox[class_num, 0]):\n",
    "                \n",
    "                this_r = bbox[class_num, :].astype(int)\n",
    "\n",
    "                output_line = f'{class_num} {this_r[0]} {this_r[1]} {this_r[2]} {this_r[3]}'\n",
    "                f.write(output_line + '\\n')\n",
    "        f.close()\n",
    "    \n",
    "    \n"
   ]
  },
  {
   "cell_type": "code",
   "execution_count": null,
   "metadata": {},
   "outputs": [],
   "source": [
    "test_path = '/gpfs/data/luilab/karthik/pediatric_seg_proj/hcp_ya_slices_npy/dir_structure_for_yolov7/test/labels/'\n",
    "\n",
    "for i in tqdm(range(len(test_dataset))):\n",
    "    _, seg_tens, _, img_slice_name = test_dataset[i] # seg_tens is 256x256x256\n",
    "    bbox = conv_format(seg_tens) # (256, 4) -> rmin, rmax, ymin, ymax\n",
    "    #print(img_slice_name) # e.g. 100206_slice0.npy\n",
    "    img_slc = img_slice_name.split('.npy')[0]\n",
    "    this_path  = os.path.join(test_path, img_slc + '.txt')\n",
    "    with open(this_path, 'w') as f:\n",
    "    \n",
    "        for class_num in range(bbox.shape[0]):\n",
    "           if not np.isnan(bbox[class_num, 0]):\n",
    "                \n",
    "                this_r = bbox[class_num, :].astype(int)\n",
    "\n",
    "                output_line = f'{class_num} {this_r[0]} {this_r[1]} {this_r[2]} {this_r[3]}'\n",
    "                f.write(output_line + '\\n')\n",
    "        f.close()\n",
    "    \n",
    "    \n"
   ]
  },
  {
   "cell_type": "markdown",
   "metadata": {},
   "source": [
    "### Test label and image writing"
   ]
  },
  {
   "cell_type": "code",
   "execution_count": 8,
   "metadata": {},
   "outputs": [],
   "source": [
    "import matplotlib.patches as patches"
   ]
  },
  {
   "cell_type": "code",
   "execution_count": null,
   "metadata": {},
   "outputs": [],
   "source": [
    "rt_path = '/gpfs/data/luilab/karthik/pediatric_seg_proj/hcp_ya_slices_npy/dir_structure_for_yolov7/train/images/100206_slice128.png'\n",
    "\n",
    "\n",
    "im = np.array(Image.open(rt_path))[...,:3]\n",
    "\n",
    "fig, ax = plt.subplots()\n",
    "ax.imshow(im)\n",
    "\n",
    "\n",
    "file = open('/gpfs/data/luilab/karthik/pediatric_seg_proj/hcp_ya_slices_npy/dir_structure_for_yolov7/train/labels/100206_slice128.txt', 'r')\n",
    "lines = file.readlines()\n",
    "print(lines)\n",
    "total_dim = 256\n",
    "for i in range(len(lines)):\n",
    "    this_line = lines[i].split(' ')\n",
    "    this_line[-1] = this_line[-1].split('\\n')[0]\n",
    "\n",
    "    class_num = int(this_line[0])\n",
    "    center_x = float(this_line[1]) * total_dim\n",
    "    center_y = float(this_line[2]) * total_dim\n",
    "    width = float(this_line[3]) * total_dim\n",
    "    height = float(this_line[4]) * total_dim\n",
    "\n",
    "\n",
    "    min_x = center_x - width/2\n",
    "    max_x = center_x + width/2\n",
    "    min_y = center_y - height/2\n",
    "    max_y = center_y + height/2\n",
    "\n",
    "    rect = patches.Rectangle((min_x, min_y),width, height,linewidth=1,edgecolor='r',facecolor='none')\n",
    "    ax.add_patch(rect)"
   ]
  }
 ],
 "metadata": {
  "kernelspec": {
   "display_name": "Python 3",
   "language": "python",
   "name": "python3"
  },
  "language_info": {
   "codemirror_mode": {
    "name": "ipython",
    "version": 3
   },
   "file_extension": ".py",
   "mimetype": "text/x-python",
   "name": "python",
   "nbconvert_exporter": "python",
   "pygments_lexer": "ipython3",
   "version": "3.10.12"
  },
  "orig_nbformat": 4
 },
 "nbformat": 4,
 "nbformat_minor": 2
}
