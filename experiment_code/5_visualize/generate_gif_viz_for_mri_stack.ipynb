{
 "cells": [
  {
   "cell_type": "code",
   "execution_count": 1,
   "metadata": {},
   "outputs": [],
   "source": [
    "import plotly.express as px\n",
    "import numpy as np\n",
    "import nibabel as nib\n",
    "from PIL import Image\n",
    "import matplotlib.pyplot as plt\n",
    "import os\n",
    "import pandas as pd\n",
    "import pickle\n",
    "from glob import glob\n",
    "\n",
    "import sys\n",
    "sys.path.append('../../modified_medsam_repo')\n",
    "from MedSAM_HCP.dataset import MRIDataset, load_datasets\n",
    "from MedSAM_HCP.MedSAM import MedSAM, medsam_inference\n",
    "from MedSAM_HCP.build_sam import build_sam_vit_b_multiclass\n",
    "from MedSAM_HCP.utils_hcp import *"
   ]
  },
  {
   "cell_type": "code",
   "execution_count": 11,
   "metadata": {},
   "outputs": [
    {
     "data": {
      "text/plain": [
       "<matplotlib.image.AxesImage at 0x1554594bd8d0>"
      ]
     },
     "execution_count": 11,
     "metadata": {},
     "output_type": "execute_result"
    },
    {
     "data": {
      "image/png": "[encoded data removed]",
      "text/plain": [
       "<Figure size 640x480 with 1 Axes>"
      ]
     },
     "metadata": {},
     "output_type": "display_data"
    },
    {
     "ename": "",
     "evalue": "",
     "output_type": "error",
     "traceback": [
      "\u001b[1;31mThe Kernel crashed while executing code in the current cell or a previous cell. \n",
      "\u001b[1;31mPlease review the code in the cell(s) to identify a possible cause of the failure. \n",
      "\u001b[1;31mClick <a href='https://aka.ms/vscodeJupyterKernelCrash'>here</a> for more info. \n",
      "\u001b[1;31mView Jupyter <a href='command:jupyter.viewOutput'>log</a> for further details."
     ]
    }
   ],
   "source": [
    "xx = np.load('/gpfs/data/luilab/karthik/pediatric_seg_proj/results_copied_from_kn2347/brats_segmentations_9-17-24/unet/001/singletask_seg_all.npy')"
   ]
  },
  {
   "cell_type": "code",
   "execution_count": null,
   "metadata": {},
   "outputs": [],
   "source": [
    "train_test_splits_path = '/gpfs/data/luilab/karthik/pediatric_seg_proj/train_val_test_split.pickle'\n",
    "pd.read_pickle(train_test_splits_path)['test']"
   ]
  },
  {
   "cell_type": "code",
   "execution_count": 9,
   "metadata": {},
   "outputs": [],
   "source": [
    "mri_raw_file_path = '/gpfs/data/luilab/karthik/MICCAI_BraTS2020_TrainingData/BraTS20_Training_001/BraTS20_Training_001_t1.nii.gz'\n",
    "seg_arr = np.load('/gpfs/data/luilab/karthik/pediatric_seg_proj/results_copied_from_kn2347/brats_segmentations_9-17-24/001/singletask_seg_all.npy')\n",
    "assert seg_arr.shape == (256,256,256)"
   ]
  },
  {
   "cell_type": "code",
   "execution_count": 8,
   "metadata": {},
   "outputs": [
    {
     "name": "stdout",
     "output_type": "stream",
     "text": [
      "[  0   1   2   3   4   5   6   7   8  10  11  12  18  19  20  22  23  24\n",
      "  25  28  29  30  31  35  38  40  41  42  44  45  46  47  48  49  50  51\n",
      "  52  53  54  55  56  57  58  59  60  61  62  64  65  66  67  68  69  70\n",
      "  72  73  75  76  77  79  80  81  83  85  86  87  88  89  90  91  92  93\n",
      "  94  95  96  97  98  99 100 101]\n"
     ]
    }
   ],
   "source": [
    "np.random.seed(2023)\n",
    "unqs = np.unique(seg_arr)\n",
    "print(unqs)\n",
    "rand_nums = np.random.random((len(unqs), 3))\n",
    "color_label_mapper = dict()\n",
    "for i in range(len(unqs)):\n",
    "    color_label_mapper[unqs[i]] = (rand_nums[i, :] * 255).astype('uint8')\n"
   ]
  },
  {
   "cell_type": "code",
   "execution_count": 11,
   "metadata": {},
   "outputs": [],
   "source": [
    "df_hcp = pd.read_csv('/gpfs/home/kn2347/HCP_MedSAM_project/modified_medsam_repo/hcp_mapping_processed.csv')\n",
    "df_desired = pd.read_csv('/gpfs/home/kn2347/HCP_MedSAM_project/modified_medsam_repo/darts_name_class_mapping_processed.csv')\n",
    "NUM_CLASSES = len(df_desired)\n",
    "label_converter = LabelConverter(df_hcp, df_desired)"
   ]
  },
  {
   "cell_type": "code",
   "execution_count": null,
   "metadata": {},
   "outputs": [],
   "source": [
    "np.asarray(Image.open('/gpfs/data/luilab/karthik/MICCAI_BraTS2020_TrainingData/images/images001_slice120.png'))"
   ]
  },
  {
   "cell_type": "code",
   "execution_count": 25,
   "metadata": {},
   "outputs": [],
   "source": [
    "# given a directory of the png's for the MRI, seg array and an roi number, plot an animation\n",
    "def get_animation_imgs(mri_img_pattern, seg_arr, region_number, out_path):\n",
    "    # load the MRI\n",
    "    img_paths = glob(mri_img_pattern)\n",
    "    color_vec = color_label_mapper[region_number] # (np array of 3)\n",
    "    \n",
    "    # 256,256,1 * 1,3\n",
    "\n",
    "    # generate slice by slice\n",
    "    img_list = []\n",
    "    for slice_num in range(50,220):\n",
    "        # first, start with the source mri image\n",
    "        list_match = [s for s in img_paths if f'slice{slice_num}' in s]\n",
    "        assert len(list_match) == 1\n",
    "        \n",
    "        this_slice_img = np.asarray(Image.open(list_match[0]))\n",
    "        #this_slice_img = np.repeat(img[:,slice_num,:][:,:,None], 3, axis=-1)\n",
    "        if region_number <= 0:\n",
    "            # only output the raw scan as the image\n",
    "            final_img = Image.fromarray(this_slice_img.astype('uint8'), 'RGB')\n",
    "            img_list.append(final_img)\n",
    "            continue\n",
    "\n",
    "        #img_pil = Image.fromarray(this_slice_img, 'RGB')\n",
    "        #img_pil.putalpha(200)\n",
    "        \n",
    "        # next, create a mask for the specific region number\n",
    "        this_slice_mask = seg_arr[slice_num, :, :] == region_number\n",
    "        this_slice_mask = np.repeat(this_slice_mask[:,:,None], 3, axis=-1) # 256,256,3\n",
    "\n",
    "        color_portion = np.zeros((this_slice_mask.shape[0], this_slice_mask.shape[1], 3))\n",
    "        #mask_uint8 = np.dstack((color_portion, this_slice_mask*0.5*255)).astype('uint8')\n",
    "        \n",
    "        for i in range(3):\n",
    "            color_portion[:,:,i] = color_vec[i]\n",
    "        \n",
    "\n",
    "        mask_colored = this_slice_mask * color_portion # has 0s if not active at that pixel, and the right color value if it is\n",
    "        # but we need to grab all the 0s and set them to the source value\n",
    "\n",
    "        mask_colored[np.where(this_slice_mask==0)] = this_slice_img[np.where(this_slice_mask==0)]\n",
    "\n",
    "        # form a linear combination\n",
    "        delta = 0.7\n",
    "        final = delta * mask_colored + (1-delta) * this_slice_img\n",
    "\n",
    "        final_img = Image.fromarray(final.astype('uint8'), 'RGB')\n",
    "\n",
    "        img_list.append(final_img)\n",
    "    \n",
    "    img_list[0].save(os.path.join(out_path, f'{label_converter.compressed_to_name(region_number)}.gif'), format='GIF', save_all=True, append_images = img_list[1:],\n",
    "                    duration=100, loop=0)\n",
    "\n",
    "\n",
    "\n",
    "\n",
    "mri_img_pattern = '/gpfs/data/luilab/karthik/MICCAI_BraTS2020_TrainingData/images/images001_slice*.png'\n",
    "for i in range(0, 103):\n",
    "    if i in np.unique(seg_arr):\n",
    "        get_animation_imgs(mri_img_pattern, seg_arr, i, out_path = '/gpfs/data/luilab/karthik/pediatric_seg_proj/results_copied_from_kn2347/brats_segmentations_9-17-24/region_animations/001')"
   ]
  },
  {
   "cell_type": "code",
   "execution_count": 13,
   "metadata": {},
   "outputs": [
    {
     "name": "stdout",
     "output_type": "stream",
     "text": [
      "(256, 256, 3)\n"
     ]
    },
    {
     "ename": "IndexError",
     "evalue": "index 240 is out of bounds for axis 0 with size 240",
     "output_type": "error",
     "traceback": [
      "\u001b[0;31m---------------------------------------------------------------------------\u001b[0m",
      "\u001b[0;31mIndexError\u001b[0m                                Traceback (most recent call last)",
      "Cell \u001b[0;32mIn[13], line 57\u001b[0m\n\u001b[1;32m     55\u001b[0m \u001b[38;5;28;01mfor\u001b[39;00m i \u001b[38;5;129;01min\u001b[39;00m \u001b[38;5;28mrange\u001b[39m(\u001b[38;5;241m0\u001b[39m, \u001b[38;5;241m2\u001b[39m):\n\u001b[1;32m     56\u001b[0m     \u001b[38;5;28;01mif\u001b[39;00m i \u001b[38;5;129;01min\u001b[39;00m np\u001b[38;5;241m.\u001b[39munique(seg_arr):\n\u001b[0;32m---> 57\u001b[0m         \u001b[43mget_animation\u001b[49m\u001b[43m(\u001b[49m\u001b[43mmri_raw_file_path\u001b[49m\u001b[43m,\u001b[49m\u001b[43m \u001b[49m\u001b[43mseg_arr\u001b[49m\u001b[43m,\u001b[49m\u001b[43m \u001b[49m\u001b[43mi\u001b[49m\u001b[43m,\u001b[49m\u001b[43m \u001b[49m\u001b[43mout_path\u001b[49m\u001b[43m \u001b[49m\u001b[38;5;241;43m=\u001b[39;49m\u001b[43m \u001b[49m\u001b[38;5;124;43m'\u001b[39;49m\u001b[38;5;124;43m/gpfs/data/luilab/karthik/pediatric_seg_proj/results_copied_from_kn2347/brats_segmentations_9-17-24/region_animations/001\u001b[39;49m\u001b[38;5;124;43m'\u001b[39;49m\u001b[43m)\u001b[49m\n",
      "Cell \u001b[0;32mIn[13], line 39\u001b[0m, in \u001b[0;36mget_animation\u001b[0;34m(mri_file_path, seg_arr, region_number, out_path)\u001b[0m\n\u001b[1;32m     35\u001b[0m \u001b[38;5;66;03m# but we need to grab all the 0s and set them to the source value\u001b[39;00m\n\u001b[1;32m     37\u001b[0m \u001b[38;5;28mprint\u001b[39m(this_slice_mask\u001b[38;5;241m.\u001b[39mshape)\n\u001b[0;32m---> 39\u001b[0m mask_colored[np\u001b[38;5;241m.\u001b[39mwhere(this_slice_mask\u001b[38;5;241m==\u001b[39m\u001b[38;5;241m0\u001b[39m)] \u001b[38;5;241m=\u001b[39m \u001b[43mthis_slice_img\u001b[49m\u001b[43m[\u001b[49m\u001b[43mnp\u001b[49m\u001b[38;5;241;43m.\u001b[39;49m\u001b[43mwhere\u001b[49m\u001b[43m(\u001b[49m\u001b[43mthis_slice_mask\u001b[49m\u001b[38;5;241;43m==\u001b[39;49m\u001b[38;5;241;43m0\u001b[39;49m\u001b[43m)\u001b[49m\u001b[43m]\u001b[49m\n\u001b[1;32m     41\u001b[0m \u001b[38;5;66;03m# form a linear combination\u001b[39;00m\n\u001b[1;32m     42\u001b[0m delta \u001b[38;5;241m=\u001b[39m \u001b[38;5;241m0.7\u001b[39m\n",
      "\u001b[0;31mIndexError\u001b[0m: index 240 is out of bounds for axis 0 with size 240"
     ]
    }
   ],
   "source": [
    "# given an original nib file, seg array and an roi number, plot an animation\n",
    "def get_animation(mri_file_path, seg_arr, region_number, out_path):\n",
    "    # load the MRI\n",
    "    img = nib.load(mri_file_path).get_fdata().astype(np.uint8)\n",
    "    color_vec = color_label_mapper[region_number] # (np array of 3)\n",
    "    \n",
    "    # 256,256,1 * 1,3\n",
    "\n",
    "    # generate slice by slice\n",
    "    img_list = []\n",
    "    for slice_num in range(50,220):\n",
    "        # first, start with the source mri image\n",
    "        this_slice_img = np.repeat(img[:,slice_num,:][:,:,None], 3, axis=-1)\n",
    "        if region_number <= 0:\n",
    "            # only output the raw scan as the image\n",
    "            final_img = Image.fromarray(this_slice_img.astype('uint8'), 'RGB')\n",
    "            img_list.append(final_img)\n",
    "            continue\n",
    "\n",
    "        #img_pil = Image.fromarray(this_slice_img, 'RGB')\n",
    "        #img_pil.putalpha(200)\n",
    "        \n",
    "        # next, create a mask for the specific region number\n",
    "        this_slice_mask = seg_arr[slice_num, :, :] == region_number\n",
    "        this_slice_mask = np.repeat(this_slice_mask[:,:,None], 3, axis=-1) # 256,256,3\n",
    "\n",
    "        color_portion = np.zeros((this_slice_mask.shape[0], this_slice_mask.shape[1], 3))\n",
    "        #mask_uint8 = np.dstack((color_portion, this_slice_mask*0.5*255)).astype('uint8')\n",
    "        \n",
    "        for i in range(3):\n",
    "            color_portion[:,:,i] = color_vec[i]\n",
    "        \n",
    "\n",
    "        mask_colored = this_slice_mask * color_portion # has 0s if not active at that pixel, and the right color value if it is\n",
    "        # but we need to grab all the 0s and set them to the source value\n",
    "\n",
    "        mask_colored[np.where(this_slice_mask==0)] = this_slice_img[np.where(this_slice_mask==0)]\n",
    "\n",
    "        # form a linear combination\n",
    "        delta = 0.7\n",
    "        final = delta * mask_colored + (1-delta) * this_slice_img\n",
    "\n",
    "        final_img = Image.fromarray(final.astype('uint8'), 'RGB')\n",
    "\n",
    "        img_list.append(final_img)\n",
    "    \n",
    "    img_list[0].save(os.path.join(out_path, f'{label_converter.compressed_to_name(region_number)}.gif'), format='GIF', save_all=True, append_images = img_list[1:],\n",
    "                    duration=100, loop=0)\n",
    "\n",
    "\n",
    "\n",
    "\n",
    "for i in range(0, 2):\n",
    "    if i in np.unique(seg_arr):\n",
    "        get_animation(mri_raw_file_path, seg_arr, i, out_path = '/gpfs/data/luilab/karthik/pediatric_seg_proj/results_copied_from_kn2347/brats_segmentations_9-17-24/region_animations/001')"
   ]
  },
  {
   "cell_type": "code",
   "execution_count": 85,
   "metadata": {},
   "outputs": [],
   "source": [
    "# fuse together all regions to get an animation\n",
    "def get_animation_fused(mri_file_path, seg_arr, out_path):\n",
    "    # load the MRI\n",
    "    img = nib.load(mri_file_path).get_fdata().astype(np.uint8)\n",
    "\n",
    "    # 256,256,1 * 1,3\n",
    "\n",
    "    # generate slice by slice\n",
    "    img_list = []\n",
    "    delta = 0.7\n",
    "    for slice_num in range(50,220):\n",
    "        # first, start with the source mri image\n",
    "        this_slice_img = np.repeat(img[:,slice_num,:][:,:,None], 3, axis=-1)\n",
    "\n",
    "        #img_pil = Image.fromarray(this_slice_img, 'RGB')\n",
    "        #img_pil.putalpha(200)\n",
    "        \n",
    "\n",
    "        # next, create a mask for each specific region number\n",
    "        num_regions = len(np.unique(seg_arr[slice_num, :, :]))\n",
    "        color_portion = this_slice_img # 256,256,3\n",
    "        for region_number in np.unique(seg_arr[slice_num, :, :]):\n",
    "            if region_number==0:\n",
    "                continue\n",
    "            color_vec = color_label_mapper[region_number]\n",
    "            this_slice_mask = seg_arr[slice_num, :, :] == region_number\n",
    "            this_slice_mask = np.repeat(this_slice_mask[:,:,None], 3, axis=-1) # 256,256,3\n",
    "\n",
    "            #mask_uint8 = np.dstack((color_portion, this_slice_mask*0.5*255)).astype('uint8')\n",
    "            color_tmper = np.zeros((256,256,3))\n",
    "            for i in range(3):\n",
    "                color_tmper[:,:,i] = color_vec[i]\n",
    "            \n",
    "\n",
    "            mask_colored = this_slice_mask * color_tmper # has 0s if not active at that pixel, and the right color value if it is\n",
    "            # but we need to grab all the 0s and set them to the source value\n",
    "            color_portion[np.where(this_slice_mask==1)] = mask_colored[np.where(this_slice_mask==1)]\n",
    "            #mask_colored[np.where(this_slice_mask==0)] = this_slice_img[np.where(this_slice_mask==0)]\n",
    "\n",
    "        final_array = (1-delta)*this_slice_img + delta * color_portion\n",
    "        final_img = Image.fromarray(final_array.astype('uint8'), 'RGB')\n",
    "\n",
    "        img_list.append(final_img)\n",
    "    \n",
    "    img_list[0].save(os.path.join(out_path, 'fused.gif'), format='GIF', save_all=True, append_images = img_list[1:],\n",
    "                    duration=100, loop=0)\n",
    "\n",
    "get_animation_fused(mri_raw_file_path, seg_arr, out_path = '/gpfs/data/luilab/karthik/pediatric_seg_proj/saved_round2_segmentations/151425_upd')"
   ]
  }
 ],
 "metadata": {
  "kernelspec": {
   "display_name": "Python 3",
   "language": "python",
   "name": "python3"
  },
  "language_info": {
   "codemirror_mode": {
    "name": "ipython",
    "version": 3
   },
   "file_extension": ".py",
   "mimetype": "text/x-python",
   "name": "python",
   "nbconvert_exporter": "python",
   "pygments_lexer": "ipython3",
   "version": "3.10.12"
  },
  "orig_nbformat": 4
 },
 "nbformat": 4,
 "nbformat_minor": 2
}
