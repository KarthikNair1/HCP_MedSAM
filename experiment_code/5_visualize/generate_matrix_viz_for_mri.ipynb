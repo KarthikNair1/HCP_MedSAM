{
 "cells": [
  {
   "cell_type": "code",
   "execution_count": 1,
   "metadata": {},
   "outputs": [],
   "source": [
    "import plotly.express as px\n",
    "import numpy as np\n",
    "import nibabel as nib\n",
    "from PIL import Image\n",
    "import matplotlib.pyplot as plt\n",
    "import os\n",
    "import pandas as pd\n",
    "import pickle\n",
    "\n",
    "\n",
    "from MedSAM_HCP.dataset import MRIDataset, load_datasets\n",
    "from MedSAM_HCP.MedSAM import MedSAM, medsam_inference\n",
    "from MedSAM_HCP.build_sam import build_sam_vit_b_multiclass\n",
    "from MedSAM_HCP.utils_hcp import *"
   ]
  },
  {
   "cell_type": "code",
   "execution_count": 2,
   "metadata": {},
   "outputs": [
    {
     "data": {
      "text/plain": [
       "[162935,\n",
       " 979984,\n",
       " 200008,\n",
       " 211922,\n",
       " 989987,\n",
       " 779370,\n",
       " 108525,\n",
       " 187850,\n",
       " 351938,\n",
       " 955465,\n",
       " 173940,\n",
       " 119833,\n",
       " 692964,\n",
       " 102513,\n",
       " 251833,\n",
       " 693764,\n",
       " 103414,\n",
       " 510225,\n",
       " 973770,\n",
       " 729254,\n",
       " 782561,\n",
       " 569965,\n",
       " 728454,\n",
       " 171330,\n",
       " 113922,\n",
       " 156536,\n",
       " 169040,\n",
       " 255740,\n",
       " 132118,\n",
       " 580650,\n",
       " 102008,\n",
       " 525541,\n",
       " 156031,\n",
       " 148032,\n",
       " 112112,\n",
       " 789373,\n",
       " 765056,\n",
       " 751550,\n",
       " 104820,\n",
       " 204521,\n",
       " 130518,\n",
       " 573249,\n",
       " 130922,\n",
       " 761957,\n",
       " 210415,\n",
       " 609143,\n",
       " 952863,\n",
       " 148941,\n",
       " 160931,\n",
       " 519647,\n",
       " 283543,\n",
       " 112920,\n",
       " 349244,\n",
       " 786569,\n",
       " 346137,\n",
       " 517239,\n",
       " 368753,\n",
       " 905147,\n",
       " 224022,\n",
       " 201717,\n",
       " 144933,\n",
       " 151021,\n",
       " 214625,\n",
       " 157437,\n",
       " 576255,\n",
       " 308129,\n",
       " 257946,\n",
       " 366042,\n",
       " 166640,\n",
       " 788876,\n",
       " 627549,\n",
       " 256540,\n",
       " 645450,\n",
       " 849264,\n",
       " 492754,\n",
       " 102311,\n",
       " 182032,\n",
       " 305830,\n",
       " 173839,\n",
       " 110613,\n",
       " 580044,\n",
       " 194847,\n",
       " 210617,\n",
       " 154936,\n",
       " 680250,\n",
       " 856968,\n",
       " 599469,\n",
       " 155635,\n",
       " 102614,\n",
       " 106521,\n",
       " 117122,\n",
       " 127832,\n",
       " 198855,\n",
       " 898176,\n",
       " 120111,\n",
       " 204218,\n",
       " 877168,\n",
       " 123117,\n",
       " 107220,\n",
       " 561242,\n",
       " 727553,\n",
       " 127630,\n",
       " 201818,\n",
       " 481951,\n",
       " 110411,\n",
       " 558960,\n",
       " 211821,\n",
       " 178243,\n",
       " 745555,\n",
       " 365343,\n",
       " 152427]"
      ]
     },
     "execution_count": 2,
     "metadata": {},
     "output_type": "execute_result"
    }
   ],
   "source": [
    "train_test_splits_path = '/gpfs/data/luilab/karthik/pediatric_seg_proj/train_val_test_split.pickle'\n",
    "pd.read_pickle(train_test_splits_path)['test']"
   ]
  },
  {
   "cell_type": "code",
   "execution_count": 3,
   "metadata": {},
   "outputs": [],
   "source": [
    "mri_raw_file_path = '/gpfs/data/cbi/hcp/hcp_seg/data_orig/151425/mri/T1.mgz'\n",
    "seg_arr = np.load('/gpfs/data/luilab/karthik/pediatric_seg_proj/saved_round2_segmentations/151425_upd/singletask_seg_all.npy')\n",
    "assert seg_arr.shape == (256,256,256)"
   ]
  },
  {
   "cell_type": "code",
   "execution_count": 4,
   "metadata": {},
   "outputs": [
    {
     "name": "stdout",
     "output_type": "stream",
     "text": [
      "[  0.   1.   2.   3.   4.   5.   6.   7.   8.   9.  10.  12.  13.  14.\n",
      "  15.  16.  17.  18.  19.  20.  21.  22.  23.  24.  26.  27.  28.  29.\n",
      "  30.  31.  32.  33.  34.  35.  36.  37.  38.  39.  40.  41.  42.  43.\n",
      "  44.  45.  46.  47.  48.  49.  50.  51.  52.  53.  54.  55.  56.  57.\n",
      "  58.  59.  60.  61.  62.  63.  64.  65.  66.  67.  68.  69.  70.  71.\n",
      "  72.  73.  74.  75.  76.  77.  78.  79.  80.  81.  82.  83.  84.  85.\n",
      "  86.  87.  88.  89.  90.  91.  92.  93.  94.  95.  96.  97.  98.  99.\n",
      " 100. 101. 102.]\n"
     ]
    }
   ],
   "source": [
    "np.random.seed(2023)\n",
    "unqs = np.unique(seg_arr)\n",
    "print(unqs)\n",
    "rand_nums = np.random.random((len(unqs), 3))\n",
    "color_label_mapper = dict()\n",
    "for i in range(len(unqs)):\n",
    "    color_label_mapper[unqs[i]] = (rand_nums[i, :] * 255).astype('uint8')\n"
   ]
  },
  {
   "cell_type": "code",
   "execution_count": 5,
   "metadata": {},
   "outputs": [],
   "source": [
    "df_hcp = pd.read_csv('/gpfs/home/kn2347/MedSAM/hcp_mapping_processed.csv')\n",
    "df_desired = pd.read_csv('/gpfs/home/kn2347/MedSAM/darts_name_class_mapping_processed.csv')\n",
    "NUM_CLASSES = len(df_desired)\n",
    "label_converter = LabelConverter(df_hcp, df_desired)"
   ]
  },
  {
   "cell_type": "code",
   "execution_count": 47,
   "metadata": {},
   "outputs": [],
   "source": [
    "groups = [\n",
    "    [0],\n",
    "    [1, 13],\n",
    "    [2, 14],\n",
    "    [3, 15],\n",
    "    [4, 5, 6]\n",
    "]\n",
    "\n",
    "groups = [\n",
    "    ['Left-Cerebral-White-Matter', 'Right-Cerebral-White-Matter'],\n",
    "    ['Left-Cerebellum-Cortex', 'Right-Cerebellum-Cortex','Left-Cerebellum-White-Matter', 'Right-Cerebellum-White-Matter'],\n",
    "    ['Left-Caudate', 'Left-Putamen', 'Right-Caudate', 'Right-Putamen', 'Left-Pallidum', 'Right-Pallidum'],\n",
    "    ['Brain-Stem'],\n",
    "    ['Left-Hippocampus', 'Left-Amygdala', 'Left-Accumbens-area', 'Left-VentralDC',\n",
    "        'Right-Hippocampus', 'Right-Amygdala', 'Right-Accumbens-area', 'Right-VentralDC'],\n",
    "\n",
    "    ['ctx-lh-inferiortemporal', 'ctx-lh-lateraloccipital',\n",
    "       'ctx-lh-lateralorbitofrontal', 'ctx-lh-lingual',\n",
    "       'ctx-lh-medialorbitofrontal', 'ctx-lh-middletemporal',\n",
    "       'ctx-lh-parahippocampal', 'ctx-lh-parstriangularis',\n",
    "       'ctx-lh-rostralanteriorcingulate', 'ctx-lh-rostralmiddlefrontal',\n",
    "       'ctx-lh-superiortemporal', 'ctx-lh-insula', 'ctx-rh-fusiform',\n",
    "       'ctx-rh-inferiortemporal', 'ctx-rh-lateraloccipital',\n",
    "       'ctx-rh-lateralorbitofrontal', 'ctx-rh-lingual',\n",
    "       'ctx-rh-medialorbitofrontal', 'ctx-rh-middletemporal',\n",
    "       'ctx-rh-parahippocampal', 'ctx-rh-parsorbitalis',\n",
    "       'ctx-rh-parstriangularis', 'ctx-rh-rostralanteriorcingulate',\n",
    "       'ctx-rh-rostralmiddlefrontal', 'ctx-rh-superiortemporal',\n",
    "       'ctx-rh-insula']\n",
    "]\n",
    "\n",
    "groups = [\n",
    "    ['Left-Caudate', 'Left-Putamen', 'Right-Caudate', 'Right-Putamen', 'Left-Pallidum', 'Right-Pallidum', 'Brain-Stem',\n",
    "        'Left-Hippocampus', 'Left-Amygdala', 'Left-Accumbens-area', 'Left-VentralDC',\n",
    "        'Right-Hippocampus', 'Right-Amygdala', 'Right-Accumbens-area', 'Right-VentralDC',\n",
    "        'Left-choroid-plexus', 'Right-choroid-plexus']\n",
    "    ['Left-Cerebral-White-Matter', 'Right-Cerebral-White-Matter', \n",
    "    'Left-Cerebellum-Cortex', 'Right-Cerebellum-Cortex','Left-Cerebellum-White-Matter', 'Right-Cerebellum-White-Matter'],\n",
    "    ['ctx-lh-fusiform', 'ctx-lh-inferiortemporal', 'ctx-lh-lateraloccipital',\n",
    "       'ctx-lh-lateralorbitofrontal', 'ctx-lh-lingual',\n",
    "       'ctx-lh-medialorbitofrontal', 'ctx-lh-middletemporal',\n",
    "       'ctx-lh-parahippocampal', 'ctx-lh-parstriangularis',\n",
    "       'ctx-lh-rostralanteriorcingulate', 'ctx-lh-rostralmiddlefrontal',\n",
    "       'ctx-lh-superiortemporal', 'ctx-lh-insula', 'ctx-rh-fusiform',\n",
    "       'ctx-rh-inferiortemporal', 'ctx-rh-lateraloccipital',\n",
    "       'ctx-rh-lateralorbitofrontal', 'ctx-rh-lingual',\n",
    "       'ctx-rh-medialorbitofrontal', 'ctx-rh-middletemporal',\n",
    "       'ctx-rh-parahippocampal', 'ctx-rh-parsorbitalis',\n",
    "       'ctx-rh-parstriangularis', 'ctx-rh-rostralanteriorcingulate',\n",
    "       'ctx-rh-rostralmiddlefrontal', 'ctx-rh-superiortemporal',\n",
    "       'ctx-rh-insula']\n",
    "]\n"
   ]
  },
  {
   "cell_type": "code",
   "execution_count": 26,
   "metadata": {},
   "outputs": [
    {
     "data": {
      "text/plain": [
       "array(['Unknown', 'Left-Cerebral-White-Matter',\n",
       "       'Left-Cerebellum-White-Matter', 'Left-Cerebellum-Cortex',\n",
       "       'Left-Caudate', 'Left-Putamen', 'Left-Pallidum', 'Brain-Stem',\n",
       "       'Left-Hippocampus', 'Left-Amygdala', 'Left-Accumbens-area',\n",
       "       'Left-VentralDC', 'Left-choroid-plexus',\n",
       "       'Right-Cerebral-White-Matter', 'Right-Cerebellum-White-Matter',\n",
       "       'Right-Cerebellum-Cortex', 'Right-Putamen', 'Right-Hippocampus',\n",
       "       'Right-Amygdala', 'Right-Accumbens-area', 'Right-VentralDC',\n",
       "       'Right-vessel', 'Right-choroid-plexus', 'ctx-lh-fusiform',\n",
       "       'ctx-lh-inferiortemporal', 'ctx-lh-lateraloccipital',\n",
       "       'ctx-lh-lateralorbitofrontal', 'ctx-lh-lingual',\n",
       "       'ctx-lh-medialorbitofrontal', 'ctx-lh-middletemporal',\n",
       "       'ctx-lh-parahippocampal', 'ctx-lh-parstriangularis',\n",
       "       'ctx-lh-rostralanteriorcingulate', 'ctx-lh-rostralmiddlefrontal',\n",
       "       'ctx-lh-superiortemporal', 'ctx-lh-insula', 'ctx-rh-fusiform',\n",
       "       'ctx-rh-inferiortemporal', 'ctx-rh-lateraloccipital',\n",
       "       'ctx-rh-lateralorbitofrontal', 'ctx-rh-lingual',\n",
       "       'ctx-rh-medialorbitofrontal', 'ctx-rh-middletemporal',\n",
       "       'ctx-rh-parahippocampal', 'ctx-rh-parsorbitalis',\n",
       "       'ctx-rh-parstriangularis', 'ctx-rh-rostralanteriorcingulate',\n",
       "       'ctx-rh-rostralmiddlefrontal', 'ctx-rh-superiortemporal',\n",
       "       'ctx-rh-insula'], dtype='<U31')"
      ]
     },
     "execution_count": 26,
     "metadata": {},
     "output_type": "execute_result"
    }
   ],
   "source": [
    "label_converter.compressed_to_name(np.unique(seg_arr[161,:,:]))"
   ]
  },
  {
   "cell_type": "code",
   "execution_count": 9,
   "metadata": {},
   "outputs": [],
   "source": [
    "mapo = {}\n",
    "for i in range(103):\n",
    "    xd = str(label_converter.compressed_to_name(i))\n",
    "    mapo[xd] = i"
   ]
  },
  {
   "cell_type": "code",
   "execution_count": 48,
   "metadata": {},
   "outputs": [
    {
     "data": {
      "image/png": "[encoded data removed]",
      "text/plain": [
       "<Figure size 640x480 with 3 Axes>"
      ]
     },
     "metadata": {},
     "output_type": "display_data"
    }
   ],
   "source": [
    "img = nib.load(mri_raw_file_path).get_fdata().astype(np.uint8)[:, 161, :]\n",
    "img = np.repeat(img[:,:,None], 3, axis=-1)\n",
    "img = img / 255.\n",
    "\n",
    "fig, axs = plt.subplots(1, 3, squeeze=False)\n",
    "ptr = 0\n",
    "\n",
    "for grp in groups:\n",
    "    r = ptr // 3\n",
    "    c = ptr % 3\n",
    "    this_mask = seg_arr[161,:,:] == -1 # initially all 0s\n",
    "    for gg in grp:\n",
    "        this_mask = np.maximum(this_mask, seg_arr[161,:,:] == mapo[gg])\n",
    "\n",
    "    #this_mask = 1 - this_mask\n",
    "    this_mask_img = np.repeat(this_mask[:,:,None], 3, axis=-1)\n",
    "    blended = .4 * img + .6 * this_mask_img\n",
    "\n",
    "\n",
    "    axs[r,c].imshow(blended, cmap='Greys')\n",
    "    axs[r,c].get_xaxis().set_ticks([])\n",
    "    axs[r,c].get_yaxis().set_ticks([])\n",
    "    ptr+=1\n",
    "fig.subplots_adjust(wspace=0, hspace=0)\n",
    "fig.savefig('/gpfs/home/kn2347/figs/segmentation_grouped_mask_plot.png', dpi=600)"
   ]
  },
  {
   "cell_type": "code",
   "execution_count": 31,
   "metadata": {},
   "outputs": [
    {
     "data": {
      "image/png": "[encoded data removed]",
      "text/plain": [
       "<Figure size 640x480 with 49 Axes>"
      ]
     },
     "metadata": {},
     "output_type": "display_data"
    }
   ],
   "source": [
    "\n",
    "img = nib.load('/gpfs/data/cbi/hcp/hcp_seg/data_orig/151425/mri/T1.mgz').get_fdata().astype(np.uint8)\n",
    "\n",
    "\n",
    "# for slice 111\n",
    "fig, axs = plt.subplots(7, 7)\n",
    "ptr=0\n",
    "for unq_val in np.unique(seg_arr[161,:,:]):\n",
    "    if unq_val == 0:\n",
    "        continue\n",
    "    r = ptr // 7\n",
    "    c = ptr % 7\n",
    "    this_mask = seg_arr[161,:,:] == unq_val\n",
    "    #this_mask = this_mask[50:220, 50:220]\n",
    "    axs[r,c].imshow(this_mask, cmap='Greys')\n",
    "\n",
    "    axs[r,c].get_xaxis().set_ticks([])\n",
    "    axs[r,c].get_yaxis().set_ticks([])\n",
    "    #axs[r,c].axis('off')\n",
    "    ptr+=1\n",
    "fig.subplots_adjust(wspace=0, hspace=0)\n",
    "#fig.tight_layout()"
   ]
  }
 ],
 "metadata": {
  "kernelspec": {
   "display_name": "Python 3",
   "language": "python",
   "name": "python3"
  },
  "language_info": {
   "codemirror_mode": {
    "name": "ipython",
    "version": 3
   },
   "file_extension": ".py",
   "mimetype": "text/x-python",
   "name": "python",
   "nbconvert_exporter": "python",
   "pygments_lexer": "ipython3",
   "version": "3.10.12"
  },
  "orig_nbformat": 4
 },
 "nbformat": 4,
 "nbformat_minor": 2
}
