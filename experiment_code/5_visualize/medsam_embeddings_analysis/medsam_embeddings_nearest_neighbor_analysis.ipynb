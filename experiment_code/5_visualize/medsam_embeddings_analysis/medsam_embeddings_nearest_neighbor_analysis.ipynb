{
 "cells": [
  {
   "cell_type": "markdown",
   "metadata": {},
   "source": [
    "In this analysis, I wanted to look at what the MedSAM embeddings were capturing. I calculated embeddings from the pre-trained MedSAM model before any finetuning\n",
    "for many MRI's, and then for some slices from these MRI's, I looked at their nearest neighbors in embedding space and displayed them"
   ]
  },
  {
   "cell_type": "code",
   "execution_count": 1,
   "metadata": {},
   "outputs": [],
   "source": [
    "import numpy as np\n",
    "import matplotlib.pyplot as plt\n",
    "import os\n",
    "join = os.path.join\n",
    "from skimage import io\n",
    "from tqdm import tqdm\n",
    "import torch\n",
    "from torch.utils.data import Dataset, DataLoader\n",
    "import monai\n",
    "from monai.networks import one_hot\n",
    "from segment_anything import SamPredictor, sam_model_registry\n",
    "from segment_anything.utils.transforms import ResizeLongestSide\n",
    "from utils.SurfaceDice import compute_dice_coefficient\n",
    "from skimage import io, transform\n",
    "from glob import glob\n",
    "from sklearn.model_selection import train_test_split\n",
    "import pandas as pd\n",
    "import nibabel as nib\n",
    "import pickle\n",
    "from torch.utils.data import RandomSampler\n",
    "import scipy\n",
    "# set seeds\n",
    "torch.manual_seed(2023)\n",
    "np.random.seed(2023)"
   ]
  },
  {
   "cell_type": "code",
   "execution_count": 2,
   "metadata": {},
   "outputs": [],
   "source": [
    "def get_image_slice_from_row(row):\n",
    "    img = nib.load(row['image_path']).get_fdata()[:,row['slice'],:].astype(np.uint8)\n",
    "    img = np.repeat(img[:,:,None], 3, axis=-1)\n",
    "    return img\n",
    "def get_image_embedding_from_row(row):\n",
    "    embedding = np.load(row['image_embedding_slice_path'])\n",
    "    return embedding\n",
    "def plot_from_row(row):\n",
    "    img_np = get_image_slice_from_row(row)\n",
    "    plt.imshow(img_np)\n"
   ]
  },
  {
   "cell_type": "code",
   "execution_count": 3,
   "metadata": {},
   "outputs": [
    {
     "name": "stdout",
     "output_type": "stream",
     "text": [
      "(210357, 5)\n"
     ]
    }
   ],
   "source": [
    "df = pd.read_csv('/gpfs/data/luilab/karthik/pediatric_seg_proj/path_df.csv')\n",
    "df = df[(df['slice'] > 30) & (df['slice'] < 220)] # remove padded portions\n",
    "df = df.reset_index(drop=True)\n",
    "print(df.shape)"
   ]
  },
  {
   "cell_type": "code",
   "execution_count": 4,
   "metadata": {},
   "outputs": [],
   "source": [
    "def get_nearest_slices_in_dataframe(input_embedding, df_to_search, top_k = 1, num_limit = 100):\n",
    "\n",
    "    input_embedding = input_embedding.flatten()\n",
    "    num_limit = min(num_limit, df_to_search.shape[0])\n",
    "\n",
    "    # randomly permute the rows of df_to_search to disrupt the slice-by-slice analysis\n",
    "    df_to_search = df_to_search.sample(frac=1).reset_index(drop=True)\n",
    "    list_content = []\n",
    "    for idx in tqdm(range(num_limit)):\n",
    "        r = df_to_search.iloc[idx, :]\n",
    "        this_embedding = get_image_embedding_from_row(r).flatten()\n",
    "\n",
    "\n",
    "        distance = scipy.spatial.distance.cosine(input_embedding, this_embedding)\n",
    "        list_content.append((distance, r))\n",
    "    \n",
    "    list_content.sort(key=lambda x: x[0])\n",
    "    srted_list = list_content\n",
    "    srted_list = srted_list[:top_k]\n",
    "    srted_rows = [x[1] for x in srted_list] # get only the rows, not the distance\n",
    "    return srted_rows\n"
   ]
  },
  {
   "cell_type": "code",
   "execution_count": null,
   "metadata": {},
   "outputs": [],
   "source": [
    "while True:\n",
    "    idx = np.random.randint(df.shape[0])\n",
    "    src_row = df.iloc[idx, :]\n",
    "    src_embed = get_image_embedding_from_row(src_row)\n",
    "\n",
    "    closest_rows = get_nearest_slices_in_dataframe(src_embed, df, top_k = 5, num_limit = 5000)\n",
    "\n",
    "    src_img = get_image_slice_from_row(df.loc[idx, :])\n",
    "    closest_imgs = [get_image_slice_from_row(x) for x in closest_rows] # list of (256,256,3) np arrays\n",
    "    # these are both (256, 256, 3)\n",
    "\n",
    "    # now create the figure\n",
    "    #fig, axs = plt.subplots(1, len(closest_imgs)+1)\n",
    "    fig, axs = plt.subplots(2, 3)\n",
    "    axs[0,0].imshow(src_img)\n",
    "    axs[0,0].set_title(f\"slice:{src_row['slice']}, id:{src_row['id']}\")\n",
    "\n",
    "    for i in range(len(closest_imgs)):\n",
    "        rr = (i+1) // 3\n",
    "        cc = (i+1) % 3\n",
    "        axs[rr,cc].imshow(closest_imgs[i])\n",
    "        axs[rr,cc].set_title(f\"slice:{closest_rows[i]['slice']}, id:{closest_rows[i]['id']}\")\n",
    "\n",
    "    rt = '/gpfs/home/kn2347/results/medsam_embeddings_nearest_neighbor_plots'\n",
    "    ext = f\"{src_row['id']}_{src_row['slice']}_nearest_neighbors_img_embedding.png\"\n",
    "    joined = os.path.join(rt, ext)\n",
    "    fig.savefig(joined, dpi = 300)\n"
   ]
  },
  {
   "cell_type": "code",
   "execution_count": null,
   "metadata": {},
   "outputs": [],
   "source": [
    "# look at slice windows around our source image; using only those, which are the nearest neighbors?"
   ]
  },
  {
   "cell_type": "code",
   "execution_count": null,
   "metadata": {},
   "outputs": [],
   "source": [
    "# window of +/-10\n",
    "while True:\n",
    "    idx = np.random.randint(df.shape[0])\n",
    "    src_row = df.iloc[idx, :]\n",
    "    src_embed = get_image_embedding_from_row(src_row)\n",
    "    src_slice = src_row['slice']\n",
    "    if src_slice <= 30 or src_slice >= 220:\n",
    "        continue\n",
    "    \n",
    "    df_slice_window = df[abs(df['slice'] - src_slice) <= 10].reset_index(drop=True)\n",
    "    closest_rows = get_nearest_slices_in_dataframe(src_embed, df_slice_window, top_k = 5, num_limit = 50000)\n",
    "    \n",
    "    src_img = get_image_slice_from_row(df.loc[idx, :])\n",
    "    closest_imgs = [get_image_slice_from_row(x) for x in closest_rows] # list of (256,256,3) np arrays\n",
    "    # these are both (256, 256, 3)\n",
    "\n",
    "    # now create the figure\n",
    "    #fig, axs = plt.subplots(1, len(closest_imgs)+1)\n",
    "    fig, axs = plt.subplots(2, 3)\n",
    "    axs[0,0].imshow(src_img)\n",
    "    axs[0,0].set_title(f\"slice:{src_row['slice']}, id:{src_row['id']}\")\n",
    "\n",
    "    for i in range(len(closest_imgs)):\n",
    "        rr = (i+1) // 3\n",
    "        cc = (i+1) % 3\n",
    "        axs[rr,cc].imshow(closest_imgs[i])\n",
    "        axs[rr,cc].set_title(f\"slice:{closest_rows[i]['slice']}, id:{closest_rows[i]['id']}\")\n",
    "\n",
    "    rt = '/gpfs/home/kn2347/results/medsam_embeddings_nearest_neighbor_plots/results_slicewindow10_deep'\n",
    "    ext = f\"{src_row['id']}_{src_row['slice']}_nearest_neighbors_img_embedding.png\"\n",
    "    joined = os.path.join(rt, ext)\n",
    "    fig.savefig(joined, dpi = 300)\n",
    "    plt.close(fig)\n"
   ]
  }
 ],
 "metadata": {
  "kernelspec": {
   "display_name": "Python 3",
   "language": "python",
   "name": "python3"
  },
  "language_info": {
   "codemirror_mode": {
    "name": "ipython",
    "version": 3
   },
   "file_extension": ".py",
   "mimetype": "text/x-python",
   "name": "python",
   "nbconvert_exporter": "python",
   "pygments_lexer": "ipython3",
   "version": "3.10.12"
  },
  "orig_nbformat": 4
 },
 "nbformat": 4,
 "nbformat_minor": 2
}
