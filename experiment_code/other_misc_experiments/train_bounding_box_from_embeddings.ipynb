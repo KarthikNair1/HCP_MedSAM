{
 "cells": [
  {
   "cell_type": "markdown",
   "metadata": {},
   "source": [
    "In this notebook, I tried training a model to predict a bounding box from an MRI slice rather than just instantly predicting the pixelwise segmentation. \n",
    "It didn't seem too great and was definitely beat by the yolov7 model I trained."
   ]
  },
  {
   "cell_type": "code",
   "execution_count": 1,
   "metadata": {},
   "outputs": [],
   "source": [
    "import numpy as np\n",
    "import matplotlib.pyplot as plt\n",
    "import os\n",
    "join = os.path.join\n",
    "from tqdm import tqdm\n",
    "from skimage import transform\n",
    "import torch\n",
    "import torch.nn as nn\n",
    "from torch.utils.data import Dataset, DataLoader\n",
    "import torch.multiprocessing as mp\n",
    "import monai\n",
    "import sys\n",
    "sys.path.append('./modified_medsam_repo')\n",
    "from segment_anything import sam_model_registry\n",
    "import torch.nn.functional as F\n",
    "import argparse\n",
    "import random\n",
    "from datetime import datetime\n",
    "import shutil\n",
    "import glob\n",
    "import pandas as pd\n",
    "import nibabel as nib\n",
    "import pickle\n",
    "import time\n",
    "\n",
    "from MedSAM_HCP.dataset import MRIDataset, load_datasets\n",
    "from MedSAM_HCP.MedSAM import MedSAM, medsam_inference\n",
    "from MedSAM_HCP.build_sam import build_sam_vit_b_multiclass\n",
    "from MedSAM_HCP.utils_hcp import *\n",
    "from MedSAM_HCP.loss_funcs_hcp import *"
   ]
  },
  {
   "cell_type": "code",
   "execution_count": 2,
   "metadata": {},
   "outputs": [],
   "source": [
    "def proc_arr(arr):\n",
    "    # arr has shape (classes, *)\n",
    "    ax_starts = np.argmax(arr, axis=1) # shape (classes)\n",
    "    ax_ends = arr.shape[1] - 1 - np.argmax(arr[:,::-1], axis=1) # shape (classes)\n",
    "\n",
    "    maxs = np.max(arr, axis = 1) # shape (classes)\n",
    "    ax_starts = np.where(maxs == 1, ax_starts, np.nan)\n",
    "    ax_ends = np.where(maxs == 1, ax_ends, np.nan)\n",
    "\n",
    "    return ax_starts, ax_ends\n",
    "\n",
    "\n",
    "def get_bounding_box(seg_tens):\n",
    "    # seg_tens has shape (256,256,256)\n",
    "    # return shape (4, classes) - rmin, rmax, cmin, cmax\n",
    "    \n",
    "    cols = np.any(seg_tens, axis=1) # (classes, W)\n",
    "    rows = np.any(seg_tens, axis=2) # (classes, H) of True/False, now find min row and max row with True\n",
    "    \n",
    "    rmin, rmax = proc_arr(rows)\n",
    "    cmin, cmax = proc_arr(cols)\n",
    "    \n",
    "    return np.array((rmin, rmax, cmin, cmax))\n",
    "\n",
    "def conv_format(seg_tens):\n",
    "\n",
    "    # return shape (num_classes, 4) - x, y, width, height\n",
    "    if type(seg_tens) == torch.Tensor:\n",
    "        seg_tens = seg_tens.cpu().detach().numpy()\n",
    "    res = get_bounding_box(seg_tens) # 4 x num_classes - rmin, rmax, cmin, cmax\n",
    "\n",
    "    return res # 4 x num_classes"
   ]
  },
  {
   "cell_type": "code",
   "execution_count": 3,
   "metadata": {},
   "outputs": [],
   "source": [
    "class MRIDataset(Dataset): \n",
    "    def __init__(self, data_frame, label_converter=None, NUM_CLASSES = 256):\n",
    "        self.data_frame = data_frame\n",
    "        self.label_converter = label_converter\n",
    "        self.NUM_CLASSES = NUM_CLASSES\n",
    "\n",
    "        if self.label_converter is None:\n",
    "            print('Initializing with no label converter, are you sure the labels are correct?')\n",
    "\n",
    "        #print(f'number of images: {data_frame.shape[0]}')\n",
    "    \n",
    "    def __len__(self):\n",
    "        return self.data_frame.shape[0]\n",
    "\n",
    "    def __getitem__(self, index):\n",
    "        # load image embedding as npy\n",
    "        img_embed_path = self.data_frame.loc[index,'image_embedding_slice_path']\n",
    "        img_embed_npy = np.load(img_embed_path) # (256, 64, 64)\n",
    "        img_slice_name = '_slice'.join(img_embed_path.split('/')[-2:])\n",
    "\n",
    "        # load segmentation mask as npy\n",
    "        seg_path = self.data_frame.loc[index,'segmentation_slice_path']\n",
    "        seg_npy = np.load(seg_path) # (256, 256)\n",
    "\n",
    "        if self.label_converter is not None:\n",
    "            #print(f'pre label max: {seg_npy.max()}')\n",
    "            seg_npy = self.label_converter.hcp_to_compressed(seg_npy)\n",
    "            #print(f'post label max: {seg_npy.max()}')\n",
    "            \n",
    "        seg_tens = torch.LongTensor(seg_npy[None, :, :]) # B, H, W\n",
    "        seg_tens = torch.nn.functional.one_hot(seg_tens, num_classes=self.NUM_CLASSES) # B, H, W, C\n",
    "        \n",
    "        seg_tens = torch.permute(seg_tens, (0, 3, 1, 2)) # B, C, H, W\n",
    "        seg_tens = seg_tens[0] # exclude batch dimension -> C, H, W\n",
    "\n",
    "        bboxes = conv_format(seg_tens).T # (C,4)\n",
    "        is_present = np.invert(np.isnan(bboxes[:, 0:1])) # (C)\n",
    "        bboxes[np.invert(is_present.flatten()), :] = 0\n",
    "\n",
    "        outputs = np.hstack((bboxes, is_present))\n",
    "\n",
    "\n",
    "        return torch.tensor(img_embed_npy).float(), torch.tensor(outputs).int(), img_slice_name\n",
    "    \n",
    "    def load_image(self, index):\n",
    "        img_path = self.data_frame.loc[index, 'image_path']\n",
    "        slice_num = self.data_frame.loc[index, 'slice']\n",
    "        img = nib.load(img_path).get_fdata()[:,slice_num,:].astype(np.uint8)\n",
    "        return img # returns as (256, 256)"
   ]
  },
  {
   "cell_type": "code",
   "execution_count": 4,
   "metadata": {},
   "outputs": [],
   "source": [
    "def load_datasets(path_df_path, train_test_splits_path, sample_n_slices = None, label_converter=None, NUM_CLASSES=256):\n",
    "    # load dataframe of slice paths\n",
    "    path_df = pd.read_csv(path_df_path)\n",
    "\n",
    "    # load train val test ids\n",
    "    dicto = pickle.load(open(train_test_splits_path, 'rb'))\n",
    "    train_ids = dicto['train']\n",
    "    val_ids = dicto['val']\n",
    "    test_ids = dicto['test']\n",
    "\n",
    "    train_df = path_df[path_df['id'].isin(train_ids)].reset_index(drop=True)\n",
    "    val_df = path_df[path_df['id'].isin(val_ids)].reset_index(drop=True)\n",
    "    test_df = path_df[path_df['id'].isin(test_ids)].reset_index(drop=True)\n",
    "\n",
    "    if sample_n_slices is not None:\n",
    "        train_df = train_df.sample(n=sample_n_slices, replace=False, random_state=2023).reset_index(drop=True)\n",
    "        val_df = val_df.sample(n=sample_n_slices, replace=False, random_state=2023).reset_index(drop=True)\n",
    "        test_df = test_df.sample(n=sample_n_slices, replace=False, random_state=2023).reset_index(drop=True)\n",
    "    train_dataset = MRIDataset(train_df, label_converter = label_converter, NUM_CLASSES=NUM_CLASSES)\n",
    "    val_dataset = MRIDataset(val_df, label_converter = label_converter, NUM_CLASSES=NUM_CLASSES)\n",
    "    test_dataset = MRIDataset(test_df, label_converter = label_converter, NUM_CLASSES=NUM_CLASSES)\n",
    "\n",
    "    return train_dataset, val_dataset, test_dataset"
   ]
  },
  {
   "cell_type": "code",
   "execution_count": 35,
   "metadata": {},
   "outputs": [],
   "source": [
    "class BBoxPredictor(nn.Module):\n",
    "    def __init__(self, num_class):\n",
    "        super().__init__()\n",
    "        self.flatten = nn.Flatten()\n",
    "        self.lin1 = nn.Linear(256*64*64, 5 * num_class)\n",
    "        self.relu = nn.ReLU()\n",
    "        self.sigmoid = nn.Sigmoid()\n",
    "        self.num_class = num_class\n",
    "    def forward(self, image_embedding):\n",
    "        \n",
    "        # image_embedding: shape (B, 256, H, W)\n",
    "        # output should be (B, num_class, 5)\n",
    "        B, F, H, W = image_embedding.shape\n",
    "        flattened = self.flatten(image_embedding)\n",
    "        z = self.lin1(flattened) # (B, 5*num_class)\n",
    "        z = z.view(B, self.num_class, 5)\n",
    "\n",
    "        z[:, :, :4] = self.relu(z[:, :, :4])\n",
    "        #z[:, :, 4] = self.sigmoid(z[:, :, 4])\n",
    "\n",
    "        return z\n",
    "\n",
    "def loss_fn(pred, gt):\n",
    "    # pred has shape (B, C, 5)\n",
    "    # gt has shape (B, C, 5)\n",
    "    \n",
    "    # loss term for pred probability\n",
    "    # and if ground truth is 1, also loss term for bounding box values\n",
    "\n",
    "    binary_loss = nn.BCEWithLogitsLoss(reduction = 'mean')\n",
    "    regression_loss = nn.MSELoss(reduction='none')\n",
    "    \n",
    "    binary_part = binary_loss(pred[:, :, 4], gt[:, :, 4].float())\n",
    "    regression_part = regression_loss(pred[:, :, :4], gt[:, :, :4].float()) / 4096\n",
    "    regression_part = (regression_part * gt[:, :, 4:5]).sum(dim=2).mean() # shape: (B, C, 4)\n",
    "    loss = binary_part + regression_part\n",
    "\n",
    "    print(f'binary: {binary_part}')\n",
    "    print(f'regression: {regression_part}')\n",
    "    return loss\n",
    "\n"
   ]
  },
  {
   "cell_type": "code",
   "execution_count": 6,
   "metadata": {},
   "outputs": [
    {
     "name": "stderr",
     "output_type": "stream",
     "text": [
      "/gpfs/home/kn2347/.conda/envs/medsam/lib/python3.10/site-packages/torch/utils/data/dataloader.py:560: UserWarning: This DataLoader will create 8 worker processes in total. Our suggested max number of worker in current system is 1, which is smaller than what this DataLoader is going to create. Please be aware that excessive worker creation might get DataLoader running slow or even freeze, lower the worker number to avoid potential slowness/freeze if necessary.\n",
      "  warnings.warn(_create_warning_msg(\n"
     ]
    }
   ],
   "source": [
    "df_hcp = pd.read_csv('/gpfs/home/kn2347/MedSAM/hcp_mapping_processed.csv')\n",
    "df_desired = pd.read_csv('/gpfs/home/kn2347/MedSAM/darts_name_class_mapping_processed.csv')\n",
    "NUM_CLASSES = len(df_desired)\n",
    "label_converter = LabelConverter(df_hcp, df_desired)\n",
    "train_dataset, val_dataset, test_dataset = load_datasets('/gpfs/data/luilab/karthik/pediatric_seg_proj/path_df_constant_bbox.csv', '/gpfs/data/luilab/karthik/pediatric_seg_proj/train_val_test_split.pickle', sample_n_slices = None, label_converter=label_converter, NUM_CLASSES=NUM_CLASSES)\n",
    "\n",
    "\n",
    "train_dataloader = DataLoader(\n",
    "    train_dataset,\n",
    "    batch_size = 32,\n",
    "    shuffle = True,\n",
    "    num_workers = 8,\n",
    "    pin_memory = True,\n",
    ")\n",
    "val_dataloader = DataLoader(\n",
    "    val_dataset,\n",
    "    batch_size = 32,\n",
    "    shuffle = False,\n",
    "    num_workers = 1,\n",
    "    pin_memory = True,\n",
    ")"
   ]
  },
  {
   "cell_type": "code",
   "execution_count": 36,
   "metadata": {},
   "outputs": [
    {
     "name": "stderr",
     "output_type": "stream",
     "text": [
      "  0%|          | 1/7128 [00:14<27:53:56, 14.09s/it]"
     ]
    },
    {
     "name": "stdout",
     "output_type": "stream",
     "text": [
      "binary: 0.6941751837730408\n",
      "regression: 0.621527910232544\n",
      "binary: 0.9802172183990479\n",
      "regression: 0.7128661274909973\n"
     ]
    },
    {
     "name": "stderr",
     "output_type": "stream",
     "text": [
      "  0%|          | 5/7128 [00:14<3:39:25,  1.85s/it] "
     ]
    },
    {
     "name": "stdout",
     "output_type": "stream",
     "text": [
      "binary: 0.7561362385749817\n",
      "regression: 0.5468178987503052\n",
      "binary: 0.6672207713127136\n",
      "regression: 0.508444607257843\n",
      "binary: 0.43888136744499207\n",
      "regression: 0.4834926724433899\n"
     ]
    },
    {
     "name": "stderr",
     "output_type": "stream",
     "text": [
      "  0%|          | 7/7128 [00:14<2:13:24,  1.12s/it]"
     ]
    },
    {
     "name": "stdout",
     "output_type": "stream",
     "text": [
      "binary: 0.46754759550094604\n",
      "regression: 0.503542959690094\n",
      "binary: 0.385847806930542\n",
      "regression: 0.5549535751342773\n",
      "binary: 0.45361337065696716\n",
      "regression: 0.6060341596603394\n"
     ]
    },
    {
     "name": "stderr",
     "output_type": "stream",
     "text": [
      "  0%|          | 11/7128 [00:21<2:37:41,  1.33s/it]"
     ]
    },
    {
     "name": "stdout",
     "output_type": "stream",
     "text": [
      "binary: 0.496155321598053\n",
      "regression: 0.7014434933662415\n",
      "binary: 0.27848020195961\n",
      "regression: 0.47448456287384033\n",
      "binary: 0.18231528997421265\n",
      "regression: 0.33155134320259094\n",
      "binary: 0.29530370235443115\n",
      "regression: 0.4112326502799988\n"
     ]
    },
    {
     "name": "stderr",
     "output_type": "stream",
     "text": [
      "  0%|          | 13/7128 [00:22<1:52:02,  1.06it/s]"
     ]
    },
    {
     "name": "stdout",
     "output_type": "stream",
     "text": [
      "binary: 0.2883528470993042\n",
      "regression: 0.4795806407928467\n",
      "binary: 0.18178033828735352\n",
      "regression: 0.43126344680786133\n",
      "binary: 0.17243225872516632\n",
      "regression: 0.43815043568611145\n"
     ]
    },
    {
     "name": "stderr",
     "output_type": "stream",
     "text": [
      "  0%|          | 16/7128 [00:22<1:09:34,  1.70it/s]"
     ]
    },
    {
     "name": "stdout",
     "output_type": "stream",
     "text": [
      "binary: 0.3029942810535431\n",
      "regression: 0.6369832158088684\n"
     ]
    },
    {
     "name": "stderr",
     "output_type": "stream",
     "text": [
      "  0%|          | 17/7128 [00:31<4:38:50,  2.35s/it]"
     ]
    },
    {
     "name": "stdout",
     "output_type": "stream",
     "text": [
      "binary: 0.07659322023391724\n",
      "regression: 0.3008856177330017\n",
      "binary: 0.15270580351352692\n",
      "regression: 0.4072064459323883\n"
     ]
    },
    {
     "name": "stderr",
     "output_type": "stream",
     "text": [
      "  0%|          | 20/7128 [00:32<2:27:40,  1.25s/it]"
     ]
    },
    {
     "name": "stdout",
     "output_type": "stream",
     "text": [
      "binary: 0.1810721457004547\n",
      "regression: 0.45915526151657104\n",
      "binary: 0.13431428372859955\n",
      "regression: 0.41142013669013977\n"
     ]
    },
    {
     "name": "stderr",
     "output_type": "stream",
     "text": [
      "  0%|          | 22/7128 [00:32<1:35:39,  1.24it/s]"
     ]
    },
    {
     "name": "stdout",
     "output_type": "stream",
     "text": [
      "binary: 0.17300595343112946\n",
      "regression: 0.5674645304679871\n",
      "binary: 0.14199522137641907\n",
      "regression: 0.41063976287841797\n"
     ]
    },
    {
     "name": "stderr",
     "output_type": "stream",
     "text": [
      "  0%|          | 23/7128 [00:32<1:21:41,  1.45it/s]"
     ]
    },
    {
     "name": "stdout",
     "output_type": "stream",
     "text": [
      "binary: 0.16019856929779053\n",
      "regression: 0.4269677400588989\n",
      "binary: 0.21470357477664948\n",
      "regression: 0.5601488351821899\n"
     ]
    },
    {
     "name": "stderr",
     "output_type": "stream",
     "text": [
      "  0%|          | 25/7128 [00:40<3:54:18,  1.98s/it]"
     ]
    },
    {
     "name": "stdout",
     "output_type": "stream",
     "text": [
      "binary: 0.11776099354028702\n",
      "regression: 0.443020761013031\n",
      "binary: 0.10199024528265\n",
      "regression: 0.38881614804267883\n"
     ]
    },
    {
     "name": "stderr",
     "output_type": "stream",
     "text": [
      "  0%|          | 28/7128 [00:41<2:12:53,  1.12s/it]"
     ]
    },
    {
     "name": "stdout",
     "output_type": "stream",
     "text": [
      "binary: 0.1478203386068344\n",
      "regression: 0.5344915986061096\n",
      "binary: 0.08507804572582245\n",
      "regression: 0.39774927496910095\n"
     ]
    },
    {
     "name": "stderr",
     "output_type": "stream",
     "text": [
      "  0%|          | 30/7128 [00:41<1:27:42,  1.35it/s]"
     ]
    },
    {
     "name": "stdout",
     "output_type": "stream",
     "text": [
      "binary: 0.10946567356586456\n",
      "regression: 0.4203029274940491\n",
      "binary: 0.09050769358873367\n",
      "regression: 0.3952973186969757\n",
      "binary: 0.0570826381444931\n",
      "regression: 0.26929786801338196\n"
     ]
    },
    {
     "name": "stderr",
     "output_type": "stream",
     "text": [
      "  0%|          | 32/7128 [00:41<1:01:39,  1.92it/s]"
     ]
    },
    {
     "name": "stdout",
     "output_type": "stream",
     "text": [
      "binary: 0.05096255615353584\n",
      "regression: 0.24188782274723053\n"
     ]
    },
    {
     "name": "stderr",
     "output_type": "stream",
     "text": [
      "  0%|          | 33/7128 [00:50<4:21:14,  2.21s/it]"
     ]
    },
    {
     "name": "stdout",
     "output_type": "stream",
     "text": [
      "binary: 0.09342548996210098\n",
      "regression: 0.4071555435657501\n",
      "binary: 0.10713464766740799\n",
      "regression: 0.47459688782691956\n"
     ]
    },
    {
     "name": "stderr",
     "output_type": "stream",
     "text": [
      "  1%|          | 36/7128 [00:51<2:25:19,  1.23s/it]"
     ]
    },
    {
     "name": "stdout",
     "output_type": "stream",
     "text": [
      "binary: 0.09456004202365875\n",
      "regression: 0.41910693049430847\n",
      "binary: 0.06448682397603989\n",
      "regression: 0.3140348494052887\n"
     ]
    },
    {
     "name": "stderr",
     "output_type": "stream",
     "text": [
      "  1%|          | 39/7128 [00:51<1:12:28,  1.63it/s]"
     ]
    },
    {
     "name": "stdout",
     "output_type": "stream",
     "text": [
      "binary: 0.07018187642097473\n",
      "regression: 0.37947726249694824\n",
      "binary: 0.07645755261182785\n",
      "regression: 0.3619436025619507\n",
      "binary: 0.06995780020952225\n",
      "regression: 0.346525102853775\n",
      "binary: 0.10862375795841217\n",
      "regression: 0.46129104495048523\n"
     ]
    },
    {
     "name": "stderr",
     "output_type": "stream",
     "text": [
      "  1%|          | 41/7128 [00:59<3:39:07,  1.86s/it]"
     ]
    },
    {
     "name": "stdout",
     "output_type": "stream",
     "text": [
      "binary: 0.05872196704149246\n",
      "regression: 0.34765779972076416\n"
     ]
    },
    {
     "name": "stderr",
     "output_type": "stream",
     "text": [
      "  1%|          | 42/7128 [00:59<2:59:01,  1.52s/it]"
     ]
    },
    {
     "name": "stdout",
     "output_type": "stream",
     "text": [
      "binary: 0.08226670324802399\n",
      "regression: 0.3973032534122467\n"
     ]
    },
    {
     "name": "stderr",
     "output_type": "stream",
     "text": [
      "  1%|          | 44/7128 [01:00<2:06:02,  1.07s/it]"
     ]
    },
    {
     "name": "stdout",
     "output_type": "stream",
     "text": [
      "binary: 0.11173959821462631\n",
      "regression: 0.48951366543769836\n",
      "binary: 0.03663872927427292\n",
      "regression: 0.2348468005657196\n"
     ]
    },
    {
     "name": "stderr",
     "output_type": "stream",
     "text": [
      "  1%|          | 46/7128 [01:01<1:17:30,  1.52it/s]"
     ]
    },
    {
     "name": "stdout",
     "output_type": "stream",
     "text": [
      "binary: 0.12278172373771667\n",
      "regression: 0.5836235880851746\n",
      "binary: 0.06188133358955383\n",
      "regression: 0.3362615704536438\n",
      "binary: 0.09454479068517685\n",
      "regression: 0.41176438331604004\n"
     ]
    },
    {
     "name": "stderr",
     "output_type": "stream",
     "text": [
      "  1%|          | 48/7128 [01:01<53:45,  2.20it/s]  "
     ]
    },
    {
     "name": "stdout",
     "output_type": "stream",
     "text": [
      "binary: 0.0636005699634552\n",
      "regression: 0.3195037543773651\n"
     ]
    },
    {
     "name": "stderr",
     "output_type": "stream",
     "text": [
      "  1%|          | 49/7128 [01:08<3:49:39,  1.95s/it]"
     ]
    },
    {
     "name": "stdout",
     "output_type": "stream",
     "text": [
      "binary: 0.056583672761917114\n",
      "regression: 0.30979299545288086\n"
     ]
    },
    {
     "name": "stderr",
     "output_type": "stream",
     "text": [
      "  1%|          | 50/7128 [01:09<3:10:37,  1.62s/it]"
     ]
    },
    {
     "name": "stdout",
     "output_type": "stream",
     "text": [
      "binary: 0.08473537117242813\n",
      "regression: 0.4164082705974579\n"
     ]
    },
    {
     "name": "stderr",
     "output_type": "stream",
     "text": [
      "  1%|          | 52/7128 [01:10<2:13:33,  1.13s/it]"
     ]
    },
    {
     "name": "stdout",
     "output_type": "stream",
     "text": [
      "binary: 0.08496454358100891\n",
      "regression: 0.3392094373703003\n",
      "binary: 0.09465090185403824\n",
      "regression: 0.380916029214859\n"
     ]
    },
    {
     "name": "stderr",
     "output_type": "stream",
     "text": [
      "  1%|          | 53/7128 [01:10<1:45:52,  1.11it/s]"
     ]
    },
    {
     "name": "stdout",
     "output_type": "stream",
     "text": [
      "binary: 0.08307964354753494\n",
      "regression: 0.39950117468833923\n",
      "binary: 0.09590183943510056\n",
      "regression: 0.49814099073410034\n",
      "binary: 0.034058939665555954\n",
      "regression: 0.2429949939250946\n"
     ]
    },
    {
     "name": "stderr",
     "output_type": "stream",
     "text": [
      "  1%|          | 55/7128 [01:11<1:03:49,  1.85it/s]"
     ]
    },
    {
     "name": "stdout",
     "output_type": "stream",
     "text": [
      "binary: 0.07009625434875488\n",
      "regression: 0.26651498675346375\n"
     ]
    },
    {
     "name": "stderr",
     "output_type": "stream",
     "text": [
      "  1%|          | 58/7128 [01:18<2:51:39,  1.46s/it]"
     ]
    },
    {
     "name": "stdout",
     "output_type": "stream",
     "text": [
      "binary: 0.12059074640274048\n",
      "regression: 0.43515557050704956\n",
      "binary: 0.07916098833084106\n",
      "regression: 0.44207563996315\n"
     ]
    },
    {
     "name": "stderr",
     "output_type": "stream",
     "text": [
      "  1%|          | 59/7128 [01:19<2:33:37,  1.30s/it]"
     ]
    },
    {
     "name": "stdout",
     "output_type": "stream",
     "text": [
      "binary: 0.05421723797917366\n",
      "regression: 0.27771517634391785\n",
      "binary: 0.06859342008829117\n",
      "regression: 0.33445003628730774\n"
     ]
    },
    {
     "name": "stderr",
     "output_type": "stream",
     "text": [
      "  1%|          | 63/7128 [01:20<1:07:03,  1.76it/s]"
     ]
    },
    {
     "name": "stdout",
     "output_type": "stream",
     "text": [
      "binary: 0.12130142748355865\n",
      "regression: 0.4598465859889984\n",
      "binary: 0.07081431895494461\n",
      "regression: 0.4169125556945801\n",
      "binary: 0.0646408200263977\n",
      "regression: 0.3254070580005646\n"
     ]
    },
    {
     "name": "stderr",
     "output_type": "stream",
     "text": [
      "  1%|          | 64/7128 [01:20<56:47,  2.07it/s]  "
     ]
    },
    {
     "name": "stdout",
     "output_type": "stream",
     "text": [
      "binary: 0.07185617834329605\n",
      "regression: 0.33557048439979553\n"
     ]
    },
    {
     "name": "stderr",
     "output_type": "stream",
     "text": [
      "  1%|          | 65/7128 [01:28<4:15:28,  2.17s/it]"
     ]
    },
    {
     "name": "stdout",
     "output_type": "stream",
     "text": [
      "binary: 0.04676530882716179\n",
      "regression: 0.20164427161216736\n",
      "binary: 0.05027082562446594\n",
      "regression: 0.23745250701904297\n"
     ]
    },
    {
     "name": "stderr",
     "output_type": "stream",
     "text": [
      "  1%|          | 69/7128 [01:29<2:02:20,  1.04s/it]"
     ]
    },
    {
     "name": "stdout",
     "output_type": "stream",
     "text": [
      "binary: 0.056790612637996674\n",
      "regression: 0.23104435205459595\n",
      "binary: 0.13646665215492249\n",
      "regression: 0.5261468887329102\n",
      "binary: 0.0730513259768486\n",
      "regression: 0.3810453712940216\n"
     ]
    },
    {
     "name": "stderr",
     "output_type": "stream",
     "text": [
      "  1%|          | 70/7128 [01:29<1:39:41,  1.18it/s]"
     ]
    },
    {
     "name": "stdout",
     "output_type": "stream",
     "text": [
      "binary: 0.06916454434394836\n",
      "regression: 0.3647817373275757\n",
      "binary: 0.07670769840478897\n",
      "regression: 0.38098788261413574\n",
      "binary: 0.10464214533567429\n",
      "regression: 0.4651547372341156\n"
     ]
    },
    {
     "name": "stderr",
     "output_type": "stream",
     "text": [
      "  1%|          | 73/7128 [01:38<4:08:19,  2.11s/it]"
     ]
    },
    {
     "name": "stdout",
     "output_type": "stream",
     "text": [
      "binary: 0.06223137304186821\n",
      "regression: 0.32756859064102173\n",
      "binary: 0.031242884695529938\n",
      "regression: 0.17497418820858002\n"
     ]
    },
    {
     "name": "stderr",
     "output_type": "stream",
     "text": [
      "  1%|          | 75/7128 [01:39<2:56:43,  1.50s/it]"
     ]
    },
    {
     "name": "stdout",
     "output_type": "stream",
     "text": [
      "binary: 0.07441312074661255\n",
      "regression: 0.3213568329811096\n",
      "binary: 0.08224085718393326\n",
      "regression: 0.41185635328292847\n"
     ]
    },
    {
     "name": "stderr",
     "output_type": "stream",
     "text": [
      "  1%|          | 79/7128 [01:39<1:25:40,  1.37it/s]"
     ]
    },
    {
     "name": "stdout",
     "output_type": "stream",
     "text": [
      "binary: 0.030805785208940506\n",
      "regression: 0.19005300104618073\n",
      "binary: 0.07046397030353546\n",
      "regression: 0.34572163224220276\n",
      "binary: 0.06379434466362\n",
      "regression: 0.3697283864021301\n",
      "binary: 0.05755480006337166\n",
      "regression: 0.2010108381509781\n"
     ]
    },
    {
     "name": "stderr",
     "output_type": "stream",
     "text": [
      "  1%|          | 81/7128 [01:47<3:31:24,  1.80s/it]"
     ]
    },
    {
     "name": "stdout",
     "output_type": "stream",
     "text": [
      "binary: 0.07619862258434296\n",
      "regression: 0.3692830801010132\n",
      "binary: 0.06832649558782578\n",
      "regression: 0.3958405554294586\n"
     ]
    },
    {
     "name": "stderr",
     "output_type": "stream",
     "text": [
      "  1%|          | 85/7128 [01:48<1:53:43,  1.03it/s]"
     ]
    },
    {
     "name": "stdout",
     "output_type": "stream",
     "text": [
      "binary: 0.058328352868556976\n",
      "regression: 0.3316710293292999\n",
      "binary: 0.049241356551647186\n",
      "regression: 0.2351374477148056\n",
      "binary: 0.060066450387239456\n",
      "regression: 0.3331027328968048\n",
      "binary: 0.10864841192960739\n",
      "regression: 0.5244894027709961\n"
     ]
    },
    {
     "name": "stderr",
     "output_type": "stream",
     "text": [
      "  1%|          | 87/7128 [01:49<1:22:42,  1.42it/s]"
     ]
    },
    {
     "name": "stdout",
     "output_type": "stream",
     "text": [
      "binary: 0.057164959609508514\n",
      "regression: 0.3178008794784546\n",
      "binary: 0.055425405502319336\n",
      "regression: 0.3217480480670929\n"
     ]
    },
    {
     "name": "stderr",
     "output_type": "stream",
     "text": [
      "  1%|          | 89/7128 [01:57<3:23:25,  1.73s/it]"
     ]
    },
    {
     "name": "stdout",
     "output_type": "stream",
     "text": [
      "binary: 0.04349745810031891\n",
      "regression: 0.24302221834659576\n",
      "binary: 0.020777752622961998\n",
      "regression: 0.15238167345523834\n"
     ]
    },
    {
     "name": "stderr",
     "output_type": "stream",
     "text": [
      "  1%|▏         | 92/7128 [01:57<2:05:23,  1.07s/it]"
     ]
    },
    {
     "name": "stdout",
     "output_type": "stream",
     "text": [
      "binary: 0.09037794172763824\n",
      "regression: 0.301175057888031\n",
      "binary: 0.06783360242843628\n",
      "regression: 0.23613496124744415\n"
     ]
    },
    {
     "name": "stderr",
     "output_type": "stream",
     "text": [
      "  1%|▏         | 94/7128 [01:58<1:35:41,  1.23it/s]"
     ]
    },
    {
     "name": "stdout",
     "output_type": "stream",
     "text": [
      "binary: 0.06615027785301208\n",
      "regression: 0.30561938881874084\n",
      "binary: 0.05405723303556442\n",
      "regression: 0.22764210402965546\n"
     ]
    },
    {
     "name": "stderr",
     "output_type": "stream",
     "text": [
      "  1%|▏         | 96/7128 [01:58<1:01:53,  1.89it/s]"
     ]
    },
    {
     "name": "stdout",
     "output_type": "stream",
     "text": [
      "binary: 0.05787735432386398\n",
      "regression: 0.36044320464134216\n",
      "binary: 0.0584617555141449\n",
      "regression: 0.32722440361976624\n"
     ]
    },
    {
     "name": "stderr",
     "output_type": "stream",
     "text": [
      "  1%|▏         | 97/7128 [02:06<4:12:49,  2.16s/it]"
     ]
    },
    {
     "name": "stdout",
     "output_type": "stream",
     "text": [
      "binary: 0.05519923195242882\n",
      "regression: 0.29306408762931824\n",
      "binary: 0.042701058089733124\n",
      "regression: 0.2321939617395401\n"
     ]
    },
    {
     "name": "stderr",
     "output_type": "stream",
     "text": [
      "  1%|▏         | 99/7128 [02:07<2:42:20,  1.39s/it]"
     ]
    },
    {
     "name": "stdout",
     "output_type": "stream",
     "text": [
      "binary: 0.05484694987535477\n",
      "regression: 0.23131299018859863\n",
      "binary: 0.03983291611075401\n",
      "regression: 0.20254196226596832\n"
     ]
    },
    {
     "name": "stderr",
     "output_type": "stream",
     "text": [
      "  1%|▏         | 102/7128 [02:07<1:38:45,  1.19it/s]"
     ]
    },
    {
     "name": "stdout",
     "output_type": "stream",
     "text": [
      "binary: 0.05385122820734978\n",
      "regression: 0.2220819592475891\n",
      "binary: 0.06148078665137291\n",
      "regression: 0.3156493902206421\n"
     ]
    },
    {
     "name": "stderr",
     "output_type": "stream",
     "text": [
      "  1%|▏         | 104/7128 [02:08<1:06:53,  1.75it/s]"
     ]
    },
    {
     "name": "stdout",
     "output_type": "stream",
     "text": [
      "binary: 0.057733193039894104\n",
      "regression: 0.30590593814849854\n",
      "binary: 0.05938279628753662\n",
      "regression: 0.36058205366134644\n"
     ]
    },
    {
     "name": "stderr",
     "output_type": "stream",
     "text": [
      "  1%|▏         | 105/7128 [02:16<4:03:36,  2.08s/it]"
     ]
    },
    {
     "name": "stdout",
     "output_type": "stream",
     "text": [
      "binary: 0.08668127655982971\n",
      "regression: 0.40420252084732056\n",
      "binary: 0.049967169761657715\n",
      "regression: 0.26490452885627747\n"
     ]
    },
    {
     "name": "stderr",
     "output_type": "stream",
     "text": [
      "  2%|▏         | 107/7128 [02:16<2:53:16,  1.48s/it]"
     ]
    },
    {
     "name": "stdout",
     "output_type": "stream",
     "text": [
      "binary: 0.06971939653158188\n",
      "regression: 0.31637120246887207\n",
      "binary: 0.07491268217563629\n",
      "regression: 0.35211440920829773\n"
     ]
    },
    {
     "name": "stderr",
     "output_type": "stream",
     "text": [
      "  2%|▏         | 111/7128 [02:18<1:31:47,  1.27it/s]"
     ]
    },
    {
     "name": "stdout",
     "output_type": "stream",
     "text": [
      "binary: 0.07351323217153549\n",
      "regression: 0.3136852979660034\n",
      "binary: 0.0675201341509819\n",
      "regression: 0.27741217613220215\n",
      "binary: 0.04992174357175827\n",
      "regression: 0.26977360248565674\n",
      "binary: 0.08416229486465454\n",
      "regression: 0.34078869223594666\n"
     ]
    },
    {
     "name": "stderr",
     "output_type": "stream",
     "text": [
      "  2%|▏         | 114/7128 [02:26<2:55:48,  1.50s/it]"
     ]
    },
    {
     "name": "stdout",
     "output_type": "stream",
     "text": [
      "binary: 0.05762365087866783\n",
      "regression: 0.28180813789367676\n",
      "binary: 0.05066243186593056\n",
      "regression: 0.2069973647594452\n"
     ]
    },
    {
     "name": "stderr",
     "output_type": "stream",
     "text": [
      "  2%|▏         | 116/7128 [02:27<2:15:27,  1.16s/it]"
     ]
    },
    {
     "name": "stdout",
     "output_type": "stream",
     "text": [
      "binary: 0.04152383282780647\n",
      "regression: 0.18906456232070923\n",
      "binary: 0.0328449085354805\n",
      "regression: 0.1635686308145523\n"
     ]
    },
    {
     "name": "stderr",
     "output_type": "stream",
     "text": [
      "  2%|▏         | 118/7128 [02:27<1:26:52,  1.34it/s]"
     ]
    },
    {
     "name": "stdout",
     "output_type": "stream",
     "text": [
      "binary: 0.07106270641088486\n",
      "regression: 0.3444596230983734\n",
      "binary: 0.05446602404117584\n",
      "regression: 0.2917610704898834\n"
     ]
    },
    {
     "name": "stderr",
     "output_type": "stream",
     "text": [
      "  2%|▏         | 120/7128 [02:28<58:47,  1.99it/s]  "
     ]
    },
    {
     "name": "stdout",
     "output_type": "stream",
     "text": [
      "binary: 0.05195271596312523\n",
      "regression: 0.28459933400154114\n",
      "binary: 0.059381261467933655\n",
      "regression: 0.33838993310928345\n"
     ]
    },
    {
     "name": "stderr",
     "output_type": "stream",
     "text": [
      "  2%|▏         | 121/7128 [02:35<3:54:54,  2.01s/it]"
     ]
    },
    {
     "name": "stdout",
     "output_type": "stream",
     "text": [
      "binary: 0.052262354642152786\n",
      "regression: 0.20800422132015228\n",
      "binary: 0.0456160344183445\n",
      "regression: 0.2071768343448639\n"
     ]
    },
    {
     "name": "stderr",
     "output_type": "stream",
     "text": [
      "  2%|▏         | 123/7128 [02:36<2:35:55,  1.34s/it]"
     ]
    },
    {
     "name": "stdout",
     "output_type": "stream",
     "text": [
      "binary: 0.05695228651165962\n",
      "regression: 0.30369821190834045\n",
      "binary: 0.0933980941772461\n",
      "regression: 0.4142201244831085\n"
     ]
    },
    {
     "name": "stderr",
     "output_type": "stream",
     "text": [
      "  2%|▏         | 125/7128 [02:37<1:59:44,  1.03s/it]"
     ]
    },
    {
     "name": "stdout",
     "output_type": "stream",
     "text": [
      "binary: 0.05520262196660042\n",
      "regression: 0.26341989636421204\n",
      "binary: 0.06171045079827309\n",
      "regression: 0.26777124404907227\n",
      "binary: 0.05081373080611229\n",
      "regression: 0.2605537474155426\n"
     ]
    },
    {
     "name": "stderr",
     "output_type": "stream",
     "text": [
      "  2%|▏         | 127/7128 [02:37<1:23:26,  1.40it/s]"
     ]
    },
    {
     "name": "stdout",
     "output_type": "stream",
     "text": [
      "binary: 0.06128784269094467\n",
      "regression: 0.2795063853263855\n"
     ]
    },
    {
     "name": "stderr",
     "output_type": "stream",
     "text": [
      "  2%|▏         | 129/7128 [02:45<3:30:04,  1.80s/it]"
     ]
    },
    {
     "name": "stdout",
     "output_type": "stream",
     "text": [
      "binary: 0.0622623972594738\n",
      "regression: 0.26667430996894836\n",
      "binary: 0.06048997864127159\n",
      "regression: 0.29980695247650146\n"
     ]
    },
    {
     "name": "stderr",
     "output_type": "stream",
     "text": [
      "  2%|▏         | 131/7128 [02:46<2:38:48,  1.36s/it]"
     ]
    },
    {
     "name": "stdout",
     "output_type": "stream",
     "text": [
      "binary: 0.06782548129558563\n",
      "regression: 0.36168259382247925\n",
      "binary: 0.050398387014865875\n",
      "regression: 0.2502498924732208\n"
     ]
    },
    {
     "name": "stderr",
     "output_type": "stream",
     "text": [
      "  2%|▏         | 135/7128 [02:46<1:21:51,  1.42it/s]"
     ]
    },
    {
     "name": "stdout",
     "output_type": "stream",
     "text": [
      "binary: 0.059352438896894455\n",
      "regression: 0.3087286651134491\n",
      "binary: 0.05854249373078346\n",
      "regression: 0.3058256506919861\n",
      "binary: 0.04765016585588455\n",
      "regression: 0.21036666631698608\n"
     ]
    },
    {
     "name": "stderr",
     "output_type": "stream",
     "text": [
      "  2%|▏         | 136/7128 [02:46<1:10:29,  1.65it/s]"
     ]
    },
    {
     "name": "stdout",
     "output_type": "stream",
     "text": [
      "binary: 0.07097378373146057\n",
      "regression: 0.27063819766044617\n"
     ]
    },
    {
     "name": "stderr",
     "output_type": "stream",
     "text": [
      "  2%|▏         | 137/7128 [02:54<3:55:59,  2.03s/it]"
     ]
    },
    {
     "name": "stdout",
     "output_type": "stream",
     "text": [
      "binary: 0.02259041927754879\n",
      "regression: 0.1043943241238594\n"
     ]
    },
    {
     "name": "stderr",
     "output_type": "stream",
     "text": [
      "  2%|▏         | 138/7128 [02:55<3:26:28,  1.77s/it]"
     ]
    },
    {
     "name": "stdout",
     "output_type": "stream",
     "text": [
      "binary: 0.0647483691573143\n",
      "regression: 0.29076871275901794\n"
     ]
    },
    {
     "name": "stderr",
     "output_type": "stream",
     "text": [
      "  2%|▏         | 141/7128 [02:57<2:02:11,  1.05s/it]"
     ]
    },
    {
     "name": "stdout",
     "output_type": "stream",
     "text": [
      "binary: 0.0759749636054039\n",
      "regression: 0.2920297384262085\n",
      "binary: 0.08097026497125626\n",
      "regression: 0.2823040783405304\n",
      "binary: 0.07590534538030624\n",
      "regression: 0.37116730213165283\n",
      "binary: 0.0604042187333107\n",
      "regression: 0.2404009997844696\n"
     ]
    },
    {
     "name": "stderr",
     "output_type": "stream",
     "text": [
      "  2%|▏         | 143/7128 [02:57<1:20:10,  1.45it/s]"
     ]
    },
    {
     "name": "stdout",
     "output_type": "stream",
     "text": [
      "binary: 0.05678411200642586\n",
      "regression: 0.2549591660499573\n",
      "binary: 0.09299083799123764\n",
      "regression: 0.34338346123695374\n"
     ]
    },
    {
     "name": "stderr",
     "output_type": "stream",
     "text": [
      "  2%|▏         | 145/7128 [03:04<3:09:31,  1.63s/it]"
     ]
    },
    {
     "name": "stdout",
     "output_type": "stream",
     "text": [
      "binary: 0.08245432376861572\n",
      "regression: 0.3356885612010956\n"
     ]
    },
    {
     "name": "stderr",
     "output_type": "stream",
     "text": [
      "  2%|▏         | 146/7128 [03:04<2:42:58,  1.40s/it]"
     ]
    },
    {
     "name": "stdout",
     "output_type": "stream",
     "text": [
      "binary: 0.05586857348680496\n",
      "regression: 0.26860442757606506\n"
     ]
    },
    {
     "name": "stderr",
     "output_type": "stream",
     "text": [
      "  2%|▏         | 149/7128 [03:06<1:52:01,  1.04it/s]"
     ]
    },
    {
     "name": "stdout",
     "output_type": "stream",
     "text": [
      "binary: 0.0596490278840065\n",
      "regression: 0.29542434215545654\n",
      "binary: 0.0633685290813446\n",
      "regression: 0.21523533761501312\n",
      "binary: 0.04850894957780838\n",
      "regression: 0.17428815364837646\n"
     ]
    },
    {
     "name": "stderr",
     "output_type": "stream",
     "text": [
      "  2%|▏         | 152/7128 [03:06<59:42,  1.95it/s]  "
     ]
    },
    {
     "name": "stdout",
     "output_type": "stream",
     "text": [
      "binary: 0.09180010110139847\n",
      "regression: 0.38270673155784607\n",
      "binary: 0.08153063803911209\n",
      "regression: 0.2982088029384613\n",
      "binary: 0.059756550937891006\n",
      "regression: 0.2000948041677475\n"
     ]
    },
    {
     "name": "stderr",
     "output_type": "stream",
     "text": [
      "  2%|▏         | 153/7128 [03:14<3:49:54,  1.98s/it]"
     ]
    },
    {
     "name": "stdout",
     "output_type": "stream",
     "text": [
      "binary: 0.048625197261571884\n",
      "regression: 0.22248755395412445\n"
     ]
    },
    {
     "name": "stderr",
     "output_type": "stream",
     "text": [
      "  2%|▏         | 154/7128 [03:15<3:22:16,  1.74s/it]"
     ]
    },
    {
     "name": "stdout",
     "output_type": "stream",
     "text": [
      "binary: 0.05417196452617645\n",
      "regression: 0.22904331982135773\n"
     ]
    },
    {
     "name": "stderr",
     "output_type": "stream",
     "text": [
      "  2%|▏         | 156/7128 [03:16<2:15:34,  1.17s/it]"
     ]
    },
    {
     "name": "stdout",
     "output_type": "stream",
     "text": [
      "binary: 0.06859149038791656\n",
      "regression: 0.292223185300827\n",
      "binary: 0.044551409780979156\n",
      "regression: 0.2028047889471054\n"
     ]
    },
    {
     "name": "stderr",
     "output_type": "stream",
     "text": [
      "  2%|▏         | 158/7128 [03:16<1:21:10,  1.43it/s]"
     ]
    },
    {
     "name": "stdout",
     "output_type": "stream",
     "text": [
      "binary: 0.06389262527227402\n",
      "regression: 0.29652875661849976\n",
      "binary: 0.053570304065942764\n",
      "regression: 0.20529212057590485\n"
     ]
    },
    {
     "name": "stderr",
     "output_type": "stream",
     "text": [
      "  2%|▏         | 159/7128 [03:16<1:06:26,  1.75it/s]"
     ]
    },
    {
     "name": "stdout",
     "output_type": "stream",
     "text": [
      "binary: 0.07902408391237259\n",
      "regression: 0.3683508038520813\n",
      "binary: 0.07232266664505005\n",
      "regression: 0.3351778984069824\n"
     ]
    },
    {
     "name": "stderr",
     "output_type": "stream",
     "text": [
      "  2%|▏         | 161/7128 [03:25<3:56:50,  2.04s/it]"
     ]
    },
    {
     "name": "stdout",
     "output_type": "stream",
     "text": [
      "binary: 0.04406940937042236\n",
      "regression: 0.25279316306114197\n",
      "binary: 0.0949040874838829\n",
      "regression: 0.3275982737541199\n"
     ]
    },
    {
     "name": "stderr",
     "output_type": "stream",
     "text": [
      "  2%|▏         | 163/7128 [03:25<2:38:16,  1.36s/it]"
     ]
    },
    {
     "name": "stdout",
     "output_type": "stream",
     "text": [
      "binary: 0.08717133104801178\n",
      "regression: 0.3673834204673767\n",
      "binary: 0.055397387593984604\n",
      "regression: 0.3069416582584381\n"
     ]
    },
    {
     "name": "stderr",
     "output_type": "stream",
     "text": [
      "  2%|▏         | 167/7128 [03:25<1:16:55,  1.51it/s]"
     ]
    },
    {
     "name": "stdout",
     "output_type": "stream",
     "text": [
      "binary: 0.05660859867930412\n",
      "regression: 0.2916507124900818\n",
      "binary: 0.057059187442064285\n",
      "regression: 0.18848073482513428\n",
      "binary: 0.0482737198472023\n",
      "regression: 0.2040071189403534\n",
      "binary: 0.05362172797322273\n",
      "regression: 0.23921966552734375\n"
     ]
    },
    {
     "name": "stderr",
     "output_type": "stream",
     "text": [
      "  2%|▏         | 169/7128 [03:34<3:39:34,  1.89s/it]"
     ]
    },
    {
     "name": "stdout",
     "output_type": "stream",
     "text": [
      "binary: 0.0594978891313076\n",
      "regression: 0.23714688420295715\n",
      "binary: 0.07291710376739502\n",
      "regression: 0.30675485730171204\n"
     ]
    },
    {
     "name": "stderr",
     "output_type": "stream",
     "text": [
      "  2%|▏         | 173/7128 [03:35<1:53:08,  1.02it/s]"
     ]
    },
    {
     "name": "stdout",
     "output_type": "stream",
     "text": [
      "binary: 0.057060111314058304\n",
      "regression: 0.24442581832408905\n",
      "binary: 0.07075134664773941\n",
      "regression: 0.2703648507595062\n",
      "binary: 0.039407599717378616\n",
      "regression: 0.16088078916072845\n"
     ]
    },
    {
     "name": "stderr",
     "output_type": "stream",
     "text": [
      "  2%|▏         | 175/7128 [03:35<1:21:24,  1.42it/s]"
     ]
    },
    {
     "name": "stdout",
     "output_type": "stream",
     "text": [
      "binary: 0.06088338419795036\n",
      "regression: 0.252232164144516\n",
      "binary: 0.07601221650838852\n",
      "regression: 0.24193403124809265\n",
      "binary: 0.049424126744270325\n",
      "regression: 0.21568356454372406\n"
     ]
    },
    {
     "name": "stderr",
     "output_type": "stream",
     "text": [
      "  2%|▏         | 177/7128 [03:43<3:21:03,  1.74s/it]"
     ]
    },
    {
     "name": "stdout",
     "output_type": "stream",
     "text": [
      "binary: 0.051950011402368546\n",
      "regression: 0.23498579859733582\n"
     ]
    },
    {
     "name": "stderr",
     "output_type": "stream",
     "text": [
      "  2%|▏         | 178/7128 [03:44<2:55:36,  1.52s/it]"
     ]
    },
    {
     "name": "stdout",
     "output_type": "stream",
     "text": [
      "binary: 0.08949911594390869\n",
      "regression: 0.3601911962032318\n"
     ]
    },
    {
     "name": "stderr",
     "output_type": "stream",
     "text": [
      "  3%|▎         | 181/7128 [03:45<1:38:50,  1.17it/s]"
     ]
    },
    {
     "name": "stdout",
     "output_type": "stream",
     "text": [
      "binary: 0.037543412297964096\n",
      "regression: 0.13552461564540863\n",
      "binary: 0.050424665212631226\n",
      "regression: 0.19720563292503357\n",
      "binary: 0.07413697242736816\n",
      "regression: 0.34362736344337463\n"
     ]
    },
    {
     "name": "stderr",
     "output_type": "stream",
     "text": [
      "  3%|▎         | 183/7128 [03:45<1:08:02,  1.70it/s]"
     ]
    },
    {
     "name": "stdout",
     "output_type": "stream",
     "text": [
      "binary: 0.07991582155227661\n",
      "regression: 0.33182045817375183\n",
      "binary: 0.033859170973300934\n",
      "regression: 0.1766691505908966\n",
      "binary: 0.037578240036964417\n",
      "regression: 0.18194398283958435\n"
     ]
    },
    {
     "name": "stderr",
     "output_type": "stream",
     "text": [
      "  3%|▎         | 185/7128 [03:53<3:17:09,  1.70s/it]"
     ]
    },
    {
     "name": "stdout",
     "output_type": "stream",
     "text": [
      "binary: 0.06558690220117569\n",
      "regression: 0.2957581579685211\n"
     ]
    },
    {
     "name": "stderr",
     "output_type": "stream",
     "text": [
      "  3%|▎         | 186/7128 [03:53<2:50:21,  1.47s/it]"
     ]
    },
    {
     "name": "stdout",
     "output_type": "stream",
     "text": [
      "binary: 0.04885869100689888\n",
      "regression: 0.21382759511470795\n"
     ]
    },
    {
     "name": "stderr",
     "output_type": "stream",
     "text": [
      "  3%|▎         | 189/7128 [03:54<1:41:36,  1.14it/s]"
     ]
    },
    {
     "name": "stdout",
     "output_type": "stream",
     "text": [
      "binary: 0.052081357687711716\n",
      "regression: 0.21312695741653442\n",
      "binary: 0.06364374607801437\n",
      "regression: 0.23999527096748352\n",
      "binary: 0.036504995077848434\n",
      "regression: 0.17663456499576569\n"
     ]
    },
    {
     "name": "stderr",
     "output_type": "stream",
     "text": [
      "  3%|▎         | 191/7128 [03:55<1:08:53,  1.68it/s]"
     ]
    },
    {
     "name": "stdout",
     "output_type": "stream",
     "text": [
      "binary: 0.030797235667705536\n",
      "regression: 0.1414009928703308\n",
      "binary: 0.06598421931266785\n",
      "regression: 0.33235615491867065\n",
      "binary: 0.07318563014268875\n",
      "regression: 0.2778971195220947\n"
     ]
    },
    {
     "name": "stderr",
     "output_type": "stream",
     "text": [
      "  3%|▎         | 193/7128 [04:02<3:11:54,  1.66s/it]"
     ]
    },
    {
     "name": "stdout",
     "output_type": "stream",
     "text": [
      "binary: 0.04889975115656853\n",
      "regression: 0.276328444480896\n"
     ]
    },
    {
     "name": "stderr",
     "output_type": "stream",
     "text": [
      "  3%|▎         | 194/7128 [04:03<2:48:18,  1.46s/it]"
     ]
    },
    {
     "name": "stdout",
     "output_type": "stream",
     "text": [
      "binary: 0.04447636008262634\n",
      "regression: 0.27827417850494385\n"
     ]
    },
    {
     "name": "stderr",
     "output_type": "stream",
     "text": [
      "  3%|▎         | 196/7128 [04:04<2:02:04,  1.06s/it]"
     ]
    },
    {
     "name": "stdout",
     "output_type": "stream",
     "text": [
      "binary: 0.05872836709022522\n",
      "regression: 0.28889280557632446\n",
      "binary: 0.057496607303619385\n",
      "regression: 0.22258087992668152\n",
      "binary: 0.05470620468258858\n",
      "regression: 0.2005089670419693\n"
     ]
    },
    {
     "name": "stderr",
     "output_type": "stream",
     "text": [
      "  3%|▎         | 199/7128 [04:04<59:03,  1.96it/s]  "
     ]
    },
    {
     "name": "stdout",
     "output_type": "stream",
     "text": [
      "binary: 0.06650164723396301\n",
      "regression: 0.3639349341392517\n",
      "binary: 0.04488420858979225\n",
      "regression: 0.21638593077659607\n",
      "binary: 0.054728470742702484\n",
      "regression: 0.2636912763118744\n"
     ]
    },
    {
     "name": "stderr",
     "output_type": "stream",
     "text": [
      "  3%|▎         | 201/7128 [04:12<4:16:51,  2.22s/it]"
     ]
    },
    {
     "name": "stdout",
     "output_type": "stream",
     "text": [
      "binary: 0.033059220761060715\n",
      "regression: 0.2140241414308548\n"
     ]
    },
    {
     "name": "stderr",
     "output_type": "stream",
     "text": [
      "  3%|▎         | 202/7128 [04:13<3:36:47,  1.88s/it]"
     ]
    },
    {
     "name": "stdout",
     "output_type": "stream",
     "text": [
      "binary: 0.07734863460063934\n",
      "regression: 0.3940545916557312\n"
     ]
    },
    {
     "name": "stderr",
     "output_type": "stream",
     "text": [
      "  3%|▎         | 205/7128 [04:13<1:41:29,  1.14it/s]"
     ]
    },
    {
     "name": "stdout",
     "output_type": "stream",
     "text": [
      "binary: 0.06924792379140854\n",
      "regression: 0.28832316398620605\n",
      "binary: 0.051741860806941986\n",
      "regression: 0.2229250818490982\n",
      "binary: 0.06695682555437088\n",
      "regression: 0.2774885892868042\n"
     ]
    },
    {
     "name": "stderr",
     "output_type": "stream",
     "text": [
      "  3%|▎         | 207/7128 [04:14<1:05:43,  1.76it/s]"
     ]
    },
    {
     "name": "stdout",
     "output_type": "stream",
     "text": [
      "binary: 0.06054288521409035\n",
      "regression: 0.3311196565628052\n",
      "binary: 0.055186957120895386\n",
      "regression: 0.25251078605651855\n",
      "binary: 0.03598840907216072\n",
      "regression: 0.1568809300661087\n"
     ]
    },
    {
     "name": "stderr",
     "output_type": "stream",
     "text": [
      "  3%|▎         | 209/7128 [04:22<3:25:14,  1.78s/it]"
     ]
    },
    {
     "name": "stdout",
     "output_type": "stream",
     "text": [
      "binary: 0.03937599062919617\n",
      "regression: 0.19721615314483643\n"
     ]
    },
    {
     "name": "stderr",
     "output_type": "stream",
     "text": [
      "  3%|▎         | 210/7128 [04:22<3:05:05,  1.61s/it]"
     ]
    },
    {
     "name": "stdout",
     "output_type": "stream",
     "text": [
      "binary: 0.06467608362436295\n",
      "regression: 0.24787060916423798\n"
     ]
    },
    {
     "name": "stderr",
     "output_type": "stream",
     "text": [
      "  3%|▎         | 213/7128 [04:23<1:39:23,  1.16it/s]"
     ]
    },
    {
     "name": "stdout",
     "output_type": "stream",
     "text": [
      "binary: 0.0659472867846489\n",
      "regression: 0.3033175468444824\n",
      "binary: 0.06391246616840363\n",
      "regression: 0.2675231397151947\n",
      "binary: 0.04842190816998482\n",
      "regression: 0.2546028196811676\n"
     ]
    },
    {
     "name": "stderr",
     "output_type": "stream",
     "text": [
      "  3%|▎         | 215/7128 [04:23<1:07:09,  1.72it/s]"
     ]
    },
    {
     "name": "stdout",
     "output_type": "stream",
     "text": [
      "binary: 0.06260836869478226\n",
      "regression: 0.3049856424331665\n",
      "binary: 0.03842948377132416\n",
      "regression: 0.19755907356739044\n",
      "binary: 0.07550211250782013\n",
      "regression: 0.2306593358516693\n"
     ]
    },
    {
     "name": "stderr",
     "output_type": "stream",
     "text": [
      "  3%|▎         | 217/7128 [04:31<3:15:51,  1.70s/it]"
     ]
    },
    {
     "name": "stdout",
     "output_type": "stream",
     "text": [
      "binary: 0.042403824627399445\n",
      "regression: 0.21470090746879578\n"
     ]
    },
    {
     "name": "stderr",
     "output_type": "stream",
     "text": [
      "  3%|▎         | 218/7128 [04:32<2:58:33,  1.55s/it]"
     ]
    },
    {
     "name": "stdout",
     "output_type": "stream",
     "text": [
      "binary: 0.05362632870674133\n",
      "regression: 0.29406481981277466\n"
     ]
    },
    {
     "name": "stderr",
     "output_type": "stream",
     "text": [
      "  3%|▎         | 221/7128 [04:33<1:35:05,  1.21it/s]"
     ]
    },
    {
     "name": "stdout",
     "output_type": "stream",
     "text": [
      "binary: 0.02557992748916149\n",
      "regression: 0.10324530303478241\n",
      "binary: 0.041106682270765305\n",
      "regression: 0.19952678680419922\n",
      "binary: 0.05231282860040665\n",
      "regression: 0.23657715320587158\n"
     ]
    },
    {
     "name": "stderr",
     "output_type": "stream",
     "text": [
      "  3%|▎         | 223/7128 [04:33<1:06:29,  1.73it/s]"
     ]
    },
    {
     "name": "stdout",
     "output_type": "stream",
     "text": [
      "binary: 0.03173287212848663\n",
      "regression: 0.12381777167320251\n",
      "binary: 0.03937709331512451\n",
      "regression: 0.16430352628231049\n",
      "binary: 0.06587383151054382\n",
      "regression: 0.3325328528881073\n"
     ]
    },
    {
     "name": "stderr",
     "output_type": "stream",
     "text": [
      "  3%|▎         | 225/7128 [04:41<3:21:23,  1.75s/it]"
     ]
    },
    {
     "name": "stdout",
     "output_type": "stream",
     "text": [
      "binary: 0.0827769935131073\n",
      "regression: 0.43911853432655334\n"
     ]
    },
    {
     "name": "stderr",
     "output_type": "stream",
     "text": [
      "  3%|▎         | 226/7128 [04:41<2:53:14,  1.51s/it]"
     ]
    },
    {
     "name": "stdout",
     "output_type": "stream",
     "text": [
      "binary: 0.03843345120549202\n",
      "regression: 0.13487641513347626\n"
     ]
    },
    {
     "name": "stderr",
     "output_type": "stream",
     "text": [
      "  3%|▎         | 227/7128 [04:42<2:38:26,  1.38s/it]"
     ]
    },
    {
     "name": "stdout",
     "output_type": "stream",
     "text": [
      "binary: 0.0649690330028534\n",
      "regression: 0.25496891140937805\n",
      "binary: 0.061390165239572525\n",
      "regression: 0.28790172934532166\n",
      "binary: 0.048077527433633804\n",
      "regression: 0.186616912484169\n"
     ]
    },
    {
     "name": "stderr",
     "output_type": "stream",
     "text": [
      "  3%|▎         | 232/7128 [04:43<54:12,  2.12it/s]  "
     ]
    },
    {
     "name": "stdout",
     "output_type": "stream",
     "text": [
      "binary: 0.046995967626571655\n",
      "regression: 0.18265105783939362\n",
      "binary: 0.07088058441877365\n",
      "regression: 0.2958984673023224\n",
      "binary: 0.06380555033683777\n",
      "regression: 0.32211777567863464\n"
     ]
    },
    {
     "name": "stderr",
     "output_type": "stream",
     "text": [
      "  3%|▎         | 233/7128 [04:51<3:54:04,  2.04s/it]"
     ]
    },
    {
     "name": "stdout",
     "output_type": "stream",
     "text": [
      "binary: 0.0728660598397255\n",
      "regression: 0.3323825001716614\n"
     ]
    },
    {
     "name": "stderr",
     "output_type": "stream",
     "text": [
      "  3%|▎         | 234/7128 [04:51<3:24:54,  1.78s/it]"
     ]
    },
    {
     "name": "stdout",
     "output_type": "stream",
     "text": [
      "binary: 0.03754796087741852\n",
      "regression: 0.164535790681839\n"
     ]
    },
    {
     "name": "stderr",
     "output_type": "stream",
     "text": [
      "  3%|▎         | 237/7128 [04:52<1:40:50,  1.14it/s]"
     ]
    },
    {
     "name": "stdout",
     "output_type": "stream",
     "text": [
      "binary: 0.05427660420536995\n",
      "regression: 0.19368049502372742\n",
      "binary: 0.07487063109874725\n",
      "regression: 0.25947481393814087\n",
      "binary: 0.07801566272974014\n",
      "regression: 0.2384771704673767\n"
     ]
    },
    {
     "name": "stderr",
     "output_type": "stream",
     "text": [
      "  3%|▎         | 239/7128 [04:52<1:07:06,  1.71it/s]"
     ]
    },
    {
     "name": "stdout",
     "output_type": "stream",
     "text": [
      "binary: 0.05439119413495064\n",
      "regression: 0.26213502883911133\n",
      "binary: 0.04309636726975441\n",
      "regression: 0.19500096142292023\n",
      "binary: 0.06208319962024689\n",
      "regression: 0.28308194875717163\n"
     ]
    },
    {
     "name": "stderr",
     "output_type": "stream",
     "text": [
      "  3%|▎         | 241/7128 [05:00<3:20:08,  1.74s/it]"
     ]
    },
    {
     "name": "stdout",
     "output_type": "stream",
     "text": [
      "binary: 0.0678471028804779\n",
      "regression: 0.20540504157543182\n"
     ]
    },
    {
     "name": "stderr",
     "output_type": "stream",
     "text": [
      "  3%|▎         | 242/7128 [05:01<2:53:21,  1.51s/it]"
     ]
    },
    {
     "name": "stdout",
     "output_type": "stream",
     "text": [
      "binary: 0.03259097784757614\n",
      "regression: 0.10085292905569077\n"
     ]
    },
    {
     "name": "stderr",
     "output_type": "stream",
     "text": [
      "  3%|▎         | 244/7128 [05:02<2:04:34,  1.09s/it]"
     ]
    },
    {
     "name": "stdout",
     "output_type": "stream",
     "text": [
      "binary: 0.054560255259275436\n",
      "regression: 0.20018021762371063\n",
      "binary: 0.048974763602018356\n",
      "regression: 0.14127117395401\n",
      "binary: 0.057380955666303635\n",
      "regression: 0.1994277983903885\n"
     ]
    },
    {
     "name": "stderr",
     "output_type": "stream",
     "text": [
      "  3%|▎         | 248/7128 [05:02<52:29,  2.18it/s]  "
     ]
    },
    {
     "name": "stdout",
     "output_type": "stream",
     "text": [
      "binary: 0.10369350761175156\n",
      "regression: 0.3264324367046356\n",
      "binary: 0.05340232327580452\n",
      "regression: 0.21371380984783173\n",
      "binary: 0.07466273754835129\n",
      "regression: 0.27707794308662415\n"
     ]
    },
    {
     "name": "stderr",
     "output_type": "stream",
     "text": [
      "  3%|▎         | 249/7128 [05:10<3:42:33,  1.94s/it]"
     ]
    },
    {
     "name": "stdout",
     "output_type": "stream",
     "text": [
      "binary: 0.06920424103736877\n",
      "regression: 0.27675992250442505\n"
     ]
    },
    {
     "name": "stderr",
     "output_type": "stream",
     "text": [
      "  4%|▎         | 250/7128 [05:10<3:07:44,  1.64s/it]"
     ]
    },
    {
     "name": "stdout",
     "output_type": "stream",
     "text": [
      "binary: 0.06028155982494354\n",
      "regression: 0.21928811073303223\n"
     ]
    },
    {
     "name": "stderr",
     "output_type": "stream",
     "text": [
      "  4%|▎         | 253/7128 [05:11<1:41:39,  1.13it/s]"
     ]
    },
    {
     "name": "stdout",
     "output_type": "stream",
     "text": [
      "binary: 0.04785379767417908\n",
      "regression: 0.16715283691883087\n",
      "binary: 0.09625764936208725\n",
      "regression: 0.302251935005188\n",
      "binary: 0.04929669573903084\n",
      "regression: 0.2128293663263321\n"
     ]
    },
    {
     "name": "stderr",
     "output_type": "stream",
     "text": [
      "  4%|▎         | 255/7128 [05:12<1:04:29,  1.78it/s]"
     ]
    },
    {
     "name": "stdout",
     "output_type": "stream",
     "text": [
      "binary: 0.05376289784908295\n",
      "regression: 0.1753137856721878\n",
      "binary: 0.05127735435962677\n",
      "regression: 0.2574514150619507\n"
     ]
    },
    {
     "name": "stderr",
     "output_type": "stream",
     "text": [
      "  4%|▎         | 256/7128 [05:12<51:50,  2.21it/s]  "
     ]
    },
    {
     "name": "stdout",
     "output_type": "stream",
     "text": [
      "binary: 0.05453028157353401\n",
      "regression: 0.2648405134677887\n"
     ]
    },
    {
     "name": "stderr",
     "output_type": "stream",
     "text": [
      "  4%|▎         | 257/7128 [05:19<4:30:43,  2.36s/it]"
     ]
    },
    {
     "name": "stdout",
     "output_type": "stream",
     "text": [
      "binary: 0.03636125475168228\n",
      "regression: 0.133302703499794\n"
     ]
    },
    {
     "name": "stderr",
     "output_type": "stream",
     "text": [
      "  4%|▎         | 258/7128 [05:20<3:35:05,  1.88s/it]"
     ]
    },
    {
     "name": "stdout",
     "output_type": "stream",
     "text": [
      "binary: 0.05527135357260704\n",
      "regression: 0.21782292425632477\n"
     ]
    },
    {
     "name": "stderr",
     "output_type": "stream",
     "text": [
      "  4%|▎         | 261/7128 [05:21<1:45:44,  1.08it/s]"
     ]
    },
    {
     "name": "stdout",
     "output_type": "stream",
     "text": [
      "binary: 0.05607078969478607\n",
      "regression: 0.1974121779203415\n",
      "binary: 0.059976354241371155\n",
      "regression: 0.18092580139636993\n",
      "binary: 0.0702914446592331\n",
      "regression: 0.2576386630535126\n"
     ]
    },
    {
     "name": "stderr",
     "output_type": "stream",
     "text": [
      "  4%|▎         | 263/7128 [05:21<1:07:58,  1.68it/s]"
     ]
    },
    {
     "name": "stdout",
     "output_type": "stream",
     "text": [
      "binary: 0.07509838044643402\n",
      "regression: 0.25191551446914673\n",
      "binary: 0.07744672149419785\n",
      "regression: 0.2735463082790375\n",
      "binary: 0.03664027526974678\n",
      "regression: 0.13535550236701965\n"
     ]
    },
    {
     "name": "stderr",
     "output_type": "stream",
     "text": [
      "  4%|▎         | 265/7128 [05:29<3:17:17,  1.72s/it]"
     ]
    },
    {
     "name": "stdout",
     "output_type": "stream",
     "text": [
      "binary: 0.05626668408513069\n",
      "regression: 0.23972612619400024\n"
     ]
    },
    {
     "name": "stderr",
     "output_type": "stream",
     "text": [
      "  4%|▎         | 266/7128 [05:29<2:55:00,  1.53s/it]"
     ]
    },
    {
     "name": "stdout",
     "output_type": "stream",
     "text": [
      "binary: 0.07375931739807129\n",
      "regression: 0.2566639482975006\n"
     ]
    },
    {
     "name": "stderr",
     "output_type": "stream",
     "text": [
      "  4%|▍         | 269/7128 [05:31<1:42:03,  1.12it/s]"
     ]
    },
    {
     "name": "stdout",
     "output_type": "stream",
     "text": [
      "binary: 0.06459057331085205\n",
      "regression: 0.22396732866764069\n",
      "binary: 0.056530509144067764\n",
      "regression: 0.14538460969924927\n",
      "binary: 0.08091723918914795\n",
      "regression: 0.2420365810394287\n"
     ]
    },
    {
     "name": "stderr",
     "output_type": "stream",
     "text": [
      "  4%|▍         | 271/7128 [05:31<1:09:39,  1.64it/s]"
     ]
    },
    {
     "name": "stdout",
     "output_type": "stream",
     "text": [
      "binary: 0.037719808518886566\n",
      "regression: 0.159481018781662\n",
      "binary: 0.07875679433345795\n",
      "regression: 0.24557514488697052\n",
      "binary: 0.06178043782711029\n",
      "regression: 0.25435999035835266\n"
     ]
    },
    {
     "name": "stderr",
     "output_type": "stream",
     "text": [
      "  4%|▍         | 273/7128 [05:38<3:11:54,  1.68s/it]"
     ]
    },
    {
     "name": "stdout",
     "output_type": "stream",
     "text": [
      "binary: 0.055385980755090714\n",
      "regression: 0.1873871237039566\n"
     ]
    },
    {
     "name": "stderr",
     "output_type": "stream",
     "text": [
      "  4%|▍         | 274/7128 [05:39<2:47:57,  1.47s/it]"
     ]
    },
    {
     "name": "stdout",
     "output_type": "stream",
     "text": [
      "binary: 0.05368535593152046\n",
      "regression: 0.17484571039676666\n"
     ]
    },
    {
     "name": "stderr",
     "output_type": "stream",
     "text": [
      "  4%|▍         | 276/7128 [05:40<2:03:59,  1.09s/it]"
     ]
    },
    {
     "name": "stdout",
     "output_type": "stream",
     "text": [
      "binary: 0.06349856406450272\n",
      "regression: 0.20722950994968414\n",
      "binary: 0.09037703275680542\n",
      "regression: 0.2603556215763092\n"
     ]
    },
    {
     "name": "stderr",
     "output_type": "stream",
     "text": [
      "  4%|▍         | 278/7128 [05:40<1:17:17,  1.48it/s]"
     ]
    },
    {
     "name": "stdout",
     "output_type": "stream",
     "text": [
      "binary: 0.056643884629011154\n",
      "regression: 0.25776171684265137\n",
      "binary: 0.054514043033123016\n",
      "regression: 0.21048524975776672\n"
     ]
    },
    {
     "name": "stderr",
     "output_type": "stream",
     "text": [
      "  4%|▍         | 279/7128 [05:40<1:03:53,  1.79it/s]"
     ]
    },
    {
     "name": "stdout",
     "output_type": "stream",
     "text": [
      "binary: 0.05985083058476448\n",
      "regression: 0.2055090069770813\n",
      "binary: 0.09250856935977936\n",
      "regression: 0.3277035355567932\n"
     ]
    },
    {
     "name": "stderr",
     "output_type": "stream",
     "text": [
      "  4%|▍         | 281/7128 [05:48<3:30:44,  1.85s/it]"
     ]
    },
    {
     "name": "stdout",
     "output_type": "stream",
     "text": [
      "binary: 0.08469181507825851\n",
      "regression: 0.2968948483467102\n"
     ]
    },
    {
     "name": "stderr",
     "output_type": "stream",
     "text": [
      "  4%|▍         | 282/7128 [05:49<2:58:54,  1.57s/it]"
     ]
    },
    {
     "name": "stdout",
     "output_type": "stream",
     "text": [
      "binary: 0.04345554858446121\n",
      "regression: 0.15142057836055756\n"
     ]
    },
    {
     "name": "stderr",
     "output_type": "stream",
     "text": [
      "  4%|▍         | 285/7128 [05:50<1:42:58,  1.11it/s]"
     ]
    },
    {
     "name": "stdout",
     "output_type": "stream",
     "text": [
      "binary: 0.09737978130578995\n",
      "regression: 0.2830764353275299\n",
      "binary: 0.03657691180706024\n",
      "regression: 0.15325535833835602\n",
      "binary: 0.07461226731538773\n",
      "regression: 0.21143880486488342\n",
      "binary: 0.04177534580230713\n",
      "regression: 0.19103139638900757\n"
     ]
    },
    {
     "name": "stderr",
     "output_type": "stream",
     "text": [
      "  4%|▍         | 287/7128 [05:50<1:08:13,  1.67it/s]"
     ]
    },
    {
     "name": "stdout",
     "output_type": "stream",
     "text": [
      "binary: 0.03640224039554596\n",
      "regression: 0.13402248919010162\n",
      "binary: 0.06350444257259369\n",
      "regression: 0.23706787824630737\n"
     ]
    },
    {
     "name": "stderr",
     "output_type": "stream",
     "text": [
      "  4%|▍         | 289/7128 [05:58<3:11:57,  1.68s/it]"
     ]
    },
    {
     "name": "stdout",
     "output_type": "stream",
     "text": [
      "binary: 0.056598637253046036\n",
      "regression: 0.1324249505996704\n"
     ]
    },
    {
     "name": "stderr",
     "output_type": "stream",
     "text": [
      "  4%|▍         | 290/7128 [05:58<2:48:38,  1.48s/it]"
     ]
    },
    {
     "name": "stdout",
     "output_type": "stream",
     "text": [
      "binary: 0.07585559040307999\n",
      "regression: 0.3078250288963318\n"
     ]
    },
    {
     "name": "stderr",
     "output_type": "stream",
     "text": [
      "  4%|▍         | 293/7128 [05:59<1:38:53,  1.15it/s]"
     ]
    },
    {
     "name": "stdout",
     "output_type": "stream",
     "text": [
      "binary: 0.040437474846839905\n",
      "regression: 0.14703644812107086\n",
      "binary: 0.0470300056040287\n",
      "regression: 0.1738230288028717\n",
      "binary: 0.05323556065559387\n",
      "regression: 0.18328042328357697\n"
     ]
    },
    {
     "name": "stderr",
     "output_type": "stream",
     "text": [
      "  4%|▍         | 296/7128 [06:00<55:25,  2.05it/s]  "
     ]
    },
    {
     "name": "stdout",
     "output_type": "stream",
     "text": [
      "binary: 0.04396393150091171\n",
      "regression: 0.16785575449466705\n",
      "binary: 0.07481438666582108\n",
      "regression: 0.3145364820957184\n",
      "binary: 0.07797225564718246\n",
      "regression: 0.3433891534805298\n"
     ]
    },
    {
     "name": "stderr",
     "output_type": "stream",
     "text": [
      "  4%|▍         | 297/7128 [06:07<3:56:26,  2.08s/it]"
     ]
    },
    {
     "name": "stdout",
     "output_type": "stream",
     "text": [
      "binary: 0.05228670313954353\n",
      "regression: 0.22997425496578217\n"
     ]
    },
    {
     "name": "stderr",
     "output_type": "stream",
     "text": [
      "  4%|▍         | 298/7128 [06:08<3:18:42,  1.75s/it]"
     ]
    },
    {
     "name": "stdout",
     "output_type": "stream",
     "text": [
      "binary: 0.09623870253562927\n",
      "regression: 0.2781227231025696\n"
     ]
    },
    {
     "name": "stderr",
     "output_type": "stream",
     "text": [
      "  4%|▍         | 300/7128 [06:09<2:11:32,  1.16s/it]"
     ]
    },
    {
     "name": "stdout",
     "output_type": "stream",
     "text": [
      "binary: 0.04765421897172928\n",
      "regression: 0.2157730907201767\n",
      "binary: 0.09630034863948822\n",
      "regression: 0.34903520345687866\n",
      "binary: 0.033012427389621735\n",
      "regression: 0.1241801306605339\n"
     ]
    },
    {
     "name": "stderr",
     "output_type": "stream",
     "text": [
      "  4%|▍         | 303/7128 [06:09<1:02:19,  1.83it/s]"
     ]
    },
    {
     "name": "stdout",
     "output_type": "stream",
     "text": [
      "binary: 0.04838656634092331\n",
      "regression: 0.14852209389209747\n",
      "binary: 0.043606892228126526\n",
      "regression: 0.22228026390075684\n",
      "binary: 0.06325767189264297\n",
      "regression: 0.2423800826072693\n"
     ]
    },
    {
     "name": "stderr",
     "output_type": "stream",
     "text": [
      "  4%|▍         | 305/7128 [06:17<3:34:27,  1.89s/it]"
     ]
    },
    {
     "name": "stdout",
     "output_type": "stream",
     "text": [
      "binary: 0.05244215205311775\n",
      "regression: 0.17454689741134644\n"
     ]
    },
    {
     "name": "stderr",
     "output_type": "stream",
     "text": [
      "  4%|▍         | 306/7128 [06:18<3:02:28,  1.60s/it]"
     ]
    },
    {
     "name": "stdout",
     "output_type": "stream",
     "text": [
      "binary: 0.06405302882194519\n",
      "regression: 0.2080582231283188\n"
     ]
    },
    {
     "name": "stderr",
     "output_type": "stream",
     "text": [
      "  4%|▍         | 308/7128 [06:19<2:04:57,  1.10s/it]"
     ]
    },
    {
     "name": "stdout",
     "output_type": "stream",
     "text": [
      "binary: 0.04527450352907181\n",
      "regression: 0.21043266355991364\n",
      "binary: 0.05333028733730316\n",
      "regression: 0.26071789860725403\n",
      "binary: 0.046122390776872635\n",
      "regression: 0.2151576280593872\n"
     ]
    },
    {
     "name": "stderr",
     "output_type": "stream",
     "text": [
      "  4%|▍         | 312/7128 [06:19<50:36,  2.24it/s]  "
     ]
    },
    {
     "name": "stdout",
     "output_type": "stream",
     "text": [
      "binary: 0.07376326620578766\n",
      "regression: 0.2687096893787384\n",
      "binary: 0.06061068922281265\n",
      "regression: 0.2569485604763031\n",
      "binary: 0.053648531436920166\n",
      "regression: 0.1821853518486023\n"
     ]
    },
    {
     "name": "stderr",
     "output_type": "stream",
     "text": [
      "  4%|▍         | 313/7128 [06:27<3:45:56,  1.99s/it]"
     ]
    },
    {
     "name": "stdout",
     "output_type": "stream",
     "text": [
      "binary: 0.056885529309511185\n",
      "regression: 0.20262475311756134\n"
     ]
    },
    {
     "name": "stderr",
     "output_type": "stream",
     "text": [
      "  4%|▍         | 314/7128 [06:27<3:08:20,  1.66s/it]"
     ]
    },
    {
     "name": "stdout",
     "output_type": "stream",
     "text": [
      "binary: 0.10377369076013565\n",
      "regression: 0.4099847674369812\n"
     ]
    },
    {
     "name": "stderr",
     "output_type": "stream",
     "text": [
      "  4%|▍         | 316/7128 [06:28<2:07:59,  1.13s/it]"
     ]
    },
    {
     "name": "stdout",
     "output_type": "stream",
     "text": [
      "binary: 0.10007965564727783\n",
      "regression: 0.30019769072532654\n",
      "binary: 0.06995692849159241\n",
      "regression: 0.23176300525665283\n",
      "binary: 0.07350407540798187\n",
      "regression: 0.27569177746772766\n"
     ]
    },
    {
     "name": "stderr",
     "output_type": "stream",
     "text": [
      "  4%|▍         | 319/7128 [06:29<1:01:42,  1.84it/s]"
     ]
    },
    {
     "name": "stdout",
     "output_type": "stream",
     "text": [
      "binary: 0.0658978670835495\n",
      "regression: 0.22364495694637299\n",
      "binary: 0.042457692325115204\n",
      "regression: 0.1462518870830536\n",
      "binary: 0.07480635493993759\n",
      "regression: 0.31229355931282043\n"
     ]
    },
    {
     "name": "stderr",
     "output_type": "stream",
     "text": [
      "  5%|▍         | 321/7128 [06:36<3:36:21,  1.91s/it]"
     ]
    },
    {
     "name": "stdout",
     "output_type": "stream",
     "text": [
      "binary: 0.06963223963975906\n",
      "regression: 0.24147644639015198\n"
     ]
    },
    {
     "name": "stderr",
     "output_type": "stream",
     "text": [
      "  5%|▍         | 322/7128 [06:37<3:03:09,  1.61s/it]"
     ]
    },
    {
     "name": "stdout",
     "output_type": "stream",
     "text": [
      "binary: 0.0795951560139656\n",
      "regression: 0.27312400937080383\n"
     ]
    },
    {
     "name": "stderr",
     "output_type": "stream",
     "text": [
      "  5%|▍         | 325/7128 [06:38<1:41:55,  1.11it/s]"
     ]
    },
    {
     "name": "stdout",
     "output_type": "stream",
     "text": [
      "binary: 0.061144448816776276\n",
      "regression: 0.2565724551677704\n",
      "binary: 0.03591835871338844\n",
      "regression: 0.12944501638412476\n",
      "binary: 0.04535628855228424\n",
      "regression: 0.17411604523658752\n"
     ]
    },
    {
     "name": "stderr",
     "output_type": "stream",
     "text": [
      "  5%|▍         | 327/7128 [06:38<1:07:42,  1.67it/s]"
     ]
    },
    {
     "name": "stdout",
     "output_type": "stream",
     "text": [
      "binary: 0.0571415089070797\n",
      "regression: 0.202525332570076\n",
      "binary: 0.06608296930789948\n",
      "regression: 0.25049924850463867\n",
      "binary: 0.053463175892829895\n",
      "regression: 0.2340584546327591\n"
     ]
    },
    {
     "name": "stderr",
     "output_type": "stream",
     "text": [
      "  5%|▍         | 329/7128 [06:46<3:19:17,  1.76s/it]"
     ]
    },
    {
     "name": "stdout",
     "output_type": "stream",
     "text": [
      "binary: 0.0615205317735672\n",
      "regression: 0.2724335491657257\n"
     ]
    },
    {
     "name": "stderr",
     "output_type": "stream",
     "text": [
      "  5%|▍         | 330/7128 [06:47<2:53:55,  1.54s/it]"
     ]
    },
    {
     "name": "stdout",
     "output_type": "stream",
     "text": [
      "binary: 0.07840586453676224\n",
      "regression: 0.2789912819862366\n"
     ]
    },
    {
     "name": "stderr",
     "output_type": "stream",
     "text": [
      "  5%|▍         | 333/7128 [06:48<1:41:18,  1.12it/s]"
     ]
    },
    {
     "name": "stdout",
     "output_type": "stream",
     "text": [
      "binary: 0.050834231078624725\n",
      "regression: 0.20847761631011963\n",
      "binary: 0.04021821543574333\n",
      "regression: 0.1346433311700821\n",
      "binary: 0.06699253618717194\n",
      "regression: 0.2703414857387543\n"
     ]
    },
    {
     "name": "stderr",
     "output_type": "stream",
     "text": [
      "  5%|▍         | 335/7128 [06:48<1:08:30,  1.65it/s]"
     ]
    },
    {
     "name": "stdout",
     "output_type": "stream",
     "text": [
      "binary: 0.083316870033741\n",
      "regression: 0.30439960956573486\n",
      "binary: 0.05905119329690933\n",
      "regression: 0.19059160351753235\n",
      "binary: 0.04373138025403023\n",
      "regression: 0.1725544035434723\n"
     ]
    },
    {
     "name": "stderr",
     "output_type": "stream",
     "text": [
      "  5%|▍         | 337/7128 [06:56<3:56:31,  2.09s/it]"
     ]
    },
    {
     "name": "stdout",
     "output_type": "stream",
     "text": [
      "binary: 0.09528923034667969\n",
      "regression: 0.29294824600219727\n"
     ]
    },
    {
     "name": "stderr",
     "output_type": "stream",
     "text": [
      "  5%|▍         | 338/7128 [06:57<3:19:01,  1.76s/it]"
     ]
    },
    {
     "name": "stdout",
     "output_type": "stream",
     "text": [
      "binary: 0.036689866334199905\n",
      "regression: 0.1357067972421646\n"
     ]
    },
    {
     "name": "stderr",
     "output_type": "stream",
     "text": [
      "  5%|▍         | 341/7128 [06:58<1:44:37,  1.08it/s]"
     ]
    },
    {
     "name": "stdout",
     "output_type": "stream",
     "text": [
      "binary: 0.05370419844985008\n",
      "regression: 0.2328728437423706\n",
      "binary: 0.06418208032846451\n",
      "regression: 0.21873962879180908\n",
      "binary: 0.045190904289484024\n",
      "regression: 0.1505512297153473\n"
     ]
    },
    {
     "name": "stderr",
     "output_type": "stream",
     "text": [
      "  5%|▍         | 343/7128 [06:58<1:08:33,  1.65it/s]"
     ]
    },
    {
     "name": "stdout",
     "output_type": "stream",
     "text": [
      "binary: 0.095891073346138\n",
      "regression: 0.27358731627464294\n",
      "binary: 0.09806536883115768\n",
      "regression: 0.317317396402359\n",
      "binary: 0.041277557611465454\n",
      "regression: 0.18991903960704803\n"
     ]
    },
    {
     "name": "stderr",
     "output_type": "stream",
     "text": [
      "  5%|▍         | 345/7128 [07:05<3:05:47,  1.64s/it]"
     ]
    },
    {
     "name": "stdout",
     "output_type": "stream",
     "text": [
      "binary: 0.08590047061443329\n",
      "regression: 0.25151360034942627\n"
     ]
    },
    {
     "name": "stderr",
     "output_type": "stream",
     "text": [
      "  5%|▍         | 346/7128 [07:06<2:52:21,  1.52s/it]"
     ]
    },
    {
     "name": "stdout",
     "output_type": "stream",
     "text": [
      "binary: 0.04394565522670746\n",
      "regression: 0.17709708213806152\n"
     ]
    },
    {
     "name": "stderr",
     "output_type": "stream",
     "text": [
      "  5%|▍         | 349/7128 [07:08<1:45:18,  1.07it/s]"
     ]
    },
    {
     "name": "stdout",
     "output_type": "stream",
     "text": [
      "binary: 0.03894971311092377\n",
      "regression: 0.1708495318889618\n",
      "binary: 0.08503616601228714\n",
      "regression: 0.3299035429954529\n",
      "binary: 0.0557401068508625\n",
      "regression: 0.2091585248708725\n",
      "binary: 0.07657016068696976\n",
      "regression: 0.21482513844966888\n"
     ]
    },
    {
     "name": "stderr",
     "output_type": "stream",
     "text": [
      "  5%|▍         | 352/7128 [07:08<56:11,  2.01it/s]  "
     ]
    },
    {
     "name": "stdout",
     "output_type": "stream",
     "text": [
      "binary: 0.061855465173721313\n",
      "regression: 0.20672951638698578\n",
      "binary: 0.06101406365633011\n",
      "regression: 0.21951375901699066\n"
     ]
    },
    {
     "name": "stderr",
     "output_type": "stream",
     "text": [
      "  5%|▍         | 353/7128 [07:16<3:57:06,  2.10s/it]"
     ]
    },
    {
     "name": "stdout",
     "output_type": "stream",
     "text": [
      "binary: 0.054781313985586166\n",
      "regression: 0.17449940741062164\n"
     ]
    },
    {
     "name": "stderr",
     "output_type": "stream",
     "text": [
      "  5%|▍         | 354/7128 [07:16<3:17:54,  1.75s/it]"
     ]
    },
    {
     "name": "stdout",
     "output_type": "stream",
     "text": [
      "binary: 0.08694559335708618\n",
      "regression: 0.224798783659935\n"
     ]
    },
    {
     "name": "stderr",
     "output_type": "stream",
     "text": [
      "  5%|▍         | 355/7128 [07:18<3:10:33,  1.69s/it]"
     ]
    },
    {
     "name": "stdout",
     "output_type": "stream",
     "text": [
      "binary: 0.07795731723308563\n",
      "regression: 0.2789108455181122\n",
      "binary: 0.06921853125095367\n",
      "regression: 0.17690148949623108\n"
     ]
    },
    {
     "name": "stderr",
     "output_type": "stream",
     "text": [
      "  5%|▌         | 357/7128 [07:18<1:54:09,  1.01s/it]"
     ]
    },
    {
     "name": "stdout",
     "output_type": "stream",
     "text": [
      "binary: 0.05671615153551102\n",
      "regression: 0.22856876254081726\n",
      "binary: 0.06305821239948273\n",
      "regression: 0.29437607526779175\n"
     ]
    },
    {
     "name": "stderr",
     "output_type": "stream",
     "text": [
      "  5%|▌         | 359/7128 [07:18<1:16:42,  1.47it/s]"
     ]
    },
    {
     "name": "stdout",
     "output_type": "stream",
     "text": [
      "binary: 0.051620326936244965\n",
      "regression: 0.1901925802230835\n",
      "binary: 0.06855849176645279\n",
      "regression: 0.27752116322517395\n"
     ]
    },
    {
     "name": "stderr",
     "output_type": "stream",
     "text": [
      "  5%|▌         | 361/7128 [07:26<3:21:56,  1.79s/it]"
     ]
    },
    {
     "name": "stdout",
     "output_type": "stream",
     "text": [
      "binary: 0.07714927941560745\n",
      "regression: 0.2810027301311493\n"
     ]
    },
    {
     "name": "stderr",
     "output_type": "stream",
     "text": [
      "  5%|▌         | 362/7128 [07:27<3:00:10,  1.60s/it]"
     ]
    },
    {
     "name": "stdout",
     "output_type": "stream",
     "text": [
      "binary: 0.055756643414497375\n",
      "regression: 0.22391517460346222\n"
     ]
    },
    {
     "name": "stderr",
     "output_type": "stream",
     "text": [
      "  5%|▌         | 365/7128 [07:29<2:00:34,  1.07s/it]"
     ]
    },
    {
     "name": "stdout",
     "output_type": "stream",
     "text": [
      "binary: 0.04724864661693573\n",
      "regression: 0.20010161399841309\n",
      "binary: 0.08775469660758972\n",
      "regression: 0.27760523557662964\n",
      "binary: 0.06779588013887405\n",
      "regression: 0.242908775806427\n"
     ]
    },
    {
     "name": "stderr",
     "output_type": "stream",
     "text": [
      "  5%|▌         | 367/7128 [07:29<1:20:29,  1.40it/s]"
     ]
    },
    {
     "name": "stdout",
     "output_type": "stream",
     "text": [
      "binary: 0.03243916854262352\n",
      "regression: 0.13782627880573273\n",
      "binary: 0.062394190579652786\n",
      "regression: 0.18434734642505646\n",
      "binary: 0.06546948105096817\n",
      "regression: 0.2040979415178299\n"
     ]
    },
    {
     "name": "stderr",
     "output_type": "stream",
     "text": [
      "  5%|▌         | 369/7128 [07:36<3:08:50,  1.68s/it]"
     ]
    },
    {
     "name": "stdout",
     "output_type": "stream",
     "text": [
      "binary: 0.08731262385845184\n",
      "regression: 0.2716224491596222\n"
     ]
    },
    {
     "name": "stderr",
     "output_type": "stream",
     "text": [
      "  5%|▌         | 370/7128 [07:37<2:50:37,  1.51s/it]"
     ]
    },
    {
     "name": "stdout",
     "output_type": "stream",
     "text": [
      "binary: 0.029371459037065506\n",
      "regression: 0.09592482447624207\n"
     ]
    },
    {
     "name": "stderr",
     "output_type": "stream",
     "text": [
      "  5%|▌         | 372/7128 [07:39<2:15:47,  1.21s/it]"
     ]
    },
    {
     "name": "stdout",
     "output_type": "stream",
     "text": [
      "binary: 0.060800060629844666\n",
      "regression: 0.21856430172920227\n",
      "binary: 0.06055005267262459\n",
      "regression: 0.21779108047485352\n"
     ]
    },
    {
     "name": "stderr",
     "output_type": "stream",
     "text": [
      "  5%|▌         | 374/7128 [07:39<1:24:30,  1.33it/s]"
     ]
    },
    {
     "name": "stdout",
     "output_type": "stream",
     "text": [
      "binary: 0.05249907076358795\n",
      "regression: 0.1742454618215561\n",
      "binary: 0.060710616409778595\n",
      "regression: 0.21760974824428558\n",
      "binary: 0.07720790058374405\n",
      "regression: 0.27129969000816345\n"
     ]
    },
    {
     "name": "stderr",
     "output_type": "stream",
     "text": [
      "  5%|▌         | 376/7128 [07:39<57:33,  1.96it/s]  "
     ]
    },
    {
     "name": "stdout",
     "output_type": "stream",
     "text": [
      "binary: 0.05451349541544914\n",
      "regression: 0.21242520213127136\n"
     ]
    },
    {
     "name": "stderr",
     "output_type": "stream",
     "text": [
      "  5%|▌         | 377/7128 [07:46<3:27:44,  1.85s/it]"
     ]
    },
    {
     "name": "stdout",
     "output_type": "stream",
     "text": [
      "binary: 0.03912936523556709\n",
      "regression: 0.17535215616226196\n"
     ]
    },
    {
     "name": "stderr",
     "output_type": "stream",
     "text": [
      "  5%|▌         | 378/7128 [07:47<2:59:56,  1.60s/it]"
     ]
    },
    {
     "name": "stdout",
     "output_type": "stream",
     "text": [
      "binary: 0.03554172068834305\n",
      "regression: 0.12698496878147125\n"
     ]
    },
    {
     "name": "stderr",
     "output_type": "stream",
     "text": [
      "  5%|▌         | 380/7128 [07:49<2:29:41,  1.33s/it]"
     ]
    },
    {
     "name": "stdout",
     "output_type": "stream",
     "text": [
      "binary: 0.08726771175861359\n",
      "regression: 0.23124471306800842\n",
      "binary: 0.06906138360500336\n",
      "regression: 0.2758885324001312\n"
     ]
    },
    {
     "name": "stderr",
     "output_type": "stream",
     "text": [
      "  5%|▌         | 382/7128 [07:49<1:28:44,  1.27it/s]"
     ]
    },
    {
     "name": "stdout",
     "output_type": "stream",
     "text": [
      "binary: 0.03782157972455025\n",
      "regression: 0.14250218868255615\n",
      "binary: 0.05366979166865349\n",
      "regression: 0.1811763495206833\n",
      "binary: 0.04742767661809921\n",
      "regression: 0.15942613780498505\n"
     ]
    },
    {
     "name": "stderr",
     "output_type": "stream",
     "text": [
      "  5%|▌         | 384/7128 [07:50<58:57,  1.91it/s]  "
     ]
    },
    {
     "name": "stdout",
     "output_type": "stream",
     "text": [
      "binary: 0.05100700259208679\n",
      "regression: 0.1744581013917923\n"
     ]
    },
    {
     "name": "stderr",
     "output_type": "stream",
     "text": [
      "  5%|▌         | 385/7128 [07:56<3:18:04,  1.76s/it]"
     ]
    },
    {
     "name": "stdout",
     "output_type": "stream",
     "text": [
      "binary: 0.0698411837220192\n",
      "regression: 0.2543150782585144\n"
     ]
    },
    {
     "name": "stderr",
     "output_type": "stream",
     "text": [
      "  5%|▌         | 386/7128 [07:57<2:48:27,  1.50s/it]"
     ]
    },
    {
     "name": "stdout",
     "output_type": "stream",
     "text": [
      "binary: 0.0724950060248375\n",
      "regression: 0.21812638640403748\n"
     ]
    },
    {
     "name": "stderr",
     "output_type": "stream",
     "text": [
      "  5%|▌         | 389/7128 [07:59<1:59:31,  1.06s/it]"
     ]
    },
    {
     "name": "stdout",
     "output_type": "stream",
     "text": [
      "binary: 0.0896541029214859\n",
      "regression: 0.2856389880180359\n",
      "binary: 0.03730566054582596\n",
      "regression: 0.15379254519939423\n",
      "binary: 0.06375935673713684\n",
      "regression: 0.2068454474210739\n"
     ]
    },
    {
     "name": "stderr",
     "output_type": "stream",
     "text": [
      "  5%|▌         | 392/7128 [08:00<1:00:48,  1.85it/s]"
     ]
    },
    {
     "name": "stdout",
     "output_type": "stream",
     "text": [
      "binary: 0.07637403905391693\n",
      "regression: 0.264673113822937\n",
      "binary: 0.06099645420908928\n",
      "regression: 0.24239188432693481\n",
      "binary: 0.07613174617290497\n",
      "regression: 0.2962016761302948\n"
     ]
    },
    {
     "name": "stderr",
     "output_type": "stream",
     "text": [
      "  6%|▌         | 393/7128 [08:06<3:17:35,  1.76s/it]"
     ]
    },
    {
     "name": "stdout",
     "output_type": "stream",
     "text": [
      "binary: 0.0699494481086731\n",
      "regression: 0.2515423893928528\n"
     ]
    },
    {
     "name": "stderr",
     "output_type": "stream",
     "text": [
      "  6%|▌         | 394/7128 [08:06<2:47:23,  1.49s/it]"
     ]
    },
    {
     "name": "stdout",
     "output_type": "stream",
     "text": [
      "binary: 0.04479454085230827\n",
      "regression: 0.16222037374973297\n"
     ]
    },
    {
     "name": "stderr",
     "output_type": "stream",
     "text": [
      "  6%|▌         | 396/7128 [08:09<2:31:12,  1.35s/it]"
     ]
    },
    {
     "name": "stdout",
     "output_type": "stream",
     "text": [
      "binary: 0.06509701907634735\n",
      "regression: 0.24826321005821228\n",
      "binary: 0.049705490469932556\n",
      "regression: 0.14620259404182434\n"
     ]
    },
    {
     "name": "stderr",
     "output_type": "stream",
     "text": [
      "  6%|▌         | 399/7128 [08:09<1:08:08,  1.65it/s]"
     ]
    },
    {
     "name": "stdout",
     "output_type": "stream",
     "text": [
      "binary: 0.05512801557779312\n",
      "regression: 0.19923211634159088\n",
      "binary: 0.052674006670713425\n",
      "regression: 0.24739468097686768\n",
      "binary: 0.08106487989425659\n",
      "regression: 0.2568093240261078\n"
     ]
    },
    {
     "name": "stderr",
     "output_type": "stream",
     "text": [
      "  6%|▌         | 400/7128 [08:10<55:15,  2.03it/s]  "
     ]
    },
    {
     "name": "stdout",
     "output_type": "stream",
     "text": [
      "binary: 0.058613862842321396\n",
      "regression: 0.22815930843353271\n"
     ]
    },
    {
     "name": "stderr",
     "output_type": "stream",
     "text": [
      "  6%|▌         | 401/7128 [08:16<3:57:20,  2.12s/it]"
     ]
    },
    {
     "name": "stdout",
     "output_type": "stream",
     "text": [
      "binary: 0.06658890098333359\n",
      "regression: 0.26109060645103455\n"
     ]
    },
    {
     "name": "stderr",
     "output_type": "stream",
     "text": [
      "  6%|▌         | 402/7128 [08:17<3:18:09,  1.77s/it]"
     ]
    },
    {
     "name": "stdout",
     "output_type": "stream",
     "text": [
      "binary: 0.07034233957529068\n",
      "regression: 0.27142807841300964\n"
     ]
    },
    {
     "name": "stderr",
     "output_type": "stream",
     "text": [
      "  6%|▌         | 405/7128 [08:20<2:13:08,  1.19s/it]"
     ]
    },
    {
     "name": "stdout",
     "output_type": "stream",
     "text": [
      "binary: 0.08173556625843048\n",
      "regression: 0.32055145502090454\n",
      "binary: 0.07124729454517365\n",
      "regression: 0.2409449815750122\n",
      "binary: 0.06290785223245621\n",
      "regression: 0.26937997341156006\n"
     ]
    },
    {
     "name": "stderr",
     "output_type": "stream",
     "text": [
      "  6%|▌         | 407/7128 [08:20<1:21:15,  1.38it/s]"
     ]
    },
    {
     "name": "stdout",
     "output_type": "stream",
     "text": [
      "binary: 0.06542248278856277\n",
      "regression: 0.24581079185009003\n",
      "binary: 0.07954855263233185\n",
      "regression: 0.29320356249809265\n"
     ]
    },
    {
     "name": "stderr",
     "output_type": "stream",
     "text": [
      "  6%|▌         | 408/7128 [08:21<1:02:57,  1.78it/s]"
     ]
    },
    {
     "name": "stdout",
     "output_type": "stream",
     "text": [
      "binary: 0.0680878683924675\n",
      "regression: 0.22171416878700256\n"
     ]
    },
    {
     "name": "stderr",
     "output_type": "stream",
     "text": [
      "  6%|▌         | 409/7128 [08:28<4:20:20,  2.32s/it]"
     ]
    },
    {
     "name": "stdout",
     "output_type": "stream",
     "text": [
      "binary: 0.06061304360628128\n",
      "regression: 0.1843164712190628\n"
     ]
    },
    {
     "name": "stderr",
     "output_type": "stream",
     "text": [
      "  6%|▌         | 410/7128 [08:28<3:31:53,  1.89s/it]"
     ]
    },
    {
     "name": "stdout",
     "output_type": "stream",
     "text": [
      "binary: 0.08234568685293198\n",
      "regression: 0.31196972727775574\n"
     ]
    },
    {
     "name": "stderr",
     "output_type": "stream",
     "text": [
      "  6%|▌         | 413/7128 [08:32<2:21:42,  1.27s/it]"
     ]
    },
    {
     "name": "stdout",
     "output_type": "stream",
     "text": [
      "binary: 0.06893131881952286\n",
      "regression: 0.2046557366847992\n",
      "binary: 0.044145356863737106\n",
      "regression: 0.17486236989498138\n",
      "binary: 0.05812549591064453\n",
      "regression: 0.24358434975147247\n"
     ]
    },
    {
     "name": "stderr",
     "output_type": "stream",
     "text": [
      "  6%|▌         | 415/7128 [08:32<1:24:38,  1.32it/s]"
     ]
    },
    {
     "name": "stdout",
     "output_type": "stream",
     "text": [
      "binary: 0.06829113513231277\n",
      "regression: 0.22300490736961365\n",
      "binary: 0.06529189646244049\n",
      "regression: 0.25973236560821533\n",
      "binary: 0.041660014539957047\n",
      "regression: 0.13391421735286713\n"
     ]
    },
    {
     "name": "stderr",
     "output_type": "stream",
     "text": [
      "  6%|▌         | 417/7128 [08:39<3:29:47,  1.88s/it]"
     ]
    },
    {
     "name": "stdout",
     "output_type": "stream",
     "text": [
      "binary: 0.04091331735253334\n",
      "regression: 0.14925168454647064\n"
     ]
    },
    {
     "name": "stderr",
     "output_type": "stream",
     "text": [
      "  6%|▌         | 418/7128 [08:39<2:59:35,  1.61s/it]"
     ]
    },
    {
     "name": "stdout",
     "output_type": "stream",
     "text": [
      "binary: 0.06639932841062546\n",
      "regression: 0.26108062267303467\n"
     ]
    },
    {
     "name": "stderr",
     "output_type": "stream",
     "text": [
      "  6%|▌         | 420/7128 [08:42<2:42:19,  1.45s/it]"
     ]
    },
    {
     "name": "stdout",
     "output_type": "stream",
     "text": [
      "binary: 0.057902995496988297\n",
      "regression: 0.20189757645130157\n",
      "binary: 0.08094654232263565\n",
      "regression: 0.26926881074905396\n"
     ]
    },
    {
     "name": "stderr",
     "output_type": "stream",
     "text": [
      "  6%|▌         | 422/7128 [08:42<1:35:47,  1.17it/s]"
     ]
    },
    {
     "name": "stdout",
     "output_type": "stream",
     "text": [
      "binary: 0.06401560455560684\n",
      "regression: 0.27920910716056824\n",
      "binary: 0.052301522344350815\n",
      "regression: 0.20969024300575256\n",
      "binary: 0.0566655769944191\n",
      "regression: 0.2532760202884674\n"
     ]
    },
    {
     "name": "stderr",
     "output_type": "stream",
     "text": [
      "  6%|▌         | 424/7128 [08:43<1:02:49,  1.78it/s]"
     ]
    },
    {
     "name": "stdout",
     "output_type": "stream",
     "text": [
      "binary: 0.07666868716478348\n",
      "regression: 0.26265496015548706\n"
     ]
    },
    {
     "name": "stderr",
     "output_type": "stream",
     "text": [
      "  6%|▌         | 425/7128 [08:49<3:12:33,  1.72s/it]"
     ]
    },
    {
     "name": "stdout",
     "output_type": "stream",
     "text": [
      "binary: 0.05049007385969162\n",
      "regression: 0.22437523305416107\n"
     ]
    },
    {
     "name": "stderr",
     "output_type": "stream",
     "text": [
      "  6%|▌         | 426/7128 [08:49<2:40:10,  1.43s/it]"
     ]
    },
    {
     "name": "stdout",
     "output_type": "stream",
     "text": [
      "binary: 0.08860202878713608\n",
      "regression: 0.2562977969646454\n"
     ]
    },
    {
     "name": "stderr",
     "output_type": "stream",
     "text": [
      "  6%|▌         | 427/7128 [08:52<3:22:52,  1.82s/it]"
     ]
    },
    {
     "name": "stdout",
     "output_type": "stream",
     "text": [
      "binary: 0.06729548424482346\n",
      "regression: 0.2412271946668625\n",
      "binary: 0.04340951889753342\n",
      "regression: 0.14944501221179962\n",
      "binary: 0.09279109537601471\n",
      "regression: 0.2962278127670288\n"
     ]
    },
    {
     "name": "stderr",
     "output_type": "stream",
     "text": [
      "  6%|▌         | 431/7128 [08:52<1:20:19,  1.39it/s]"
     ]
    },
    {
     "name": "stdout",
     "output_type": "stream",
     "text": [
      "binary: 0.04623141512274742\n",
      "regression: 0.1642337590456009\n",
      "binary: 0.08168501406908035\n",
      "regression: 0.3239321708679199\n"
     ]
    },
    {
     "name": "stderr",
     "output_type": "stream",
     "text": [
      "  6%|▌         | 432/7128 [08:53<1:07:06,  1.66it/s]"
     ]
    },
    {
     "name": "stdout",
     "output_type": "stream",
     "text": [
      "binary: 0.07335854321718216\n",
      "regression: 0.21663936972618103\n"
     ]
    },
    {
     "name": "stderr",
     "output_type": "stream",
     "text": [
      "  6%|▌         | 433/7128 [08:58<3:20:08,  1.79s/it]"
     ]
    },
    {
     "name": "stdout",
     "output_type": "stream",
     "text": [
      "binary: 0.0632331445813179\n",
      "regression: 0.2250775843858719\n"
     ]
    },
    {
     "name": "stderr",
     "output_type": "stream",
     "text": [
      "  6%|▌         | 434/7128 [08:59<2:42:34,  1.46s/it]"
     ]
    },
    {
     "name": "stdout",
     "output_type": "stream",
     "text": [
      "binary: 0.06911659985780716\n",
      "regression: 0.18647713959217072\n"
     ]
    },
    {
     "name": "stderr",
     "output_type": "stream",
     "text": [
      "  6%|▌         | 436/7128 [09:02<2:34:38,  1.39s/it]"
     ]
    },
    {
     "name": "stdout",
     "output_type": "stream",
     "text": [
      "binary: 0.08958572149276733\n",
      "regression: 0.28616249561309814\n",
      "binary: 0.06682480126619339\n",
      "regression: 0.24218428134918213\n"
     ]
    },
    {
     "name": "stderr",
     "output_type": "stream",
     "text": [
      "  6%|▌         | 438/7128 [09:02<1:25:44,  1.30it/s]"
     ]
    },
    {
     "name": "stdout",
     "output_type": "stream",
     "text": [
      "binary: 0.03902940824627876\n",
      "regression: 0.14695018529891968\n",
      "binary: 0.05897105485200882\n",
      "regression: 0.19708408415317535\n",
      "binary: 0.08122149854898453\n",
      "regression: 0.23522213101387024\n"
     ]
    },
    {
     "name": "stderr",
     "output_type": "stream",
     "text": [
      "  6%|▌         | 440/7128 [09:02<50:10,  2.22it/s]  "
     ]
    },
    {
     "name": "stdout",
     "output_type": "stream",
     "text": [
      "binary: 0.06387199461460114\n",
      "regression: 0.271987646818161\n"
     ]
    },
    {
     "name": "stderr",
     "output_type": "stream",
     "text": [
      "  6%|▌         | 441/7128 [09:08<3:25:26,  1.84s/it]"
     ]
    },
    {
     "name": "stdout",
     "output_type": "stream",
     "text": [
      "binary: 0.05553332716226578\n",
      "regression: 0.18979467451572418\n"
     ]
    },
    {
     "name": "stderr",
     "output_type": "stream",
     "text": [
      "  6%|▌         | 442/7128 [09:09<2:57:08,  1.59s/it]"
     ]
    },
    {
     "name": "stdout",
     "output_type": "stream",
     "text": [
      "binary: 0.082127146422863\n",
      "regression: 0.2862153649330139\n"
     ]
    },
    {
     "name": "stderr",
     "output_type": "stream",
     "text": [
      "  6%|▌         | 444/7128 [09:13<2:46:07,  1.49s/it]"
     ]
    },
    {
     "name": "stdout",
     "output_type": "stream",
     "text": [
      "binary: 0.037727776914834976\n",
      "regression: 0.13482892513275146\n",
      "binary: 0.049934934824705124\n",
      "regression: 0.19783079624176025\n",
      "binary: 0.06772975623607635\n",
      "regression: 0.21264146268367767\n"
     ]
    },
    {
     "name": "stderr",
     "output_type": "stream",
     "text": [
      "  6%|▋         | 448/7128 [09:13<1:02:45,  1.77it/s]"
     ]
    },
    {
     "name": "stdout",
     "output_type": "stream",
     "text": [
      "binary: 0.1058410182595253\n",
      "regression: 0.3067091107368469\n",
      "binary: 0.08863871544599533\n",
      "regression: 0.2860528826713562\n",
      "binary: 0.04634765535593033\n",
      "regression: 0.16946378350257874\n"
     ]
    },
    {
     "name": "stderr",
     "output_type": "stream",
     "text": [
      "  6%|▋         | 449/7128 [09:19<3:10:34,  1.71s/it]"
     ]
    },
    {
     "name": "stdout",
     "output_type": "stream",
     "text": [
      "binary: 0.06152790039777756\n",
      "regression: 0.24747255444526672\n"
     ]
    },
    {
     "name": "stderr",
     "output_type": "stream",
     "text": [
      "  6%|▋         | 450/7128 [09:19<2:38:51,  1.43s/it]"
     ]
    },
    {
     "name": "stdout",
     "output_type": "stream",
     "text": [
      "binary: 0.0461186058819294\n",
      "regression: 0.1492939442396164\n"
     ]
    },
    {
     "name": "stderr",
     "output_type": "stream",
     "text": [
      "  6%|▋         | 451/7128 [09:23<3:33:51,  1.92s/it]"
     ]
    },
    {
     "name": "stdout",
     "output_type": "stream",
     "text": [
      "binary: 0.054022710770368576\n",
      "regression: 0.16655735671520233\n",
      "binary: 0.11143286526203156\n",
      "regression: 0.2660102844238281\n"
     ]
    },
    {
     "name": "stderr",
     "output_type": "stream",
     "text": [
      "  6%|▋         | 453/7128 [09:23<2:07:29,  1.15s/it]"
     ]
    },
    {
     "name": "stdout",
     "output_type": "stream",
     "text": [
      "binary: 0.06982529163360596\n",
      "regression: 0.21029962599277496\n",
      "binary: 0.05389312654733658\n",
      "regression: 0.1543886512517929\n"
     ]
    },
    {
     "name": "stderr",
     "output_type": "stream",
     "text": [
      "  6%|▋         | 455/7128 [09:23<1:24:18,  1.32it/s]"
     ]
    },
    {
     "name": "stdout",
     "output_type": "stream",
     "text": [
      "binary: 0.07006651163101196\n",
      "regression: 0.24159833788871765\n",
      "binary: 0.06275904178619385\n",
      "regression: 0.24720153212547302\n"
     ]
    },
    {
     "name": "stderr",
     "output_type": "stream",
     "text": [
      "  6%|▋         | 457/7128 [09:30<3:06:07,  1.67s/it]"
     ]
    },
    {
     "name": "stdout",
     "output_type": "stream",
     "text": [
      "binary: 0.10054183751344681\n",
      "regression: 0.2603100836277008\n"
     ]
    },
    {
     "name": "stderr",
     "output_type": "stream",
     "text": [
      "  6%|▋         | 458/7128 [09:30<2:42:45,  1.46s/it]"
     ]
    },
    {
     "name": "stdout",
     "output_type": "stream",
     "text": [
      "binary: 0.0738845020532608\n",
      "regression: 0.2314615696668625\n"
     ]
    },
    {
     "name": "stderr",
     "output_type": "stream",
     "text": [
      "  6%|▋         | 460/7128 [09:34<2:51:19,  1.54s/it]"
     ]
    },
    {
     "name": "stdout",
     "output_type": "stream",
     "text": [
      "binary: 0.0719120129942894\n",
      "regression: 0.21061469614505768\n",
      "binary: 0.05623167008161545\n",
      "regression: 0.18831771612167358\n",
      "binary: 0.04527390003204346\n",
      "regression: 0.16900315880775452\n"
     ]
    },
    {
     "name": "stderr",
     "output_type": "stream",
     "text": [
      "  6%|▋         | 463/7128 [09:35<1:25:27,  1.30it/s]"
     ]
    },
    {
     "name": "stdout",
     "output_type": "stream",
     "text": [
      "binary: 0.09818694740533829\n",
      "regression: 0.32904282212257385\n",
      "binary: 0.04043325409293175\n",
      "regression: 0.22851182520389557\n",
      "binary: 0.05963386595249176\n",
      "regression: 0.27716749906539917\n"
     ]
    },
    {
     "name": "stderr",
     "output_type": "stream",
     "text": [
      "  7%|▋         | 465/7128 [09:40<2:56:52,  1.59s/it]"
     ]
    },
    {
     "name": "stdout",
     "output_type": "stream",
     "text": [
      "binary: 0.10513142496347427\n",
      "regression: 0.3357049822807312\n"
     ]
    },
    {
     "name": "stderr",
     "output_type": "stream",
     "text": [
      "  7%|▋         | 466/7128 [09:41<2:35:04,  1.40s/it]"
     ]
    },
    {
     "name": "stdout",
     "output_type": "stream",
     "text": [
      "binary: 0.08252968639135361\n",
      "regression: 0.3185904324054718\n"
     ]
    },
    {
     "name": "stderr",
     "output_type": "stream",
     "text": [
      "  7%|▋         | 468/7128 [09:44<2:33:31,  1.38s/it]"
     ]
    },
    {
     "name": "stdout",
     "output_type": "stream",
     "text": [
      "binary: 0.05184982717037201\n",
      "regression: 0.1699095219373703\n",
      "binary: 0.026822460815310478\n",
      "regression: 0.09444361180067062\n"
     ]
    },
    {
     "name": "stderr",
     "output_type": "stream",
     "text": [
      "  7%|▋         | 470/7128 [09:45<1:32:04,  1.21it/s]"
     ]
    },
    {
     "name": "stdout",
     "output_type": "stream",
     "text": [
      "binary: 0.04894470050930977\n",
      "regression: 0.1601455807685852\n",
      "binary: 0.08067207783460617\n",
      "regression: 0.19842436909675598\n",
      "binary: 0.05263783037662506\n",
      "regression: 0.1820053905248642\n"
     ]
    },
    {
     "name": "stderr",
     "output_type": "stream",
     "text": [
      "  7%|▋         | 472/7128 [09:45<1:02:55,  1.76it/s]"
     ]
    },
    {
     "name": "stdout",
     "output_type": "stream",
     "text": [
      "binary: 0.11137405037879944\n",
      "regression: 0.3340948224067688\n"
     ]
    },
    {
     "name": "stderr",
     "output_type": "stream",
     "text": [
      "  7%|▋         | 473/7128 [09:50<2:54:18,  1.57s/it]"
     ]
    },
    {
     "name": "stdout",
     "output_type": "stream",
     "text": [
      "binary: 0.030206570401787758\n",
      "regression: 0.11396850645542145\n"
     ]
    },
    {
     "name": "stderr",
     "output_type": "stream",
     "text": [
      "  7%|▋         | 474/7128 [09:51<2:36:24,  1.41s/it]"
     ]
    },
    {
     "name": "stdout",
     "output_type": "stream",
     "text": [
      "binary: 0.06536858528852463\n",
      "regression: 0.2376554012298584\n"
     ]
    },
    {
     "name": "stderr",
     "output_type": "stream",
     "text": [
      "  7%|▋         | 474/7128 [09:52<2:18:35,  1.25s/it]\n"
     ]
    },
    {
     "ename": "KeyboardInterrupt",
     "evalue": "",
     "output_type": "error",
     "traceback": [
      "\u001b[0;31m---------------------------------------------------------------------------\u001b[0m",
      "\u001b[0;31mKeyboardInterrupt\u001b[0m                         Traceback (most recent call last)",
      "Cell \u001b[0;32mIn[36], line 8\u001b[0m\n\u001b[1;32m      2\u001b[0m optimizer \u001b[39m=\u001b[39m torch\u001b[39m.\u001b[39moptim\u001b[39m.\u001b[39mAdamW(\n\u001b[1;32m      3\u001b[0m     model\u001b[39m.\u001b[39mparameters(),\n\u001b[1;32m      4\u001b[0m     lr\u001b[39m=\u001b[39m\u001b[39m1e-4\u001b[39m,\n\u001b[1;32m      5\u001b[0m     weight_decay\u001b[39m=\u001b[39m\u001b[39m.01\u001b[39m\n\u001b[1;32m      6\u001b[0m )\n\u001b[1;32m      7\u001b[0m \u001b[39mfor\u001b[39;00m epoch \u001b[39min\u001b[39;00m \u001b[39mrange\u001b[39m(\u001b[39m5\u001b[39m):\n\u001b[0;32m----> 8\u001b[0m     \u001b[39mfor\u001b[39;00m step, (image_embedding, bbox, _) \u001b[39min\u001b[39;00m \u001b[39menumerate\u001b[39m(tqdm(train_dataloader)):\n\u001b[1;32m      9\u001b[0m         optimizer\u001b[39m.\u001b[39mzero_grad()\n\u001b[1;32m     10\u001b[0m         image_embedding, bbox \u001b[39m=\u001b[39m image_embedding\u001b[39m.\u001b[39mcuda(), bbox\u001b[39m.\u001b[39mcuda()\n",
      "File \u001b[0;32m~/.conda/envs/medsam/lib/python3.10/site-packages/tqdm/std.py:1178\u001b[0m, in \u001b[0;36mtqdm.__iter__\u001b[0;34m(self)\u001b[0m\n\u001b[1;32m   1175\u001b[0m time \u001b[39m=\u001b[39m \u001b[39mself\u001b[39m\u001b[39m.\u001b[39m_time\n\u001b[1;32m   1177\u001b[0m \u001b[39mtry\u001b[39;00m:\n\u001b[0;32m-> 1178\u001b[0m     \u001b[39mfor\u001b[39;00m obj \u001b[39min\u001b[39;00m iterable:\n\u001b[1;32m   1179\u001b[0m         \u001b[39myield\u001b[39;00m obj\n\u001b[1;32m   1180\u001b[0m         \u001b[39m# Update and possibly print the progressbar.\u001b[39;00m\n\u001b[1;32m   1181\u001b[0m         \u001b[39m# Note: does not call self.update(1) for speed optimisation.\u001b[39;00m\n",
      "File \u001b[0;32m~/.conda/envs/medsam/lib/python3.10/site-packages/torch/utils/data/dataloader.py:633\u001b[0m, in \u001b[0;36m_BaseDataLoaderIter.__next__\u001b[0;34m(self)\u001b[0m\n\u001b[1;32m    630\u001b[0m \u001b[39mif\u001b[39;00m \u001b[39mself\u001b[39m\u001b[39m.\u001b[39m_sampler_iter \u001b[39mis\u001b[39;00m \u001b[39mNone\u001b[39;00m:\n\u001b[1;32m    631\u001b[0m     \u001b[39m# TODO(https://github.com/pytorch/pytorch/issues/76750)\u001b[39;00m\n\u001b[1;32m    632\u001b[0m     \u001b[39mself\u001b[39m\u001b[39m.\u001b[39m_reset()  \u001b[39m# type: ignore[call-arg]\u001b[39;00m\n\u001b[0;32m--> 633\u001b[0m data \u001b[39m=\u001b[39m \u001b[39mself\u001b[39;49m\u001b[39m.\u001b[39;49m_next_data()\n\u001b[1;32m    634\u001b[0m \u001b[39mself\u001b[39m\u001b[39m.\u001b[39m_num_yielded \u001b[39m+\u001b[39m\u001b[39m=\u001b[39m \u001b[39m1\u001b[39m\n\u001b[1;32m    635\u001b[0m \u001b[39mif\u001b[39;00m \u001b[39mself\u001b[39m\u001b[39m.\u001b[39m_dataset_kind \u001b[39m==\u001b[39m _DatasetKind\u001b[39m.\u001b[39mIterable \u001b[39mand\u001b[39;00m \\\n\u001b[1;32m    636\u001b[0m         \u001b[39mself\u001b[39m\u001b[39m.\u001b[39m_IterableDataset_len_called \u001b[39mis\u001b[39;00m \u001b[39mnot\u001b[39;00m \u001b[39mNone\u001b[39;00m \u001b[39mand\u001b[39;00m \\\n\u001b[1;32m    637\u001b[0m         \u001b[39mself\u001b[39m\u001b[39m.\u001b[39m_num_yielded \u001b[39m>\u001b[39m \u001b[39mself\u001b[39m\u001b[39m.\u001b[39m_IterableDataset_len_called:\n",
      "File \u001b[0;32m~/.conda/envs/medsam/lib/python3.10/site-packages/torch/utils/data/dataloader.py:1328\u001b[0m, in \u001b[0;36m_MultiProcessingDataLoaderIter._next_data\u001b[0;34m(self)\u001b[0m\n\u001b[1;32m   1325\u001b[0m     \u001b[39mreturn\u001b[39;00m \u001b[39mself\u001b[39m\u001b[39m.\u001b[39m_process_data(data)\n\u001b[1;32m   1327\u001b[0m \u001b[39massert\u001b[39;00m \u001b[39mnot\u001b[39;00m \u001b[39mself\u001b[39m\u001b[39m.\u001b[39m_shutdown \u001b[39mand\u001b[39;00m \u001b[39mself\u001b[39m\u001b[39m.\u001b[39m_tasks_outstanding \u001b[39m>\u001b[39m \u001b[39m0\u001b[39m\n\u001b[0;32m-> 1328\u001b[0m idx, data \u001b[39m=\u001b[39m \u001b[39mself\u001b[39;49m\u001b[39m.\u001b[39;49m_get_data()\n\u001b[1;32m   1329\u001b[0m \u001b[39mself\u001b[39m\u001b[39m.\u001b[39m_tasks_outstanding \u001b[39m-\u001b[39m\u001b[39m=\u001b[39m \u001b[39m1\u001b[39m\n\u001b[1;32m   1330\u001b[0m \u001b[39mif\u001b[39;00m \u001b[39mself\u001b[39m\u001b[39m.\u001b[39m_dataset_kind \u001b[39m==\u001b[39m _DatasetKind\u001b[39m.\u001b[39mIterable:\n\u001b[1;32m   1331\u001b[0m     \u001b[39m# Check for _IterableDatasetStopIteration\u001b[39;00m\n",
      "File \u001b[0;32m~/.conda/envs/medsam/lib/python3.10/site-packages/torch/utils/data/dataloader.py:1284\u001b[0m, in \u001b[0;36m_MultiProcessingDataLoaderIter._get_data\u001b[0;34m(self)\u001b[0m\n\u001b[1;32m   1282\u001b[0m \u001b[39melif\u001b[39;00m \u001b[39mself\u001b[39m\u001b[39m.\u001b[39m_pin_memory:\n\u001b[1;32m   1283\u001b[0m     \u001b[39mwhile\u001b[39;00m \u001b[39mself\u001b[39m\u001b[39m.\u001b[39m_pin_memory_thread\u001b[39m.\u001b[39mis_alive():\n\u001b[0;32m-> 1284\u001b[0m         success, data \u001b[39m=\u001b[39m \u001b[39mself\u001b[39;49m\u001b[39m.\u001b[39;49m_try_get_data()\n\u001b[1;32m   1285\u001b[0m         \u001b[39mif\u001b[39;00m success:\n\u001b[1;32m   1286\u001b[0m             \u001b[39mreturn\u001b[39;00m data\n",
      "File \u001b[0;32m~/.conda/envs/medsam/lib/python3.10/site-packages/torch/utils/data/dataloader.py:1132\u001b[0m, in \u001b[0;36m_MultiProcessingDataLoaderIter._try_get_data\u001b[0;34m(self, timeout)\u001b[0m\n\u001b[1;32m   1119\u001b[0m \u001b[39mdef\u001b[39;00m \u001b[39m_try_get_data\u001b[39m(\u001b[39mself\u001b[39m, timeout\u001b[39m=\u001b[39m_utils\u001b[39m.\u001b[39mMP_STATUS_CHECK_INTERVAL):\n\u001b[1;32m   1120\u001b[0m     \u001b[39m# Tries to fetch data from `self._data_queue` once for a given timeout.\u001b[39;00m\n\u001b[1;32m   1121\u001b[0m     \u001b[39m# This can also be used as inner loop of fetching without timeout, with\u001b[39;00m\n\u001b[0;32m   (...)\u001b[0m\n\u001b[1;32m   1129\u001b[0m     \u001b[39m# Returns a 2-tuple:\u001b[39;00m\n\u001b[1;32m   1130\u001b[0m     \u001b[39m#   (bool: whether successfully get data, any: data if successful else None)\u001b[39;00m\n\u001b[1;32m   1131\u001b[0m     \u001b[39mtry\u001b[39;00m:\n\u001b[0;32m-> 1132\u001b[0m         data \u001b[39m=\u001b[39m \u001b[39mself\u001b[39;49m\u001b[39m.\u001b[39;49m_data_queue\u001b[39m.\u001b[39;49mget(timeout\u001b[39m=\u001b[39;49mtimeout)\n\u001b[1;32m   1133\u001b[0m         \u001b[39mreturn\u001b[39;00m (\u001b[39mTrue\u001b[39;00m, data)\n\u001b[1;32m   1134\u001b[0m     \u001b[39mexcept\u001b[39;00m \u001b[39mException\u001b[39;00m \u001b[39mas\u001b[39;00m e:\n\u001b[1;32m   1135\u001b[0m         \u001b[39m# At timeout and error, we manually check whether any worker has\u001b[39;00m\n\u001b[1;32m   1136\u001b[0m         \u001b[39m# failed. Note that this is the only mechanism for Windows to detect\u001b[39;00m\n\u001b[1;32m   1137\u001b[0m         \u001b[39m# worker failures.\u001b[39;00m\n",
      "File \u001b[0;32m~/.conda/envs/medsam/lib/python3.10/queue.py:180\u001b[0m, in \u001b[0;36mQueue.get\u001b[0;34m(self, block, timeout)\u001b[0m\n\u001b[1;32m    178\u001b[0m         \u001b[39mif\u001b[39;00m remaining \u001b[39m<\u001b[39m\u001b[39m=\u001b[39m \u001b[39m0.0\u001b[39m:\n\u001b[1;32m    179\u001b[0m             \u001b[39mraise\u001b[39;00m Empty\n\u001b[0;32m--> 180\u001b[0m         \u001b[39mself\u001b[39;49m\u001b[39m.\u001b[39;49mnot_empty\u001b[39m.\u001b[39;49mwait(remaining)\n\u001b[1;32m    181\u001b[0m item \u001b[39m=\u001b[39m \u001b[39mself\u001b[39m\u001b[39m.\u001b[39m_get()\n\u001b[1;32m    182\u001b[0m \u001b[39mself\u001b[39m\u001b[39m.\u001b[39mnot_full\u001b[39m.\u001b[39mnotify()\n",
      "File \u001b[0;32m~/.conda/envs/medsam/lib/python3.10/threading.py:324\u001b[0m, in \u001b[0;36mCondition.wait\u001b[0;34m(self, timeout)\u001b[0m\n\u001b[1;32m    322\u001b[0m \u001b[39melse\u001b[39;00m:\n\u001b[1;32m    323\u001b[0m     \u001b[39mif\u001b[39;00m timeout \u001b[39m>\u001b[39m \u001b[39m0\u001b[39m:\n\u001b[0;32m--> 324\u001b[0m         gotit \u001b[39m=\u001b[39m waiter\u001b[39m.\u001b[39;49macquire(\u001b[39mTrue\u001b[39;49;00m, timeout)\n\u001b[1;32m    325\u001b[0m     \u001b[39melse\u001b[39;00m:\n\u001b[1;32m    326\u001b[0m         gotit \u001b[39m=\u001b[39m waiter\u001b[39m.\u001b[39macquire(\u001b[39mFalse\u001b[39;00m)\n",
      "\u001b[0;31mKeyboardInterrupt\u001b[0m: "
     ]
    }
   ],
   "source": [
    "model = BBoxPredictor(num_class = NUM_CLASSES).cuda()\n",
    "optimizer = torch.optim.AdamW(\n",
    "    model.parameters(),\n",
    "    lr=1e-4,\n",
    "    weight_decay=.01\n",
    ")\n",
    "for epoch in range(5):\n",
    "    for step, (image_embedding, bbox, _) in enumerate(tqdm(train_dataloader)):\n",
    "        optimizer.zero_grad()\n",
    "        image_embedding, bbox = image_embedding.cuda(), bbox.cuda()\n",
    "        output = model(image_embedding)\n",
    "        loss = loss_fn(output, bbox)\n",
    "        loss.backward()\n",
    "        optimizer.step()\n",
    "        optimizer.zero_grad()\n",
    "\n"
   ]
  }
 ],
 "metadata": {
  "kernelspec": {
   "display_name": "Python 3",
   "language": "python",
   "name": "python3"
  },
  "language_info": {
   "codemirror_mode": {
    "name": "ipython",
    "version": 3
   },
   "file_extension": ".py",
   "mimetype": "text/x-python",
   "name": "python",
   "nbconvert_exporter": "python",
   "pygments_lexer": "ipython3",
   "version": "3.10.12"
  },
  "orig_nbformat": 4
 },
 "nbformat": 4,
 "nbformat_minor": 2
}
