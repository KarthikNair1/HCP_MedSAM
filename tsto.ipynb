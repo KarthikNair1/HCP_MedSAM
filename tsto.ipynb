{
 "cells": [
  {
   "cell_type": "code",
   "execution_count": 1,
   "metadata": {},
   "outputs": [
    {
     "ename": "NameError",
     "evalue": "name 'PYTHONPATH' is not defined",
     "output_type": "error",
     "traceback": [
      "\u001b[0;31m---------------------------------------------------------------------------\u001b[0m",
      "\u001b[0;31mNameError\u001b[0m                                 Traceback (most recent call last)",
      "Cell \u001b[0;32mIn[1], line 1\u001b[0m\n\u001b[0;32m----> 1\u001b[0m \u001b[38;5;28mprint\u001b[39m(\u001b[43mPYTHONPATH\u001b[49m)\n",
      "\u001b[0;31mNameError\u001b[0m: name 'PYTHONPATH' is not defined"
     ]
    }
   ],
   "source": [
    "print(PYTHONPATH)"
   ]
  },
  {
   "cell_type": "code",
   "execution_count": 14,
   "metadata": {},
   "outputs": [],
   "source": [
    "import sys\n",
    "sys.path.append('./modified_medsam_repo')\n",
    "from segment_anything import sam_model_registry"
   ]
  },
  {
   "cell_type": "code",
   "execution_count": 15,
   "metadata": {},
   "outputs": [
    {
     "data": {
      "text/plain": [
       "['/gpfs/home/kn2347/HCP_MedSAM_project',\n",
       " '/gpfs/home/kn2347/.conda/envs/medsam/lib/python310.zip',\n",
       " '/gpfs/home/kn2347/.conda/envs/medsam/lib/python3.10',\n",
       " '/gpfs/home/kn2347/.conda/envs/medsam/lib/python3.10/lib-dynload',\n",
       " '',\n",
       " '/gpfs/home/kn2347/.conda/envs/medsam/lib/python3.10/site-packages',\n",
       " '/gpfs/home/kn2347/.conda/envs/medsam/lib/python3.10/site-packages/PyQt5_sip-12.11.0-py3.10-linux-x86_64.egg',\n",
       " '/gpfs/home/kn2347/.conda/envs/medsam/lib/python3.10/site-packages/mpmath-1.2.1-py3.10.egg',\n",
       " '/gpfs/home/kn2347/HCP_MedSAM_project/modified_medsam_repo']"
      ]
     },
     "execution_count": 15,
     "metadata": {},
     "output_type": "execute_result"
    }
   ],
   "source": [
    "sys.path"
   ]
  },
  {
   "cell_type": "code",
   "execution_count": 16,
   "metadata": {},
   "outputs": [
    {
     "name": "stderr",
     "output_type": "stream",
     "text": [
      "/gpfs/home/kn2347/.conda/envs/medsam/lib/python3.10/site-packages/tqdm/auto.py:21: TqdmWarning: IProgress not found. Please update jupyter and ipywidgets. See https://ipywidgets.readthedocs.io/en/stable/user_install.html\n",
      "  from .autonotebook import tqdm as notebook_tqdm\n"
     ]
    }
   ],
   "source": [
    "import numpy as np\n",
    "import matplotlib.pyplot as plt\n",
    "import os\n",
    "join = os.path.join\n",
    "from tqdm import tqdm\n",
    "from skimage import transform\n",
    "import torch\n",
    "import torch.nn as nn\n",
    "from torch.utils.data import Dataset, DataLoader\n",
    "import torch.multiprocessing as mp\n",
    "import monai\n",
    "from segment_anything import sam_model_registry\n",
    "import torch.nn.functional as F\n",
    "import argparse\n",
    "import random\n",
    "from datetime import datetime\n",
    "import shutil\n",
    "import glob\n",
    "import pandas as pd\n",
    "import nibabel as nib\n",
    "import pickle\n",
    "import time\n",
    "from PIL import Image\n",
    "from MedSAM_HCP.dataset import MRIDataset_Imgs, load_datasets\n",
    "from MedSAM_HCP.MedSAM import MedSAM\n",
    "from MedSAM_HCP.build_sam import build_sam_vit_b_multiclass\n",
    "from MedSAM_HCP.utils_hcp import *\n",
    "from MedSAM_HCP.loss_funcs_hcp import *\n",
    "\n",
    "import segmentation_models_pytorch as smp\n",
    "from segmentation_models_pytorch.encoders import get_preprocessing_fn\n",
    "from segmentation_models_pytorch.utils.losses import DiceLoss\n",
    "from segmentation_models_pytorch.utils.base import Loss\n",
    "\n",
    "\n",
    "import wandb"
   ]
  },
  {
   "cell_type": "code",
   "execution_count": 2,
   "metadata": {},
   "outputs": [
    {
     "ename": "ModuleNotFoundError",
     "evalue": "No module named 'MedSAM_HCP'",
     "output_type": "error",
     "traceback": [
      "\u001b[0;31m---------------------------------------------------------------------------\u001b[0m",
      "\u001b[0;31mModuleNotFoundError\u001b[0m                       Traceback (most recent call last)",
      "Cell \u001b[0;32mIn[2], line 1\u001b[0m\n\u001b[0;32m----> 1\u001b[0m \u001b[38;5;28;01mfrom\u001b[39;00m \u001b[38;5;21;01mMedSAM_HCP\u001b[39;00m\u001b[38;5;21;01m.\u001b[39;00m\u001b[38;5;21;01mMedSAM\u001b[39;00m \u001b[38;5;28;01mimport\u001b[39;00m MedSAM, logits_to_pred_probs\n",
      "\u001b[0;31mModuleNotFoundError\u001b[0m: No module named 'MedSAM_HCP'"
     ]
    }
   ],
   "source": [
    "from MedSAM_HCP.MedSAM import MedSAM, logits_to_pred_probs"
   ]
  },
  {
   "cell_type": "code",
   "execution_count": 2,
   "metadata": {},
   "outputs": [
    {
     "data": {
      "text/plain": [
       "['/gpfs/home/kn2347/HCP_MedSAM_project',\n",
       " '/gpfs/home/kn2347/.conda/envs/medsam/lib/python310.zip',\n",
       " '/gpfs/home/kn2347/.conda/envs/medsam/lib/python3.10',\n",
       " '/gpfs/home/kn2347/.conda/envs/medsam/lib/python3.10/lib-dynload',\n",
       " '',\n",
       " '/gpfs/home/kn2347/.conda/envs/medsam/lib/python3.10/site-packages',\n",
       " '/gpfs/home/kn2347/.conda/envs/medsam/lib/python3.10/site-packages/PyQt5_sip-12.11.0-py3.10-linux-x86_64.egg',\n",
       " '/gpfs/home/kn2347/.conda/envs/medsam/lib/python3.10/site-packages/mpmath-1.2.1-py3.10.egg']"
      ]
     },
     "execution_count": 2,
     "metadata": {},
     "output_type": "execute_result"
    }
   ],
   "source": [
    "sys.path"
   ]
  },
  {
   "cell_type": "code",
   "execution_count": 5,
   "metadata": {},
   "outputs": [
    {
     "ename": "SyntaxError",
     "evalue": "invalid syntax (886636922.py, line 1)",
     "output_type": "error",
     "traceback": [
      "\u001b[0;36m  Cell \u001b[0;32mIn[5], line 1\u001b[0;36m\u001b[0m\n\u001b[0;31m    gpfs/home/kn2347/.conda/envs/medsam/lib/python3.10/site-packages()\u001b[0m\n\u001b[0m                     ^\u001b[0m\n\u001b[0;31mSyntaxError\u001b[0m\u001b[0;31m:\u001b[0m invalid syntax\n"
     ]
    }
   ],
   "source": [
    "/gpfs/home/kn2347/.conda/envs/medsam/lib/python3.10/site-packages"
   ]
  }
 ],
 "metadata": {
  "kernelspec": {
   "display_name": "Python 3",
   "language": "python",
   "name": "python3"
  },
  "language_info": {
   "codemirror_mode": {
    "name": "ipython",
    "version": 3
   },
   "file_extension": ".py",
   "mimetype": "text/x-python",
   "name": "python",
   "nbconvert_exporter": "python",
   "pygments_lexer": "ipython3",
   "version": "3.10.12"
  }
 },
 "nbformat": 4,
 "nbformat_minor": 2
}
